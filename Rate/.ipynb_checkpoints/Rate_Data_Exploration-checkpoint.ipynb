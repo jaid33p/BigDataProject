{
 "cells": [
  {
   "cell_type": "code",
   "execution_count": 3,
   "metadata": {},
   "outputs": [
    {
     "ename": "ModuleNotFoundError",
     "evalue": "No module named 'ydata_profiling'",
     "output_type": "error",
     "traceback": [
      "\u001b[0;31m---------------------------------------------------------------------------\u001b[0m",
      "\u001b[0;31mModuleNotFoundError\u001b[0m                       Traceback (most recent call last)",
      "Input \u001b[0;32mIn [3]\u001b[0m, in \u001b[0;36m<cell line: 4>\u001b[0;34m()\u001b[0m\n\u001b[1;32m      2\u001b[0m \u001b[38;5;28;01mimport\u001b[39;00m \u001b[38;5;21;01mnumpy\u001b[39;00m \u001b[38;5;28;01mas\u001b[39;00m \u001b[38;5;21;01mnp\u001b[39;00m\n\u001b[1;32m      3\u001b[0m \u001b[38;5;28;01mimport\u001b[39;00m \u001b[38;5;21;01mpandas\u001b[39;00m \u001b[38;5;28;01mas\u001b[39;00m \u001b[38;5;21;01mpd\u001b[39;00m\n\u001b[0;32m----> 4\u001b[0m \u001b[38;5;28;01mfrom\u001b[39;00m \u001b[38;5;21;01mydata_profiling\u001b[39;00m \u001b[38;5;28;01mimport\u001b[39;00m ProfileReport\n",
      "\u001b[0;31mModuleNotFoundError\u001b[0m: No module named 'ydata_profiling'"
     ]
    }
   ],
   "source": [
    "# Import necessary libraries\n",
    "import numpy as np\n",
    "import pandas as pd\n",
    "from ydata_profiling import ProfileReport"
   ]
  },
  {
   "cell_type": "code",
   "execution_count": null,
   "metadata": {},
   "outputs": [],
   "source": [
    "# Define the list of columns to be read from the CSV file\n",
    "rate_fields = ['StateCode','PlanId','IndividualRate','PrimarySubscriberAndThreeOrMoreDependents','BusinessYear','Age','RatingAreaId','Tobacco','SourceName']\n",
    "# Read the CSV in chunks for efficient memory usage\n",
    "rate_chunks = pd.read_csv(\"/Users/muskan/Documents/SOEN 6111/Rate.csv\",iterator=True, chunksize=1000, usecols=rate_fields)\n",
    "# Concatenating all chunks into a single DataFrame\n",
    "rates_concat = pd.concat(chunk for chunk in rate_chunks)"
   ]
  },
  {
   "cell_type": "code",
   "execution_count": null,
   "metadata": {},
   "outputs": [],
   "source": [
    "# Display the first 5 rows to check the data\n",
    "rates_concat.head(5)"
   ]
  },
  {
   "cell_type": "code",
   "execution_count": null,
   "metadata": {},
   "outputs": [],
   "source": [
    "# Listing column names of the DataFrame\n",
    "rates_concat.columns"
   ]
  },
  {
   "cell_type": "markdown",
   "metadata": {},
   "source": []
  },
  {
   "cell_type": "code",
   "execution_count": null,
   "metadata": {},
   "outputs": [],
   "source": [
    "# Prepare the DataFrame for further manipulation\n",
    "df = rates_concat\n",
    "# Create a new column 'tobacco_rate'. If 'Tobacco' column is not 'Tobacco User/Non-Tobacco User', copy 'IndividualRate';\n",
    "# otherwise, increase 'IndividualRate' by 3% to simulate a tobacco surcharge.\n",
    "df['tobacco_rate'] = np.where(df['Tobacco']!= 'Tobacco User/Non-Tobacco User ',df['IndividualRate'],df['IndividualRate']*1.03)\n",
    "# Display the DataFrame to verify changes\n",
    "df.head()"
   ]
  },
  {
   "cell_type": "code",
   "execution_count": null,
   "metadata": {},
   "outputs": [],
   "source": [
    "# Data cleaning for 'Age' column:\n",
    "# Assign -5 to 'Family Option' to mark family plans distinctively.\n",
    "# Replace '0-20' with 10 to represent minors as a single group.\n",
    "# Assign 100 to '65 and over' to distinctly represent seniors.\n",
    "df['Age'] = np.where(df['Age']== 'Family Option',-5,df['Age']) # Family Plan = -5\n",
    "df['Age'] = np.where(df['Age']== '0-20',10,df['Age'])  # Minor = 10 below 20 years of age\n",
    "df['Age'] = np.where(df['Age']== '65 and over',100,df['Age'])  # Old age = 100 more than 65 years of age\n"
   ]
  },
  {
   "cell_type": "code",
   "execution_count": null,
   "metadata": {},
   "outputs": [],
   "source": [
    "# Display the DataFrame to verify changes\n",
    "df.head()"
   ]
  },
  {
   "cell_type": "code",
   "execution_count": null,
   "metadata": {},
   "outputs": [],
   "source": [
    "# Display the shape of the DataFrame to understand its size\n",
    "df.shape"
   ]
  },
  {
   "cell_type": "code",
   "execution_count": null,
   "metadata": {},
   "outputs": [],
   "source": [
    "# Filling missing values in 'PrimarySubscriberAndThreeOrMoreDependents' column with 0\n",
    "df['PrimarySubscriberAndThreeOrMoreDependents']=df['PrimarySubscriberAndThreeOrMoreDependents'].fillna(0) "
   ]
  },
  {
   "cell_type": "code",
   "execution_count": null,
   "metadata": {},
   "outputs": [],
   "source": [
    "# Adjust 'tobacco_rate' for entries with dependents, using the value in 'PrimarySubscriberAndThreeOrMoreDependents' if greater than 0.\n",
    "df['tobacco_rate'] = np.where(df['PrimarySubscriberAndThreeOrMoreDependents'] > 0,df['PrimarySubscriberAndThreeOrMoreDependents'], df['tobacco_rate'])\n",
    "# Normalize 'PrimarySubscriberAndThreeOrMoreDependents' to binary values, 1 if there are dependents and 0 otherwise.\n",
    "df['PrimarySubscriberAndThreeOrMoreDependents'] = np.where(df['PrimarySubscriberAndThreeOrMoreDependents'] > 0,1, df['PrimarySubscriberAndThreeOrMoreDependents'])\n",
    "df"
   ]
  },
  {
   "cell_type": "code",
   "execution_count": null,
   "metadata": {},
   "outputs": [],
   "source": [
    "# Convert 'Age' to integer type for consistency in data types.\n",
    "df.Age = df.Age.astype(int)"
   ]
  },
  {
   "cell_type": "code",
   "execution_count": null,
   "metadata": {},
   "outputs": [],
   "source": [
    "# Generate a profile report for exploratory data analysis, capturing insights about the dataset.\n",
    "profile_final = ProfileReport(df, title=\"Profiling Report Rates CSV\", explorative=True)\n",
    "\n",
    "# Saving the Profile Report as an HTML file\n",
    "profile_final.to_file(\"Rate_Cleaned_Output.html\")"
   ]
  },
  {
   "cell_type": "code",
   "execution_count": null,
   "metadata": {},
   "outputs": [],
   "source": [
    "\n",
    "# Filter rows where 'Tobacco' is 'Tobacco User/Non-Tobacco User' for further manipulation.\n",
    "df_with_filters = df[df['Tobacco'] == 'Tobacco User/Non-Tobacco User']\n",
    "\n",
    "# Create copies of the filtered DataFrame to differentiate between tobacco users and non-users.\n",
    "df_first_half = df_with_filters.copy()\n",
    "df_second_half = df_with_filters.copy()\n",
    "\n",
    "# For the first copy, set 'Tobacco' to 'Tobacco User' for all rows to categorize these entries explicitly.\n",
    "df_first_half.loc[df_first_half.index[:len(df_with_filters)], 'Tobacco'] = 'Tobacco User'\n",
    "\n",
    "# For the second copy, change 'Tobacco' to 'Non-Tobacco User', creating a clear distinction.\n",
    "df_second_half.loc[df_first_half.index[:len(df_with_filters)], 'Tobacco'] = 'Non-Tobacco User'\n",
    "\n",
    "# For 'Non-Tobacco User' rows, align 'tobacco_rate' with 'IndividualRate', effectively undoing the previous surcharge.\n",
    "df_second_half.loc[df_first_half['Tobacco'] == 'Non-Tobacco User', 'tobacco_rate'] = df_second_half.loc[df_first_half['Tobacco'] == 'Non-Tobacco User', 'IndividualRate']\n",
    "\n",
    "# Combine the modified DataFrames with the rest of the dataset, reintegrating the separated tobacco user statuses.\n",
    "df_concat = pd.concat([df_first_half,df_second_half])\n",
    "df_processed = pd.concat([df[df['Tobacco'] != 'Tobacco User/Non-Tobacco User'], df_concat])\n",
    "\n",
    "# Reset the index of the final DataFrame for consistency and ease of data manipulation.\n",
    "df_processed = df_processed.reset_index(drop=True)\n",
    "\n",
    "# Display the modified DataFrame for verification.\n",
    "df_processed"
   ]
  },
  {
   "cell_type": "code",
   "execution_count": null,
   "metadata": {},
   "outputs": [],
   "source": [
    "# Save the cleaned and combined DataFrame to a CSV file for future use.\n",
    "df_processed.to_csv('Rate_Cleaned.csv')"
   ]
  },
  {
   "cell_type": "code",
   "execution_count": null,
   "metadata": {},
   "outputs": [],
   "source": [
    "# Display the head of the final DataFrame to confirm the structure and changes.\n",
    "df_processed.head()"
   ]
  },
  {
   "cell_type": "code",
   "execution_count": null,
   "metadata": {},
   "outputs": [],
   "source": []
  }
 ],
 "metadata": {
  "kernelspec": {
   "display_name": "Python 3 (ipykernel)",
   "language": "python",
   "name": "python3"
  },
  "language_info": {
   "codemirror_mode": {
    "name": "ipython",
    "version": 3
   },
   "file_extension": ".py",
   "mimetype": "text/x-python",
   "name": "python",
   "nbconvert_exporter": "python",
   "pygments_lexer": "ipython3",
   "version": "3.9.12"
  },
  "vscode": {
   "interpreter": {
    "hash": "31f2aee4e71d21fbe5cf8b01ff0e069b9275f58929596ceb00d14d90e3e16cd6"
   }
  }
 },
 "nbformat": 4,
 "nbformat_minor": 1
}
