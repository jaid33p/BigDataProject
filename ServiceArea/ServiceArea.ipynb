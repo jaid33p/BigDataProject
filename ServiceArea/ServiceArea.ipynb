{
 "cells": [
  {
   "cell_type": "code",
   "execution_count": 1,
   "id": "6acb7cd8",
   "metadata": {
    "ExecuteTime": {
     "end_time": "2024-03-26T17:45:08.684276Z",
     "start_time": "2024-03-26T17:45:08.664648Z"
    }
   },
   "outputs": [],
   "source": [
    "import pandas as pd\n",
    "import numpy as np"
   ]
  },
  {
   "cell_type": "code",
   "execution_count": 62,
   "id": "4e2543da",
   "metadata": {
    "ExecuteTime": {
     "end_time": "2024-03-26T17:45:13.955629Z",
     "start_time": "2024-03-26T17:45:13.828907Z"
    }
   },
   "outputs": [],
   "source": [
    "df = pd.read_csv(r'C:\\Users\\tylri\\OneDrive\\Desktop\\big_data_project\\ServiceArea data\\ServiceArea.csv')"
   ]
  },
  {
   "cell_type": "code",
   "execution_count": 63,
   "id": "7b9eac01",
   "metadata": {
    "ExecuteTime": {
     "end_time": "2024-03-26T17:45:15.352189Z",
     "start_time": "2024-03-26T17:45:15.224125Z"
    }
   },
   "outputs": [
    {
     "data": {
      "text/plain": [
       "BusinessYear                      0\n",
       "StateCode                         0\n",
       "IssuerId                          0\n",
       "SourceName                        0\n",
       "VersionNum                        0\n",
       "ImportDate                        0\n",
       "IssuerId2                         0\n",
       "StateCode2                        0\n",
       "ServiceAreaId                     0\n",
       "ServiceAreaName                   0\n",
       "CoverEntireState                  0\n",
       "County                         1795\n",
       "PartialCounty                  1795\n",
       "ZipCodes                      41631\n",
       "PartialCountyJustification    41631\n",
       "RowNumber                         0\n",
       "MarketCoverage                19925\n",
       "DentalOnlyPlan                19925\n",
       "dtype: int64"
      ]
     },
     "execution_count": 63,
     "metadata": {},
     "output_type": "execute_result"
    }
   ],
   "source": [
    "df.head()\n",
    "df.isnull().sum()\n",
    "df = df.fillna(np.nan)\n",
    "df.isnull().sum()"
   ]
  },
  {
   "cell_type": "code",
   "execution_count": 64,
   "id": "b62dbe36",
   "metadata": {
    "ExecuteTime": {
     "end_time": "2024-03-26T17:45:19.426622Z",
     "start_time": "2024-03-26T17:45:19.410983Z"
    }
   },
   "outputs": [
    {
     "data": {
      "text/plain": [
       "BusinessYear\n",
       "2015    17495\n",
       "2016    15878\n",
       "2014     8874\n",
       "Name: count, dtype: int64"
      ]
     },
     "execution_count": 64,
     "metadata": {},
     "output_type": "execute_result"
    }
   ],
   "source": [
    "df['BusinessYear'].value_counts()"
   ]
  },
  {
   "cell_type": "code",
   "execution_count": 65,
   "id": "ac3868a1",
   "metadata": {
    "ExecuteTime": {
     "end_time": "2024-03-26T17:45:21.808628Z",
     "start_time": "2024-03-26T17:45:21.783230Z"
    }
   },
   "outputs": [
    {
     "data": {
      "text/plain": [
       "County\n",
       "26163.0    136\n",
       "26125.0    135\n",
       "26099.0    132\n",
       "26081.0    120\n",
       "26049.0    119\n",
       "          ... \n",
       "30057.0      1\n",
       "30053.0      1\n",
       "30051.0      1\n",
       "30041.0      1\n",
       "54103.0      1\n",
       "Name: count, Length: 2561, dtype: int64"
      ]
     },
     "execution_count": 65,
     "metadata": {},
     "output_type": "execute_result"
    }
   ],
   "source": [
    "df['County'].value_counts()"
   ]
  },
  {
   "cell_type": "code",
   "execution_count": 66,
   "id": "b2ef338c",
   "metadata": {
    "ExecuteTime": {
     "end_time": "2024-03-26T17:45:24.407784Z",
     "start_time": "2024-03-26T17:45:24.389413Z"
    }
   },
   "outputs": [
    {
     "data": {
      "text/plain": [
       "count    40452.000000\n",
       "mean     33383.642515\n",
       "std      13528.213811\n",
       "min       1001.000000\n",
       "25%      22055.000000\n",
       "50%      31133.000000\n",
       "75%      47109.000000\n",
       "max      56045.000000\n",
       "Name: County, dtype: float64"
      ]
     },
     "execution_count": 66,
     "metadata": {},
     "output_type": "execute_result"
    }
   ],
   "source": [
    "df['County'].describe()"
   ]
  },
  {
   "cell_type": "code",
   "execution_count": 67,
   "id": "4f2ee9f0",
   "metadata": {
    "ExecuteTime": {
     "end_time": "2024-03-26T17:45:26.479166Z",
     "start_time": "2024-03-26T17:45:26.471174Z"
    }
   },
   "outputs": [],
   "source": [
    "# df['County'].fillna(method='ffill', inplace=True)\n",
    "df['County'] = df['County'].ffill()\n"
   ]
  },
  {
   "cell_type": "code",
   "execution_count": 68,
   "id": "c20157e0",
   "metadata": {
    "ExecuteTime": {
     "end_time": "2024-03-26T17:45:27.932413Z",
     "start_time": "2024-03-26T17:45:27.842437Z"
    }
   },
   "outputs": [],
   "source": [
    "df.drop_duplicates(inplace=True)"
   ]
  },
  {
   "cell_type": "code",
   "execution_count": 69,
   "id": "82ed2de6",
   "metadata": {
    "ExecuteTime": {
     "end_time": "2024-03-26T17:45:29.502541Z",
     "start_time": "2024-03-26T17:45:29.487269Z"
    }
   },
   "outputs": [
    {
     "data": {
      "text/plain": [
       "PartialCounty\n",
       "No     39837\n",
       "Yes      615\n",
       "Name: count, dtype: int64"
      ]
     },
     "execution_count": 69,
     "metadata": {},
     "output_type": "execute_result"
    }
   ],
   "source": [
    "df['PartialCounty'].value_counts()"
   ]
  },
  {
   "cell_type": "code",
   "execution_count": 70,
   "id": "db02e98c",
   "metadata": {
    "ExecuteTime": {
     "end_time": "2024-03-26T17:45:31.502129Z",
     "start_time": "2024-03-26T17:45:31.486795Z"
    }
   },
   "outputs": [],
   "source": [
    "# df['PartialCounty'].fillna(df['PartialCounty'].mode()[0], inplace=True)\n",
    "df['PartialCounty'] = df['PartialCounty'].fillna(df['PartialCounty'].mode()[0])\n"
   ]
  },
  {
   "cell_type": "code",
   "execution_count": 71,
   "id": "d3cbc851",
   "metadata": {
    "ExecuteTime": {
     "end_time": "2024-03-26T17:45:33.923149Z",
     "start_time": "2024-03-26T17:45:33.896170Z"
    }
   },
   "outputs": [
    {
     "data": {
      "text/plain": [
       "count                            616\n",
       "unique                           276\n",
       "top       22125, 22191, 22192, 22194\n",
       "freq                              27\n",
       "Name: ZipCodes, dtype: object"
      ]
     },
     "execution_count": 71,
     "metadata": {},
     "output_type": "execute_result"
    }
   ],
   "source": [
    "df['ZipCodes'].describe()"
   ]
  },
  {
   "cell_type": "code",
   "execution_count": 72,
   "id": "6bfd18b6",
   "metadata": {
    "ExecuteTime": {
     "end_time": "2024-03-26T17:45:35.662237Z",
     "start_time": "2024-03-26T17:45:35.646551Z"
    }
   },
   "outputs": [
    {
     "data": {
      "text/plain": [
       "ZipCodes\n",
       "22125, 22191, 22192, 22194                                                                                                                                                                                                                                                                                                                                                                         27\n",
       "22003, 22009, 22015, 22027, 22031, 22032, 22034, 22035, 22036, 22037, 22039, 22041, 22042, 22043, 22044, 22060, 22079, 22081, 22082, 22101, 22102, 22103, 22106, 22107, 22108, 22109, 22116, 22118, 22119, 22121, 22122, 22124, 22150, 22151, 22152, 22153, 22156, 22158, 22159, 22160, 22161, 22180, 22181, 22182, 22183, 22185, 22199, 22303, 22306, 22307, 22308, 22309, 22310, 22312, 22315    26\n",
       "16666, 16686, 16829, 16845, 16859, 16860, 16874, 16877                                                                                                                                                                                                                                                                                                                                             21\n",
       "20120, 20121, 20122, 20124, 20151, 20153, 20170, 20171, 20172, 20190, 20191, 20192, 20194, 20195, 20196, 22030, 22033, 22035, 22039, 22066, 22067, 22079, 22095, 22096, 22101, 22102, 22103, 22106, 22107, 22108, 22109, 22124, 22180, 22181, 22182, 22183, 22199                                                                                                                                  18\n",
       "20041, 20598                                                                                                                                                                                                                                                                                                                                                                                       18\n",
       "                                                                                                                                                                                                                                                                                                                                                                                                   ..\n",
       "68316, 68367                                                                                                                                                                                                                                                                                                                                                                                        1\n",
       "68366                                                                                                                                                                                                                                                                                                                                                                                               1\n",
       "68313, 68314, 68330, 68339, 68343, 68359, 68360, 68364, 68367, 68405, 68423, 68428, 68434, 68439, 68456, 68460, 68528                                                                                                                                                                                                                                                                               1\n",
       "68303, 68315, 68322, 68325, 68326, 68327, 68335, 68340, 68362, 68370, 68375, 68416, 68429, 68453                                                                                                                                                                                                                                                                                                    1\n",
       "68319, 68371                                                                                                                                                                                                                                                                                                                                                                                        1\n",
       "Name: count, Length: 276, dtype: int64"
      ]
     },
     "execution_count": 72,
     "metadata": {},
     "output_type": "execute_result"
    }
   ],
   "source": [
    "df['ZipCodes'].value_counts()"
   ]
  },
  {
   "cell_type": "code",
   "execution_count": 73,
   "id": "9f3231d2",
   "metadata": {
    "ExecuteTime": {
     "end_time": "2024-03-26T17:45:38.659081Z",
     "start_time": "2024-03-26T17:45:38.641086Z"
    }
   },
   "outputs": [],
   "source": [
    "df.drop('ZipCodes', axis=1, inplace=True)"
   ]
  },
  {
   "cell_type": "code",
   "execution_count": 74,
   "id": "2c82559b",
   "metadata": {
    "ExecuteTime": {
     "end_time": "2024-03-26T17:45:41.956856Z",
     "start_time": "2024-03-26T17:45:41.935365Z"
    }
   },
   "outputs": [
    {
     "data": {
      "text/plain": [
       "PartialCountyJustification\n",
       "see upload for VAS001 Justification                                                                                                                                                                                                                                                                                                                                                                                                        81\n",
       "19524-Partial County.doc                                                                                                                                                                                                                                                                                                                                                                                                                   47\n",
       "The hospital coverage is not sufficient to cover the entire county within DIFS 30 minute guideline.                                                                                                                                                                                                                                                                                                                                        38\n",
       "We cannot establish economically viable contracts with sufficient providers or types of providers in these areas to serve an entire county.  Our dental PPO plans offer lower cost-sharing when Insureds obtain care from a network provider.                                                                                                                                                                                              29\n",
       "We cannot establish economically viable contracts with sufficient providers or types of providers in these areas to serve an entire county.  Our dental PPO plans offer lower cost-sharing when Insureds obtain care from a network provider.  It is in the best interest of potential enrollees that only those who can access a network provider can purchase our dental PPO plans.                                                      28\n",
       "                                                                                                                                                                                                                                                                                                                                                                                                                                           ..\n",
       "This issuer actually does cover the entire county however the coverage resides in a different service area.  Please see the coverage of the remaining ZIPs in zone F.                                                                                                                                                                                                                                                                       1\n",
       "This issuer actually does cover the entire county however the coverage resides in a different service area.  Please see the coverage of the remaining ZIPs in zone C.                                                                                                                                                                                                                                                                       1\n",
       "See Upload for Marinette - 55075 Justification                                                                                                                                                                                                                                                                                                                                                                                              1\n",
       "See Upload for Calumet - 55015 Justification                                                                                                                                                                                                                                                                                                                                                                                                1\n",
       "This is to advise we are required to have contracted providers within a reasonable distance to the member's home or work address.  We are unable to meet the maximum mileage guidelines to ensure access and availability to covered services within New Jersey zip codes 07826, 07890, 07881, 07851 or 07827 nor are out-of-network services available under the Plan within New Jersey zip codes 07826, 07890, 07881, 07851 or 07827.     1\n",
       "Name: count, Length: 100, dtype: int64"
      ]
     },
     "execution_count": 74,
     "metadata": {},
     "output_type": "execute_result"
    }
   ],
   "source": [
    "df['PartialCountyJustification'].value_counts()"
   ]
  },
  {
   "cell_type": "code",
   "execution_count": 75,
   "id": "76666257",
   "metadata": {
    "ExecuteTime": {
     "end_time": "2024-03-26T17:45:44.699158Z",
     "start_time": "2024-03-26T17:45:44.680112Z"
    }
   },
   "outputs": [
    {
     "data": {
      "text/plain": [
       "count                                     616\n",
       "unique                                    100\n",
       "top       see upload for VAS001 Justification\n",
       "freq                                       81\n",
       "Name: PartialCountyJustification, dtype: object"
      ]
     },
     "execution_count": 75,
     "metadata": {},
     "output_type": "execute_result"
    }
   ],
   "source": [
    "df['PartialCountyJustification'].describe()"
   ]
  },
  {
   "cell_type": "code",
   "execution_count": 76,
   "id": "de073aeb",
   "metadata": {
    "ExecuteTime": {
     "end_time": "2024-03-26T17:45:47.066979Z",
     "start_time": "2024-03-26T17:45:47.048081Z"
    }
   },
   "outputs": [],
   "source": [
    "df.drop('PartialCountyJustification', axis=1, inplace=True)"
   ]
  },
  {
   "cell_type": "code",
   "execution_count": 77,
   "id": "d381982f",
   "metadata": {
    "ExecuteTime": {
     "end_time": "2024-03-26T17:45:49.094383Z",
     "start_time": "2024-03-26T17:45:49.078024Z"
    }
   },
   "outputs": [
    {
     "data": {
      "text/plain": [
       "MarketCoverage\n",
       "Individual            12813\n",
       "SHOP (Small Group)     9509\n",
       "Name: count, dtype: int64"
      ]
     },
     "execution_count": 77,
     "metadata": {},
     "output_type": "execute_result"
    }
   ],
   "source": [
    "df['MarketCoverage'].value_counts()"
   ]
  },
  {
   "cell_type": "code",
   "execution_count": 78,
   "id": "c5ec29dd",
   "metadata": {
    "ExecuteTime": {
     "end_time": "2024-03-26T17:45:50.898396Z",
     "start_time": "2024-03-26T17:45:50.873797Z"
    }
   },
   "outputs": [],
   "source": [
    "df = df.dropna(subset=['MarketCoverage'])"
   ]
  },
  {
   "cell_type": "code",
   "execution_count": 79,
   "id": "ced29463",
   "metadata": {
    "ExecuteTime": {
     "end_time": "2024-03-26T17:45:55.607911Z",
     "start_time": "2024-03-26T17:45:55.594677Z"
    }
   },
   "outputs": [
    {
     "data": {
      "text/plain": [
       "<bound method NDFrame.describe of 3317      No\n",
       "3318      No\n",
       "3383      No\n",
       "3385      No\n",
       "3386      No\n",
       "        ... \n",
       "42242    Yes\n",
       "42243    Yes\n",
       "42244    Yes\n",
       "42245    Yes\n",
       "42246    Yes\n",
       "Name: DentalOnlyPlan, Length: 22322, dtype: object>"
      ]
     },
     "execution_count": 79,
     "metadata": {},
     "output_type": "execute_result"
    }
   ],
   "source": [
    "df[\"DentalOnlyPlan\"].describe"
   ]
  },
  {
   "cell_type": "code",
   "execution_count": 80,
   "id": "237b4041",
   "metadata": {
    "ExecuteTime": {
     "end_time": "2024-03-26T17:45:59.255714Z",
     "start_time": "2024-03-26T17:45:59.244365Z"
    }
   },
   "outputs": [
    {
     "data": {
      "text/plain": [
       "0"
      ]
     },
     "execution_count": 80,
     "metadata": {},
     "output_type": "execute_result"
    }
   ],
   "source": [
    "df['DentalOnlyPlan'].isnull().sum()"
   ]
  },
  {
   "cell_type": "code",
   "execution_count": 81,
   "id": "d7d4f5df",
   "metadata": {
    "ExecuteTime": {
     "end_time": "2024-03-26T17:46:01.385183Z",
     "start_time": "2024-03-26T17:46:01.360938Z"
    }
   },
   "outputs": [
    {
     "name": "stderr",
     "output_type": "stream",
     "text": [
      "C:\\Users\\tylri\\AppData\\Local\\Temp\\ipykernel_14904\\43071387.py:2: FutureWarning: Downcasting behavior in `replace` is deprecated and will be removed in a future version. To retain the old behavior, explicitly call `result.infer_objects(copy=False)`. To opt-in to the future behavior, set `pd.set_option('future.no_silent_downcasting', True)`\n",
      "  df['DentalOnlyPlan'] = df['DentalOnlyPlan'].replace({'Yes': True, 'No': False}).infer_objects(copy=False)\n"
     ]
    }
   ],
   "source": [
    "# df['DentalOnlyPlan'] = df['DentalOnlyPlan'].replace({'Yes': True, 'No': False})\n",
    "df['DentalOnlyPlan'] = df['DentalOnlyPlan'].replace({'Yes': True, 'No': False}).infer_objects(copy=False)\n"
   ]
  },
  {
   "cell_type": "code",
   "execution_count": 82,
   "id": "db72bda0",
   "metadata": {
    "ExecuteTime": {
     "end_time": "2024-03-26T17:46:13.789003Z",
     "start_time": "2024-03-26T17:46:13.764315Z"
    }
   },
   "outputs": [],
   "source": [
    "median_value = df['DentalOnlyPlan'].median()\n",
    "# df['DentalOnlyPlan'].fillna(median_value, inplace=True)\n",
    "df['DentalOnlyPlan'] = df['DentalOnlyPlan'].fillna(median_value)\n"
   ]
  },
  {
   "cell_type": "code",
   "execution_count": 83,
   "id": "5d82dadb",
   "metadata": {
    "ExecuteTime": {
     "end_time": "2024-03-26T17:46:15.523244Z",
     "start_time": "2024-03-26T17:46:15.309195Z"
    }
   },
   "outputs": [
    {
     "name": "stdout",
     "output_type": "stream",
     "text": [
      "   BusinessYear StateCode  IssuerId SourceName  VersionNum  \\\n",
      "0          2014        ME     48396        OPM           2   \n",
      "1          2014        ME     48396        OPM           2   \n",
      "2          2014        ME     48396        OPM           2   \n",
      "3          2014        AK     38344        OPM           2   \n",
      "4          2014        AK     38344        OPM           2   \n",
      "\n",
      "            ImportDate  IssuerId2 StateCode2 ServiceAreaId  \\\n",
      "0  2013-11-29 08:33:31      48396         ME        MES001   \n",
      "1  2013-11-29 08:33:31      48396         ME        MES001   \n",
      "2  2013-11-29 08:33:31      48396         ME        MES001   \n",
      "3  2013-10-16 19:58:29      38344         AK        AKS001   \n",
      "4  2013-10-16 19:58:29      38344         AK        AKS001   \n",
      "\n",
      "                            ServiceAreaName CoverEntireState   County  \\\n",
      "0  Anthem Health Plans of ME South Counties               No  23011.0   \n",
      "1  Anthem Health Plans of ME South Counties               No  23017.0   \n",
      "2  Anthem Health Plans of ME South Counties               No  23001.0   \n",
      "3                           AK Service Area              Yes  23001.0   \n",
      "4                           AK Service Area              Yes  23001.0   \n",
      "\n",
      "  PartialCounty  RowNumber      MarketCoverage  DentalOnlyPlan  \n",
      "0            No         17          Individual           False  \n",
      "1            No         18          Individual           False  \n",
      "2            No         19          Individual           False  \n",
      "3            No         13          Individual           False  \n",
      "4            No         13  SHOP (Small Group)           False  \n"
     ]
    }
   ],
   "source": [
    "cleaned_file_path = 'ServiceAreas_Cleaned.csv'\n",
    "df.to_csv(cleaned_file_path, index=False)\n",
    "\n",
    "# Load the cleaned data from the new CSV file to verify\n",
    "df_cleaned = pd.read_csv(cleaned_file_path)\n",
    "print(df_cleaned.head())"
   ]
  },
  {
   "cell_type": "code",
   "execution_count": null,
   "id": "c71f4a0b",
   "metadata": {},
   "outputs": [],
   "source": []
  }
 ],
 "metadata": {
  "kernelspec": {
   "display_name": "Python 3 (ipykernel)",
   "language": "python",
   "name": "python3"
  },
  "language_info": {
   "codemirror_mode": {
    "name": "ipython",
    "version": 3
   },
   "file_extension": ".py",
   "mimetype": "text/x-python",
   "name": "python",
   "nbconvert_exporter": "python",
   "pygments_lexer": "ipython3",
   "version": "3.12.2"
  }
 },
 "nbformat": 4,
 "nbformat_minor": 5
}
