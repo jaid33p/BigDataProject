{
  "cells": [
    {
      "cell_type": "code",
      "execution_count": 1,
      "metadata": {
        "id": "IfGXK28T3UZZ"
      },
      "outputs": [],
      "source": [
        "import pandas as pd\n",
        "import numpy as np"
      ]
    },
    {
      "cell_type": "code",
      "execution_count": 3,
      "metadata": {
        "id": "b25tZrbA3AFE"
      },
      "outputs": [],
      "source": [
        "# Reading 5000 rows of the CSV file \n",
        "data=pd.read_csv('BenefitsCostSharing.csv',nrows=5000)"
      ]
    },
    {
      "cell_type": "code",
      "execution_count": 4,
      "metadata": {
        "id": "gpktMGt_3JDI"
      },
      "outputs": [],
      "source": [
        "cols=data.columns.tolist()"
      ]
    },
    {
      "cell_type": "code",
      "execution_count": 5,
      "metadata": {
        "colab": {
          "base_uri": "https://localhost:8080/"
        },
        "id": "fmYpa34E3JgY",
        "outputId": "4cc6fd1e-1281-4ea0-9bf6-fedc051cb483"
      },
      "outputs": [
        {
          "name": "stdout",
          "output_type": "stream",
          "text": [
            "BenefitName               0\n",
            "BusinessYear              0\n",
            "CoinsInnTier1          1379\n",
            "CoinsInnTier2          5000\n",
            "CoinsOutofNet          1379\n",
            "CopayInnTier1          1379\n",
            "CopayInnTier2          5000\n",
            "CopayOutofNet          1379\n",
            "EHBVarReason           3601\n",
            "Exclusions             4997\n",
            "Explanation            4871\n",
            "ImportDate                0\n",
            "IsCovered              1327\n",
            "IsEHB                  2549\n",
            "IsExclFromInnMOOP      1379\n",
            "IsExclFromOonMOOP      1379\n",
            "IsStateMandate         4519\n",
            "IsSubjToDedTier1       1379\n",
            "IsSubjToDedTier2       1379\n",
            "IssuerId                  0\n",
            "IssuerId2                 0\n",
            "LimitQty               4378\n",
            "LimitUnit              4378\n",
            "MinimumStay            5000\n",
            "PlanId                    0\n",
            "QuantLimitOnSvc        4378\n",
            "RowNumber                 0\n",
            "SourceName                0\n",
            "StandardComponentId       0\n",
            "StateCode                 0\n",
            "StateCode2                0\n",
            "VersionNum                0\n",
            "dtype: int64\n"
          ]
        }
      ],
      "source": [
        "print(data.isnull().sum())"
      ]
    },
    {
      "cell_type": "code",
      "execution_count": 6,
      "metadata": {
        "colab": {
          "base_uri": "https://localhost:8080/"
        },
        "id": "RGdRHCYY3L25",
        "outputId": "8b2b0a39-25e1-4316-9247-76080f8f4885"
      },
      "outputs": [
        {
          "name": "stdout",
          "output_type": "stream",
          "text": [
            "BenefitName percentage: 0.0\n",
            "BusinessYear percentage: 0.0\n",
            "CoinsInnTier1 percentage: 27.58\n",
            "CoinsInnTier2 percentage: 100.0\n",
            "CoinsOutofNet percentage: 27.58\n",
            "CopayInnTier1 percentage: 27.58\n",
            "CopayInnTier2 percentage: 100.0\n",
            "CopayOutofNet percentage: 27.58\n",
            "EHBVarReason percentage: 72.02\n",
            "Exclusions percentage: 99.94\n",
            "Explanation percentage: 97.42\n",
            "ImportDate percentage: 0.0\n",
            "IsCovered percentage: 26.540000000000003\n",
            "IsEHB percentage: 50.980000000000004\n",
            "IsExclFromInnMOOP percentage: 27.58\n",
            "IsExclFromOonMOOP percentage: 27.58\n",
            "IsStateMandate percentage: 90.38000000000001\n",
            "IsSubjToDedTier1 percentage: 27.58\n",
            "IsSubjToDedTier2 percentage: 27.58\n",
            "IssuerId percentage: 0.0\n",
            "IssuerId2 percentage: 0.0\n",
            "LimitQty percentage: 87.56\n",
            "LimitUnit percentage: 87.56\n",
            "MinimumStay percentage: 100.0\n",
            "PlanId percentage: 0.0\n",
            "QuantLimitOnSvc percentage: 87.56\n",
            "RowNumber percentage: 0.0\n",
            "SourceName percentage: 0.0\n",
            "StandardComponentId percentage: 0.0\n",
            "StateCode percentage: 0.0\n",
            "StateCode2 percentage: 0.0\n",
            "VersionNum percentage: 0.0\n"
          ]
        }
      ],
      "source": [
        "# Iterate over each column in the DataFrame and calculate the percentage of null values\n",
        "for c in data.columns:\n",
        "    # Compute the percentage of null values for the current column\n",
        "    null_percentage = data[c].isnull().mean() * 100\n",
        "    # Print the column name and its corresponding null percentage\n",
        "    print(\"{c} percentage: {null_percentage}\".format(c=c, null_percentage=null_percentage))"
      ]
    },
    {
      "cell_type": "code",
      "execution_count": 7,
      "metadata": {
        "id": "99mw5ay33O8s"
      },
      "outputs": [],
      "source": [
        "# Dropping specified columns from the DataFrame 'data'\n",
        "data=data.drop(['CoinsInnTier1','CoinsInnTier2','CoinsOutofNet','Exclusions','QuantLimitOnSvc','Explanation','EHBVarReason','IsExclFromInnMOOP','IsExclFromOonMOOP','LimitQty','LimitUnit','CopayInnTier1','CopayInnTier2','CopayOutofNet','ImportDate','IsSubjToDedTier1','IsSubjToDedTier2','IssuerId','IssuerId2','MinimumStay','RowNumber','StandardComponentId','StateCode2','VersionNum'],axis=1)"
      ]
    },
    {
      "cell_type": "code",
      "execution_count": 8,
      "metadata": {
        "colab": {
          "base_uri": "https://localhost:8080/",
          "height": 423
        },
        "id": "fFDwYR9I3ZbB",
        "outputId": "b51e7b1d-f552-4b3b-b39c-034c9608115e"
      },
      "outputs": [
        {
          "data": {
            "text/html": [
              "<div>\n",
              "<style scoped>\n",
              "    .dataframe tbody tr th:only-of-type {\n",
              "        vertical-align: middle;\n",
              "    }\n",
              "\n",
              "    .dataframe tbody tr th {\n",
              "        vertical-align: top;\n",
              "    }\n",
              "\n",
              "    .dataframe thead th {\n",
              "        text-align: right;\n",
              "    }\n",
              "</style>\n",
              "<table border=\"1\" class=\"dataframe\">\n",
              "  <thead>\n",
              "    <tr style=\"text-align: right;\">\n",
              "      <th></th>\n",
              "      <th>BenefitName</th>\n",
              "      <th>BusinessYear</th>\n",
              "      <th>IsCovered</th>\n",
              "      <th>IsEHB</th>\n",
              "      <th>IsStateMandate</th>\n",
              "      <th>PlanId</th>\n",
              "      <th>SourceName</th>\n",
              "      <th>StateCode</th>\n",
              "    </tr>\n",
              "  </thead>\n",
              "  <tbody>\n",
              "    <tr>\n",
              "      <th>0</th>\n",
              "      <td>Routine Dental Services (Adult)</td>\n",
              "      <td>2014</td>\n",
              "      <td>Covered</td>\n",
              "      <td>NaN</td>\n",
              "      <td>NaN</td>\n",
              "      <td>21989AK0010001-00</td>\n",
              "      <td>HIOS</td>\n",
              "      <td>AK</td>\n",
              "    </tr>\n",
              "    <tr>\n",
              "      <th>1</th>\n",
              "      <td>Dental Check-Up for Children</td>\n",
              "      <td>2014</td>\n",
              "      <td>Covered</td>\n",
              "      <td>Yes</td>\n",
              "      <td>NaN</td>\n",
              "      <td>21989AK0010001-00</td>\n",
              "      <td>HIOS</td>\n",
              "      <td>AK</td>\n",
              "    </tr>\n",
              "    <tr>\n",
              "      <th>2</th>\n",
              "      <td>Basic Dental Care - Child</td>\n",
              "      <td>2014</td>\n",
              "      <td>Covered</td>\n",
              "      <td>Yes</td>\n",
              "      <td>NaN</td>\n",
              "      <td>21989AK0010001-00</td>\n",
              "      <td>HIOS</td>\n",
              "      <td>AK</td>\n",
              "    </tr>\n",
              "    <tr>\n",
              "      <th>3</th>\n",
              "      <td>Orthodontia - Child</td>\n",
              "      <td>2014</td>\n",
              "      <td>Covered</td>\n",
              "      <td>NaN</td>\n",
              "      <td>NaN</td>\n",
              "      <td>21989AK0010001-00</td>\n",
              "      <td>HIOS</td>\n",
              "      <td>AK</td>\n",
              "    </tr>\n",
              "    <tr>\n",
              "      <th>4</th>\n",
              "      <td>Major Dental Care - Child</td>\n",
              "      <td>2014</td>\n",
              "      <td>Covered</td>\n",
              "      <td>Yes</td>\n",
              "      <td>NaN</td>\n",
              "      <td>21989AK0010001-00</td>\n",
              "      <td>HIOS</td>\n",
              "      <td>AK</td>\n",
              "    </tr>\n",
              "    <tr>\n",
              "      <th>...</th>\n",
              "      <td>...</td>\n",
              "      <td>...</td>\n",
              "      <td>...</td>\n",
              "      <td>...</td>\n",
              "      <td>...</td>\n",
              "      <td>...</td>\n",
              "      <td>...</td>\n",
              "      <td>...</td>\n",
              "    </tr>\n",
              "    <tr>\n",
              "      <th>4995</th>\n",
              "      <td>Radiation</td>\n",
              "      <td>2014</td>\n",
              "      <td>Covered</td>\n",
              "      <td>NaN</td>\n",
              "      <td>NaN</td>\n",
              "      <td>73836AK0680019-01</td>\n",
              "      <td>HIOS</td>\n",
              "      <td>AK</td>\n",
              "    </tr>\n",
              "    <tr>\n",
              "      <th>4996</th>\n",
              "      <td>Diabetes Education</td>\n",
              "      <td>2014</td>\n",
              "      <td>Covered</td>\n",
              "      <td>NaN</td>\n",
              "      <td>NaN</td>\n",
              "      <td>73836AK0680019-01</td>\n",
              "      <td>HIOS</td>\n",
              "      <td>AK</td>\n",
              "    </tr>\n",
              "    <tr>\n",
              "      <th>4997</th>\n",
              "      <td>Prosthetic Devices</td>\n",
              "      <td>2014</td>\n",
              "      <td>Covered</td>\n",
              "      <td>NaN</td>\n",
              "      <td>NaN</td>\n",
              "      <td>73836AK0680019-01</td>\n",
              "      <td>HIOS</td>\n",
              "      <td>AK</td>\n",
              "    </tr>\n",
              "    <tr>\n",
              "      <th>4998</th>\n",
              "      <td>Infusion Therapy</td>\n",
              "      <td>2014</td>\n",
              "      <td>Covered</td>\n",
              "      <td>NaN</td>\n",
              "      <td>NaN</td>\n",
              "      <td>73836AK0680019-01</td>\n",
              "      <td>HIOS</td>\n",
              "      <td>AK</td>\n",
              "    </tr>\n",
              "    <tr>\n",
              "      <th>4999</th>\n",
              "      <td>Treatment for Temporomandibular Joint Disorders</td>\n",
              "      <td>2014</td>\n",
              "      <td>NaN</td>\n",
              "      <td>NaN</td>\n",
              "      <td>NaN</td>\n",
              "      <td>73836AK0680019-01</td>\n",
              "      <td>HIOS</td>\n",
              "      <td>AK</td>\n",
              "    </tr>\n",
              "  </tbody>\n",
              "</table>\n",
              "<p>5000 rows × 8 columns</p>\n",
              "</div>"
            ],
            "text/plain": [
              "                                          BenefitName  BusinessYear IsCovered  \\\n",
              "0                     Routine Dental Services (Adult)          2014   Covered   \n",
              "1                        Dental Check-Up for Children          2014   Covered   \n",
              "2                           Basic Dental Care - Child          2014   Covered   \n",
              "3                                 Orthodontia - Child          2014   Covered   \n",
              "4                           Major Dental Care - Child          2014   Covered   \n",
              "...                                               ...           ...       ...   \n",
              "4995                                        Radiation          2014   Covered   \n",
              "4996                               Diabetes Education          2014   Covered   \n",
              "4997                               Prosthetic Devices          2014   Covered   \n",
              "4998                                 Infusion Therapy          2014   Covered   \n",
              "4999  Treatment for Temporomandibular Joint Disorders          2014       NaN   \n",
              "\n",
              "     IsEHB IsStateMandate             PlanId SourceName StateCode  \n",
              "0      NaN            NaN  21989AK0010001-00       HIOS        AK  \n",
              "1      Yes            NaN  21989AK0010001-00       HIOS        AK  \n",
              "2      Yes            NaN  21989AK0010001-00       HIOS        AK  \n",
              "3      NaN            NaN  21989AK0010001-00       HIOS        AK  \n",
              "4      Yes            NaN  21989AK0010001-00       HIOS        AK  \n",
              "...    ...            ...                ...        ...       ...  \n",
              "4995   NaN            NaN  73836AK0680019-01       HIOS        AK  \n",
              "4996   NaN            NaN  73836AK0680019-01       HIOS        AK  \n",
              "4997   NaN            NaN  73836AK0680019-01       HIOS        AK  \n",
              "4998   NaN            NaN  73836AK0680019-01       HIOS        AK  \n",
              "4999   NaN            NaN  73836AK0680019-01       HIOS        AK  \n",
              "\n",
              "[5000 rows x 8 columns]"
            ]
          },
          "execution_count": 8,
          "metadata": {},
          "output_type": "execute_result"
        }
      ],
      "source": [
        "data"
      ]
    },
    {
      "cell_type": "code",
      "execution_count": 9,
      "metadata": {
        "id": "hbjPfYKH3b-P"
      },
      "outputs": [],
      "source": [
        "# Filling missing values in the 'IsEHB' column with 'No'\n",
        "data['IsEHB']=data['IsEHB'].fillna('No')"
      ]
    },
    {
      "cell_type": "code",
      "execution_count": 10,
      "metadata": {
        "id": "CV3hh1ZR3e1E"
      },
      "outputs": [],
      "source": [
        "# Mapping values in the 'IsEHB' column to numeric values\n",
        "data['IsEHB']=data['IsEHB'].map({'Yes':1,'No':0})"
      ]
    },
    {
      "cell_type": "code",
      "execution_count": 11,
      "metadata": {
        "id": "u_TtgjE73gt8"
      },
      "outputs": [],
      "source": [
        "# Filling missing values in the 'IsCovered' column with '0'\n",
        "data['IsCovered']=data['IsCovered'].fillna('0')"
      ]
    },
    {
      "cell_type": "code",
      "execution_count": 12,
      "metadata": {
        "id": "cinHorqq3iZQ"
      },
      "outputs": [],
      "source": [
        "# Mapping values in the 'IsCovered' column to numeric values\n",
        "data['IsCovered']=data['IsCovered'].map({'Covered':1,'Not Covered':0,'0':0})"
      ]
    },
    {
      "cell_type": "code",
      "execution_count": 13,
      "metadata": {
        "colab": {
          "base_uri": "https://localhost:8080/"
        },
        "id": "gXhevhv83kfk",
        "outputId": "abd3e2ec-bef4-4f9d-a906-6fe417e99929"
      },
      "outputs": [
        {
          "data": {
            "text/plain": [
              "array([nan, 'Yes'], dtype=object)"
            ]
          },
          "execution_count": 13,
          "metadata": {},
          "output_type": "execute_result"
        }
      ],
      "source": [
        "data['IsStateMandate'].unique()"
      ]
    },
    {
      "cell_type": "code",
      "execution_count": 14,
      "metadata": {
        "id": "my22fGXj3mac"
      },
      "outputs": [],
      "source": [
        "# Filling missing values in the 'IsStateMandate' column with '0'\n",
        "data['IsStateMandate'] = data['IsStateMandate'].fillna('0')\n",
        "\n",
        "# Mapping values in the 'IsStateMandate' column to numeric values\n",
        "data['IsStateMandate'] = data['IsStateMandate'].map({'0': 0, 'Yes': 1})\n"
      ]
    },
    {
      "cell_type": "code",
      "execution_count": 15,
      "metadata": {
        "id": "RphBPNAB3ojg"
      },
      "outputs": [],
      "source": [
        "data=data.dropna()"
      ]
    },
    {
      "cell_type": "code",
      "execution_count": 16,
      "metadata": {
        "colab": {
          "base_uri": "https://localhost:8080/"
        },
        "id": "Ao0DvuWC3qlc",
        "outputId": "b2dc33f5-671e-4f9e-ce38-a1050cfbb23b"
      },
      "outputs": [
        {
          "name": "stdout",
          "output_type": "stream",
          "text": [
            "BenefitName percentage: 0.0\n",
            "BusinessYear percentage: 0.0\n",
            "IsCovered percentage: 0.0\n",
            "IsEHB percentage: 0.0\n",
            "IsStateMandate percentage: 0.0\n",
            "PlanId percentage: 0.0\n",
            "SourceName percentage: 0.0\n",
            "StateCode percentage: 0.0\n"
          ]
        }
      ],
      "source": [
        "# Iterate over each column in the DataFrame and calculate the percentage of null values\n",
        "for c in data.columns:\n",
        "    # Compute the percentage of null values for the current column\n",
        "    null_percentage = data[c].isnull().mean() * 100\n",
        "    # Print the column name and its corresponding null percentage\n",
        "    print(\"{c} percentage: {null_percentage}\".format(c=c, null_percentage=null_percentage))\n"
      ]
    },
    {
      "cell_type": "code",
      "execution_count": 17,
      "metadata": {
        "id": "tJvTKNXw3tBs"
      },
      "outputs": [],
      "source": [
        "# Creating a new column 'Department' and initializing it with an empty string\n",
        "data['Department'] = ''\n",
        "\n",
        "# Defining a dictionary 'departments' containing keywords and their corresponding department names\n",
        "departments={\n",
        "    'dental':['dental','orthodontia','root canal','occusal','maintainers','pulpotomy','extractions','denture','fillings','periodontal','tissue conditioning','posterior composites','periodonatal'],\n",
        "    'health':['drugs','telehealth','hearing','physician','gastric','obesity','metabolic','cardiac','cardiovascular','brain','sclerosis','autism','disorder','anomaly','disorders','Nutritional','nutrition','foods','fit','joint','bone','osteoporosis','substance','rehabilitation','habilitation','rehabilitative','weight loss','baby','infertility','delivery','abortion','postnatal','prenatal','mastectomy','contraceptive','sexual','services','dialysis','chemotherapy','acupunture','diabetes','therapy','care','benefit','membership','anesthetics','visit','nursing','eye','eye glasses','optical','mental','surgery','surgical','transplant','implants','emergency','urgent','chronic'],\n",
        "    'equipments':['equipment','devices','aids','sealant','supplies'],\n",
        "    'diagnostics':['diagnostic','test','imaging','screening','testing','observation','trials','laboratory','mammography','diagnosis','mammogram'],\n",
        "    'child care':['child','pediatric','newborn','children'],\n",
        "    \n",
        "  }"
      ]
    },
    {
      "cell_type": "code",
      "execution_count": 18,
      "metadata": {
        "id": "wVhdQ93p3vmE"
      },
      "outputs": [],
      "source": [
        "# Iterate over each row in the DataFrame 'data' to assign department based on keywords in 'BenefitName'\n",
        "for idx,row in data.iterrows():\n",
        "    for department,keywords in departments.items():\n",
        "        for keyword in keywords:\n",
        "            if keyword in row['BenefitName'].lower():\n",
        "                data.at[idx,'Department']=department\n",
        "                break\n",
        "        if data.at[idx,'Department']!=' ':\n",
        "            break\n",
        "            "
      ]
    },
    {
      "cell_type": "code",
      "execution_count": 19,
      "metadata": {
        "id": "FyHOjcxh37Z4"
      },
      "outputs": [],
      "source": [
        "from sklearn.preprocessing import LabelEncoder"
      ]
    },
    {
      "cell_type": "code",
      "execution_count": 20,
      "metadata": {
        "id": "4suNS_bS39XQ"
      },
      "outputs": [],
      "source": [
        "# Initialize a LabelEncoder object\n",
        "le = LabelEncoder()\n",
        "# Encode the 'SourceName' column\n",
        "data['SourceName'] = le.fit_transform(data['SourceName'])\n",
        "# Encode the 'StateCode' column\n",
        "data['StateCode'] = le.fit_transform(data['StateCode'])\n",
        "# Encode the 'Department' column\n",
        "data['Department'] = le.fit_transform(data['Department'])\n"
      ]
    },
    {
      "cell_type": "code",
      "execution_count": 21,
      "metadata": {
        "colab": {
          "base_uri": "https://localhost:8080/",
          "height": 423
        },
        "id": "eILZz-eR4Au0",
        "outputId": "182c3442-bad4-4a58-8275-391bc1ed8c61"
      },
      "outputs": [
        {
          "data": {
            "text/html": [
              "<div>\n",
              "<style scoped>\n",
              "    .dataframe tbody tr th:only-of-type {\n",
              "        vertical-align: middle;\n",
              "    }\n",
              "\n",
              "    .dataframe tbody tr th {\n",
              "        vertical-align: top;\n",
              "    }\n",
              "\n",
              "    .dataframe thead th {\n",
              "        text-align: right;\n",
              "    }\n",
              "</style>\n",
              "<table border=\"1\" class=\"dataframe\">\n",
              "  <thead>\n",
              "    <tr style=\"text-align: right;\">\n",
              "      <th></th>\n",
              "      <th>BenefitName</th>\n",
              "      <th>BusinessYear</th>\n",
              "      <th>IsCovered</th>\n",
              "      <th>IsEHB</th>\n",
              "      <th>IsStateMandate</th>\n",
              "      <th>PlanId</th>\n",
              "      <th>SourceName</th>\n",
              "      <th>StateCode</th>\n",
              "      <th>Department</th>\n",
              "    </tr>\n",
              "  </thead>\n",
              "  <tbody>\n",
              "    <tr>\n",
              "      <th>0</th>\n",
              "      <td>Routine Dental Services (Adult)</td>\n",
              "      <td>2014</td>\n",
              "      <td>1</td>\n",
              "      <td>0</td>\n",
              "      <td>0</td>\n",
              "      <td>21989AK0010001-00</td>\n",
              "      <td>0</td>\n",
              "      <td>0</td>\n",
              "      <td>1</td>\n",
              "    </tr>\n",
              "    <tr>\n",
              "      <th>1</th>\n",
              "      <td>Dental Check-Up for Children</td>\n",
              "      <td>2014</td>\n",
              "      <td>1</td>\n",
              "      <td>1</td>\n",
              "      <td>0</td>\n",
              "      <td>21989AK0010001-00</td>\n",
              "      <td>0</td>\n",
              "      <td>0</td>\n",
              "      <td>1</td>\n",
              "    </tr>\n",
              "    <tr>\n",
              "      <th>2</th>\n",
              "      <td>Basic Dental Care - Child</td>\n",
              "      <td>2014</td>\n",
              "      <td>1</td>\n",
              "      <td>1</td>\n",
              "      <td>0</td>\n",
              "      <td>21989AK0010001-00</td>\n",
              "      <td>0</td>\n",
              "      <td>0</td>\n",
              "      <td>1</td>\n",
              "    </tr>\n",
              "    <tr>\n",
              "      <th>3</th>\n",
              "      <td>Orthodontia - Child</td>\n",
              "      <td>2014</td>\n",
              "      <td>1</td>\n",
              "      <td>0</td>\n",
              "      <td>0</td>\n",
              "      <td>21989AK0010001-00</td>\n",
              "      <td>0</td>\n",
              "      <td>0</td>\n",
              "      <td>1</td>\n",
              "    </tr>\n",
              "    <tr>\n",
              "      <th>4</th>\n",
              "      <td>Major Dental Care - Child</td>\n",
              "      <td>2014</td>\n",
              "      <td>1</td>\n",
              "      <td>1</td>\n",
              "      <td>0</td>\n",
              "      <td>21989AK0010001-00</td>\n",
              "      <td>0</td>\n",
              "      <td>0</td>\n",
              "      <td>1</td>\n",
              "    </tr>\n",
              "    <tr>\n",
              "      <th>...</th>\n",
              "      <td>...</td>\n",
              "      <td>...</td>\n",
              "      <td>...</td>\n",
              "      <td>...</td>\n",
              "      <td>...</td>\n",
              "      <td>...</td>\n",
              "      <td>...</td>\n",
              "      <td>...</td>\n",
              "      <td>...</td>\n",
              "    </tr>\n",
              "    <tr>\n",
              "      <th>4995</th>\n",
              "      <td>Radiation</td>\n",
              "      <td>2014</td>\n",
              "      <td>1</td>\n",
              "      <td>0</td>\n",
              "      <td>0</td>\n",
              "      <td>73836AK0680019-01</td>\n",
              "      <td>0</td>\n",
              "      <td>0</td>\n",
              "      <td>0</td>\n",
              "    </tr>\n",
              "    <tr>\n",
              "      <th>4996</th>\n",
              "      <td>Diabetes Education</td>\n",
              "      <td>2014</td>\n",
              "      <td>1</td>\n",
              "      <td>0</td>\n",
              "      <td>0</td>\n",
              "      <td>73836AK0680019-01</td>\n",
              "      <td>0</td>\n",
              "      <td>0</td>\n",
              "      <td>0</td>\n",
              "    </tr>\n",
              "    <tr>\n",
              "      <th>4997</th>\n",
              "      <td>Prosthetic Devices</td>\n",
              "      <td>2014</td>\n",
              "      <td>1</td>\n",
              "      <td>0</td>\n",
              "      <td>0</td>\n",
              "      <td>73836AK0680019-01</td>\n",
              "      <td>0</td>\n",
              "      <td>0</td>\n",
              "      <td>0</td>\n",
              "    </tr>\n",
              "    <tr>\n",
              "      <th>4998</th>\n",
              "      <td>Infusion Therapy</td>\n",
              "      <td>2014</td>\n",
              "      <td>1</td>\n",
              "      <td>0</td>\n",
              "      <td>0</td>\n",
              "      <td>73836AK0680019-01</td>\n",
              "      <td>0</td>\n",
              "      <td>0</td>\n",
              "      <td>0</td>\n",
              "    </tr>\n",
              "    <tr>\n",
              "      <th>4999</th>\n",
              "      <td>Treatment for Temporomandibular Joint Disorders</td>\n",
              "      <td>2014</td>\n",
              "      <td>0</td>\n",
              "      <td>0</td>\n",
              "      <td>0</td>\n",
              "      <td>73836AK0680019-01</td>\n",
              "      <td>0</td>\n",
              "      <td>0</td>\n",
              "      <td>0</td>\n",
              "    </tr>\n",
              "  </tbody>\n",
              "</table>\n",
              "<p>5000 rows × 9 columns</p>\n",
              "</div>"
            ],
            "text/plain": [
              "                                          BenefitName  BusinessYear  \\\n",
              "0                     Routine Dental Services (Adult)          2014   \n",
              "1                        Dental Check-Up for Children          2014   \n",
              "2                           Basic Dental Care - Child          2014   \n",
              "3                                 Orthodontia - Child          2014   \n",
              "4                           Major Dental Care - Child          2014   \n",
              "...                                               ...           ...   \n",
              "4995                                        Radiation          2014   \n",
              "4996                               Diabetes Education          2014   \n",
              "4997                               Prosthetic Devices          2014   \n",
              "4998                                 Infusion Therapy          2014   \n",
              "4999  Treatment for Temporomandibular Joint Disorders          2014   \n",
              "\n",
              "      IsCovered  IsEHB  IsStateMandate             PlanId  SourceName  \\\n",
              "0             1      0               0  21989AK0010001-00           0   \n",
              "1             1      1               0  21989AK0010001-00           0   \n",
              "2             1      1               0  21989AK0010001-00           0   \n",
              "3             1      0               0  21989AK0010001-00           0   \n",
              "4             1      1               0  21989AK0010001-00           0   \n",
              "...         ...    ...             ...                ...         ...   \n",
              "4995          1      0               0  73836AK0680019-01           0   \n",
              "4996          1      0               0  73836AK0680019-01           0   \n",
              "4997          1      0               0  73836AK0680019-01           0   \n",
              "4998          1      0               0  73836AK0680019-01           0   \n",
              "4999          0      0               0  73836AK0680019-01           0   \n",
              "\n",
              "      StateCode  Department  \n",
              "0             0           1  \n",
              "1             0           1  \n",
              "2             0           1  \n",
              "3             0           1  \n",
              "4             0           1  \n",
              "...         ...         ...  \n",
              "4995          0           0  \n",
              "4996          0           0  \n",
              "4997          0           0  \n",
              "4998          0           0  \n",
              "4999          0           0  \n",
              "\n",
              "[5000 rows x 9 columns]"
            ]
          },
          "execution_count": 21,
          "metadata": {},
          "output_type": "execute_result"
        }
      ],
      "source": [
        "data"
      ]
    },
    {
      "cell_type": "code",
      "execution_count": 22,
      "metadata": {
        "id": "ZbEYSEzJ4Jt8"
      },
      "outputs": [],
      "source": [
        "cleaned_file_path = 'BenefitCostSharing_Cleaned.csv'\n",
        "data.to_csv(cleaned_file_path, index=False)"
      ]
    },
    {
      "cell_type": "code",
      "execution_count": 23,
      "metadata": {},
      "outputs": [
        {
          "name": "stdout",
          "output_type": "stream",
          "text": [
            "                       BenefitName  BusinessYear  IsCovered  IsEHB  \\\n",
            "0  Routine Dental Services (Adult)          2014          1      0   \n",
            "1     Dental Check-Up for Children          2014          1      1   \n",
            "2        Basic Dental Care - Child          2014          1      1   \n",
            "3              Orthodontia - Child          2014          1      0   \n",
            "4        Major Dental Care - Child          2014          1      1   \n",
            "\n",
            "   IsStateMandate             PlanId  SourceName  StateCode  Department  \n",
            "0               0  21989AK0010001-00           0          0           1  \n",
            "1               0  21989AK0010001-00           0          0           1  \n",
            "2               0  21989AK0010001-00           0          0           1  \n",
            "3               0  21989AK0010001-00           0          0           1  \n",
            "4               0  21989AK0010001-00           0          0           1  \n"
          ]
        }
      ],
      "source": [
        "# Load the cleaned data from the new CSV file to verify\n",
        "df_cleaned = pd.read_csv(cleaned_file_path)\n",
        "print(df_cleaned.head())"
      ]
    }
  ],
  "metadata": {
    "colab": {
      "provenance": []
    },
    "kernelspec": {
      "display_name": "Python 3",
      "name": "python3"
    },
    "language_info": {
      "codemirror_mode": {
        "name": "ipython",
        "version": 3
      },
      "file_extension": ".py",
      "mimetype": "text/x-python",
      "name": "python",
      "nbconvert_exporter": "python",
      "pygments_lexer": "ipython3",
      "version": "3.11.3"
    }
  },
  "nbformat": 4,
  "nbformat_minor": 0
}
