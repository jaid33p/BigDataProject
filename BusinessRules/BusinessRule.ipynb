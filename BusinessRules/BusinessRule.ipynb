{
 "cells": [
  {
   "cell_type": "code",
   "execution_count": 1,
   "id": "c195aa8e",
   "metadata": {
    "ExecuteTime": {
     "end_time": "2024-03-26T17:50:05.503643Z",
     "start_time": "2024-03-26T17:50:04.827278Z"
    }
   },
   "outputs": [],
   "source": [
    "import pandas as pd\n",
    "import numpy as np"
   ]
  },
  {
   "cell_type": "code",
   "execution_count": 3,
   "id": "b2bc6473",
   "metadata": {
    "ExecuteTime": {
     "end_time": "2024-03-26T17:50:46.400200Z",
     "start_time": "2024-03-26T17:50:46.262062Z"
    }
   },
   "outputs": [],
   "source": [
    "# df =  pd.read_csv('C:\\Users\\tylri\\OneDrive\\Desktop\\big_data_project\\BusinessRules\\BusinessRules.csv')\n",
    "df = pd.read_csv(r'C:\\Users\\tylri\\OneDrive\\Desktop\\big_data_project\\BusinessRules\\BusinessRules.csv')\n"
   ]
  },
  {
   "cell_type": "code",
   "execution_count": 4,
   "id": "dc3063f0",
   "metadata": {
    "ExecuteTime": {
     "end_time": "2024-03-26T17:50:48.126911Z",
     "start_time": "2024-03-26T17:50:48.016102Z"
    }
   },
   "outputs": [
    {
     "data": {
      "text/plain": "BusinessYear                                0\nStateCode                                   0\nIssuerId                                    0\nSourceName                                  0\nVersionNum                                  0\nImportDate                                  0\nIssuerId2                                   0\nTIN                                         0\nProductId                                1683\nStandardComponentId                      1012\nEnrolleeContractRateDeterminationRule     247\nTwoParentFamilyMaxDependentsRule          539\nSingleParentFamilyMaxDependentsRule       539\nDependentMaximumAgRule                    183\nChildrenOnlyContractMaxChildrenRule       669\nDomesticPartnerAsSpouseIndicator          510\nSameSexPartnerAsSpouseIndicator           510\nAgeDeterminationRule                      411\nMinimumTobaccoFreeMonthsRule              404\nCohabitationRule                          355\nRowNumber                                   0\nMarketCoverage                           1208\nDentalOnlyPlan                           1208\ndtype: int64"
     },
     "execution_count": 4,
     "metadata": {},
     "output_type": "execute_result"
    }
   ],
   "source": [
    "df.head()\n",
    "df.isnull().sum()\n",
    "df = df.fillna(np.nan)\n",
    "df.isnull().sum()"
   ]
  },
  {
   "cell_type": "code",
   "execution_count": 5,
   "id": "3f8c3bca",
   "metadata": {
    "ExecuteTime": {
     "end_time": "2024-03-26T17:50:51.258Z",
     "start_time": "2024-03-26T17:50:51.200902Z"
    }
   },
   "outputs": [
    {
     "data": {
      "text/plain": "                count          mean           std      min      25%      50%  \\\nBusinessYear  21085.0   2015.321745      0.646315   2014.0   2015.0   2015.0   \nIssuerId      21085.0  52857.554517  26097.535028  10046.0  31609.0  49046.0   \nVersionNum    21085.0      6.791036      4.092377      1.0      4.0      6.0   \nIssuerId2     21085.0  52857.554517  26097.535028  10046.0  31609.0  49046.0   \nRowNumber     21085.0     11.050036      2.863195     10.0     10.0     10.0   \n\n                  75%      max  \nBusinessYear   2016.0   2016.0  \nIssuerId      76526.0  99969.0  \nVersionNum        8.0     24.0  \nIssuerId2     76526.0  99969.0  \nRowNumber        11.0     49.0  ",
      "text/html": "<div>\n<style scoped>\n    .dataframe tbody tr th:only-of-type {\n        vertical-align: middle;\n    }\n\n    .dataframe tbody tr th {\n        vertical-align: top;\n    }\n\n    .dataframe thead th {\n        text-align: right;\n    }\n</style>\n<table border=\"1\" class=\"dataframe\">\n  <thead>\n    <tr style=\"text-align: right;\">\n      <th></th>\n      <th>count</th>\n      <th>mean</th>\n      <th>std</th>\n      <th>min</th>\n      <th>25%</th>\n      <th>50%</th>\n      <th>75%</th>\n      <th>max</th>\n    </tr>\n  </thead>\n  <tbody>\n    <tr>\n      <th>BusinessYear</th>\n      <td>21085.0</td>\n      <td>2015.321745</td>\n      <td>0.646315</td>\n      <td>2014.0</td>\n      <td>2015.0</td>\n      <td>2015.0</td>\n      <td>2016.0</td>\n      <td>2016.0</td>\n    </tr>\n    <tr>\n      <th>IssuerId</th>\n      <td>21085.0</td>\n      <td>52857.554517</td>\n      <td>26097.535028</td>\n      <td>10046.0</td>\n      <td>31609.0</td>\n      <td>49046.0</td>\n      <td>76526.0</td>\n      <td>99969.0</td>\n    </tr>\n    <tr>\n      <th>VersionNum</th>\n      <td>21085.0</td>\n      <td>6.791036</td>\n      <td>4.092377</td>\n      <td>1.0</td>\n      <td>4.0</td>\n      <td>6.0</td>\n      <td>8.0</td>\n      <td>24.0</td>\n    </tr>\n    <tr>\n      <th>IssuerId2</th>\n      <td>21085.0</td>\n      <td>52857.554517</td>\n      <td>26097.535028</td>\n      <td>10046.0</td>\n      <td>31609.0</td>\n      <td>49046.0</td>\n      <td>76526.0</td>\n      <td>99969.0</td>\n    </tr>\n    <tr>\n      <th>RowNumber</th>\n      <td>21085.0</td>\n      <td>11.050036</td>\n      <td>2.863195</td>\n      <td>10.0</td>\n      <td>10.0</td>\n      <td>10.0</td>\n      <td>11.0</td>\n      <td>49.0</td>\n    </tr>\n  </tbody>\n</table>\n</div>"
     },
     "execution_count": 5,
     "metadata": {},
     "output_type": "execute_result"
    }
   ],
   "source": [
    "df.describe().T"
   ]
  },
  {
   "cell_type": "code",
   "execution_count": 6,
   "id": "907680b6",
   "metadata": {
    "ExecuteTime": {
     "end_time": "2024-03-26T17:50:53.372492Z",
     "start_time": "2024-03-26T17:50:53.326318Z"
    }
   },
   "outputs": [
    {
     "data": {
      "text/plain": "True"
     },
     "execution_count": 6,
     "metadata": {},
     "output_type": "execute_result"
    }
   ],
   "source": [
    "df.isnull().values.any()"
   ]
  },
  {
   "cell_type": "code",
   "execution_count": 7,
   "id": "3ace1e99",
   "metadata": {
    "ExecuteTime": {
     "end_time": "2024-03-26T17:50:55.575066Z",
     "start_time": "2024-03-26T17:50:55.504356Z"
    }
   },
   "outputs": [
    {
     "data": {
      "text/plain": "0"
     },
     "execution_count": 7,
     "metadata": {},
     "output_type": "execute_result"
    }
   ],
   "source": [
    "df.duplicated().sum()"
   ]
  },
  {
   "cell_type": "code",
   "execution_count": 8,
   "id": "265d612d",
   "metadata": {
    "ExecuteTime": {
     "end_time": "2024-03-26T17:50:57.124748Z",
     "start_time": "2024-03-26T17:50:57.112102Z"
    }
   },
   "outputs": [
    {
     "data": {
      "text/plain": "BusinessYear\n2015    10095\n2016     8887\n2014     2103\nName: count, dtype: int64"
     },
     "execution_count": 8,
     "metadata": {},
     "output_type": "execute_result"
    }
   ],
   "source": [
    "df['BusinessYear'].value_counts()"
   ]
  },
  {
   "cell_type": "code",
   "execution_count": 9,
   "id": "7091cc8e",
   "metadata": {
    "ExecuteTime": {
     "end_time": "2024-03-26T17:50:59.060343Z",
     "start_time": "2024-03-26T17:50:59.033327Z"
    }
   },
   "outputs": [
    {
     "data": {
      "text/plain": "ProductId\n33602TX047    312\n33602TX046    312\n84670WI125    138\n84670WI135    113\n84670WI133    113\n             ... \n84966SC014      1\n84966SC015      1\n19312TX002      1\n26250TX006      1\n75441WV002      1\nName: count, Length: 3034, dtype: int64"
     },
     "execution_count": 9,
     "metadata": {},
     "output_type": "execute_result"
    }
   ],
   "source": [
    "df['ProductId'].value_counts()"
   ]
  },
  {
   "cell_type": "code",
   "execution_count": 11,
   "id": "9835f17b",
   "metadata": {
    "ExecuteTime": {
     "end_time": "2024-03-26T17:51:35.539231Z",
     "start_time": "2024-03-26T17:51:35.510493Z"
    }
   },
   "outputs": [],
   "source": [
    "# df['ProductId'].fillna(0, inplace=True)\n",
    "df['ProductId'] = df['ProductId'].fillna(0)\n"
   ]
  },
  {
   "cell_type": "code",
   "execution_count": 12,
   "id": "42ae0ccf",
   "metadata": {
    "ExecuteTime": {
     "end_time": "2024-03-26T17:51:37.692151Z",
     "start_time": "2024-03-26T17:51:37.667038Z"
    }
   },
   "outputs": [
    {
     "data": {
      "text/plain": "StandardComponentId\n11083MI0100001    4\n72006VA0160001    4\n82285AL0010006    3\n87571OK0390002    3\n42757UT0020003    3\n                 ..\n84670WI1250012    1\n84670WI1250014    1\n84670WI1250020    1\n84670WI1250021    1\n96480WV0110003    1\nName: count, Length: 14189, dtype: int64"
     },
     "execution_count": 12,
     "metadata": {},
     "output_type": "execute_result"
    }
   ],
   "source": [
    "df['StandardComponentId'].value_counts()"
   ]
  },
  {
   "cell_type": "code",
   "execution_count": 14,
   "id": "073d977d",
   "metadata": {
    "ExecuteTime": {
     "end_time": "2024-03-26T17:52:10.178762Z",
     "start_time": "2024-03-26T17:52:10.153769Z"
    }
   },
   "outputs": [],
   "source": [
    "# df['StandardComponentId'].fillna(0, inplace=True)\n",
    "df['StandardComponentId'] = df['StandardComponentId'].fillna(0)\n"
   ]
  },
  {
   "cell_type": "code",
   "execution_count": 15,
   "id": "3342910d",
   "metadata": {
    "ExecuteTime": {
     "end_time": "2024-03-26T17:52:11.631256Z",
     "start_time": "2024-03-26T17:52:11.595307Z"
    }
   },
   "outputs": [],
   "source": [
    "df.dropna(subset=['TwoParentFamilyMaxDependentsRule'], inplace=True)"
   ]
  },
  {
   "cell_type": "code",
   "execution_count": 16,
   "id": "196be1c8",
   "metadata": {
    "ExecuteTime": {
     "end_time": "2024-03-26T17:52:13.894543Z",
     "start_time": "2024-03-26T17:52:13.870923Z"
    }
   },
   "outputs": [],
   "source": [
    "df.dropna(subset=['ChildrenOnlyContractMaxChildrenRule'], inplace=True)"
   ]
  },
  {
   "cell_type": "code",
   "execution_count": 17,
   "id": "839aedf7",
   "metadata": {
    "ExecuteTime": {
     "end_time": "2024-03-26T17:52:14.894645Z",
     "start_time": "2024-03-26T17:52:14.871091Z"
    }
   },
   "outputs": [],
   "source": [
    "df.dropna(subset=['MarketCoverage'], inplace=True)"
   ]
  },
  {
   "cell_type": "code",
   "execution_count": 18,
   "id": "7e0eec90",
   "metadata": {
    "ExecuteTime": {
     "end_time": "2024-03-26T17:52:16.363716Z",
     "start_time": "2024-03-26T17:52:16.343628Z"
    }
   },
   "outputs": [
    {
     "data": {
      "text/plain": "False"
     },
     "execution_count": 18,
     "metadata": {},
     "output_type": "execute_result"
    }
   ],
   "source": [
    "df['DentalOnlyPlan'].isnull().values.any()"
   ]
  },
  {
   "cell_type": "code",
   "execution_count": 20,
   "id": "86b356ba",
   "metadata": {
    "ExecuteTime": {
     "end_time": "2024-03-26T17:52:43.630447Z",
     "start_time": "2024-03-26T17:52:43.615911Z"
    }
   },
   "outputs": [],
   "source": [
    "# df['DentalOnlyPlan'] = df['DentalOnlyPlan'].replace({'Yes': True, 'No': False})\n",
    "df['DentalOnlyPlan'] = df['DentalOnlyPlan'].replace({'Yes': True, 'No': False}).infer_objects(copy=False)\n"
   ]
  },
  {
   "cell_type": "code",
   "execution_count": 23,
   "id": "613fdb91",
   "metadata": {
    "ExecuteTime": {
     "end_time": "2024-03-26T17:53:19.921587Z",
     "start_time": "2024-03-26T17:53:19.897582Z"
    }
   },
   "outputs": [],
   "source": [
    "# median_value = df['DentalOnlyPlan'].median()\n",
    "# df['DentalOnlyPlan'].fillna(median_value, inplace=True)\n",
    "median_value = df['DentalOnlyPlan'].median()\n",
    "df['DentalOnlyPlan'] = df['DentalOnlyPlan'].fillna(median_value)\n"
   ]
  },
  {
   "cell_type": "code",
   "execution_count": 24,
   "id": "c380f7ef",
   "metadata": {
    "ExecuteTime": {
     "end_time": "2024-03-26T17:53:22.313655Z",
     "start_time": "2024-03-26T17:53:21.872899Z"
    }
   },
   "outputs": [
    {
     "name": "stdout",
     "output_type": "stream",
     "text": [
      "   BusinessYear StateCode  IssuerId SourceName  VersionNum  \\\n",
      "0          2014        AR     60559      SERFF          10   \n",
      "1          2014        AR     60559      SERFF          10   \n",
      "2          2014        AR     60559      SERFF          10   \n",
      "3          2014        AR     60559      SERFF          10   \n",
      "4          2014        AR     60559      SERFF          10   \n",
      "\n",
      "            ImportDate  IssuerId2         TIN ProductId StandardComponentId  \\\n",
      "0  2014-01-23 12:49:01      60559  75-1233841         0      60559AR0010002   \n",
      "1  2014-01-23 12:49:01      60559  75-1233841         0      60559AR0010003   \n",
      "2  2014-01-23 12:49:01      60559  75-1233841         0      60559AR0020003   \n",
      "3  2014-01-23 12:49:01      60559  75-1233841         0      60559AR0010004   \n",
      "4  2014-01-23 12:49:01      60559  75-1233841         0      60559AR0020004   \n",
      "\n",
      "   ... DependentMaximumAgRule ChildrenOnlyContractMaxChildrenRule  \\\n",
      "0  ...         Not Applicable                           3 or more   \n",
      "1  ...         Not Applicable                           3 or more   \n",
      "2  ...         Not Applicable                           3 or more   \n",
      "3  ...         Not Applicable                           3 or more   \n",
      "4  ...         Not Applicable                           3 or more   \n",
      "\n",
      "  DomesticPartnerAsSpouseIndicator SameSexPartnerAsSpouseIndicator  \\\n",
      "0                              Yes                             Yes   \n",
      "1                              Yes                             Yes   \n",
      "2                              Yes                             Yes   \n",
      "3                              Yes                             Yes   \n",
      "4                              Yes                             Yes   \n",
      "\n",
      "    AgeDeterminationRule MinimumTobaccoFreeMonthsRule  \\\n",
      "0  Age on effective date               Not Applicable   \n",
      "1  Age on effective date               Not Applicable   \n",
      "2  Age on effective date               Not Applicable   \n",
      "3  Age on effective date               Not Applicable   \n",
      "4  Age on effective date               Not Applicable   \n",
      "\n",
      "                                    CohabitationRule RowNumber  \\\n",
      "0  Spouse,No;Adopted Child,No;Foster Child,No;War...        12   \n",
      "1  Adopted Child,Yes;Foster Child,Yes;Stepson or ...        13   \n",
      "2  Adopted Child,Yes;Foster Child,Yes;Stepson or ...        13   \n",
      "3  Spouse,No;Adopted Child,No;Foster Child,No;War...        14   \n",
      "4  Spouse,No;Adopted Child,No;Foster Child,No;War...        14   \n",
      "\n",
      "       MarketCoverage DentalOnlyPlan  \n",
      "0          Individual           True  \n",
      "1          Individual           True  \n",
      "2  SHOP (Small Group)           True  \n",
      "3          Individual           True  \n",
      "4  SHOP (Small Group)           True  \n",
      "\n",
      "[5 rows x 23 columns]\n"
     ]
    }
   ],
   "source": [
    "cleaned_file_path = 'BusinessRules_cleaned.csv'\n",
    "df.to_csv(cleaned_file_path, index=False)\n",
    "\n",
    "# Load the cleaned data from the new CSV file to verify\n",
    "df_cleaned = pd.read_csv(cleaned_file_path)\n",
    "print(df_cleaned.head())"
   ]
  },
  {
   "cell_type": "code",
   "execution_count": null,
   "id": "fa893eaf",
   "metadata": {},
   "outputs": [],
   "source": []
  }
 ],
 "metadata": {
  "kernelspec": {
   "display_name": "Python 3 (ipykernel)",
   "language": "python",
   "name": "python3"
  },
  "language_info": {
   "codemirror_mode": {
    "name": "ipython",
    "version": 3
   },
   "file_extension": ".py",
   "mimetype": "text/x-python",
   "name": "python",
   "nbconvert_exporter": "python",
   "pygments_lexer": "ipython3",
   "version": "3.10.7"
  }
 },
 "nbformat": 4,
 "nbformat_minor": 5
}
