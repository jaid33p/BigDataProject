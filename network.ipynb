{
 "cells": [
  {
   "cell_type": "code",
   "execution_count": 15,
   "id": "b63b196c",
   "metadata": {
    "ExecuteTime": {
     "end_time": "2024-03-26T18:04:50.238678Z",
     "start_time": "2024-03-26T18:04:49.128904Z"
    }
   },
   "outputs": [],
   "source": [
    "import pandas as pd\n",
    "import numpy as np"
   ]
  },
  {
   "cell_type": "code",
   "execution_count": 16,
   "id": "6c81978c",
   "metadata": {
    "ExecuteTime": {
     "end_time": "2024-03-26T18:05:19.092993Z",
     "start_time": "2024-03-26T18:05:19.050590Z"
    }
   },
   "outputs": [],
   "source": [
    "# df =  pd.read_csv('C:\\Users\\tylri\\OneDrive\\Desktop\\big_data_project\\Network\\Network.csv')\n",
    "#df = pd.read_csv(r'Network/Network.csv')\n",
    "df = pd.read_csv('/Users/jd/UNI/BigData/HealthInsurance_Recommender/Network/Network.csv')\n"
   ]
  },
  {
   "cell_type": "code",
   "execution_count": 17,
   "id": "79bcaa4e",
   "metadata": {
    "ExecuteTime": {
     "end_time": "2024-03-26T18:05:20.596536Z",
     "start_time": "2024-03-26T18:05:20.567902Z"
    }
   },
   "outputs": [
    {
     "data": {
      "text/html": [
       "<div>\n",
       "<style scoped>\n",
       "    .dataframe tbody tr th:only-of-type {\n",
       "        vertical-align: middle;\n",
       "    }\n",
       "\n",
       "    .dataframe tbody tr th {\n",
       "        vertical-align: top;\n",
       "    }\n",
       "\n",
       "    .dataframe thead th {\n",
       "        text-align: right;\n",
       "    }\n",
       "</style>\n",
       "<table border=\"1\" class=\"dataframe\">\n",
       "  <thead>\n",
       "    <tr style=\"text-align: right;\">\n",
       "      <th></th>\n",
       "      <th>BusinessYear</th>\n",
       "      <th>StateCode</th>\n",
       "      <th>IssuerId</th>\n",
       "      <th>SourceName</th>\n",
       "      <th>VersionNum</th>\n",
       "      <th>ImportDate</th>\n",
       "      <th>IssuerId2</th>\n",
       "      <th>StateCode2</th>\n",
       "      <th>NetworkName</th>\n",
       "      <th>NetworkId</th>\n",
       "      <th>NetworkURL</th>\n",
       "      <th>RowNumber</th>\n",
       "      <th>MarketCoverage</th>\n",
       "      <th>DentalOnlyPlan</th>\n",
       "    </tr>\n",
       "  </thead>\n",
       "  <tbody>\n",
       "    <tr>\n",
       "      <th>0</th>\n",
       "      <td>2014</td>\n",
       "      <td>AK</td>\n",
       "      <td>21989</td>\n",
       "      <td>HIOS</td>\n",
       "      <td>6</td>\n",
       "      <td>2014-03-19 07:06:49</td>\n",
       "      <td>21989</td>\n",
       "      <td>AK</td>\n",
       "      <td>ODS Premier</td>\n",
       "      <td>AKN001</td>\n",
       "      <td>https://www.modahealth.com/ProviderSearch/face...</td>\n",
       "      <td>13</td>\n",
       "      <td>NaN</td>\n",
       "      <td>NaN</td>\n",
       "    </tr>\n",
       "    <tr>\n",
       "      <th>1</th>\n",
       "      <td>2014</td>\n",
       "      <td>AK</td>\n",
       "      <td>38344</td>\n",
       "      <td>HIOS</td>\n",
       "      <td>6</td>\n",
       "      <td>2013-08-28 08:15:53</td>\n",
       "      <td>38344</td>\n",
       "      <td>AK</td>\n",
       "      <td>HeritagePlus</td>\n",
       "      <td>AKN001</td>\n",
       "      <td>https://www.premera.com/wa/visitor/</td>\n",
       "      <td>13</td>\n",
       "      <td>NaN</td>\n",
       "      <td>NaN</td>\n",
       "    </tr>\n",
       "    <tr>\n",
       "      <th>2</th>\n",
       "      <td>2014</td>\n",
       "      <td>AK</td>\n",
       "      <td>38536</td>\n",
       "      <td>HIOS</td>\n",
       "      <td>2</td>\n",
       "      <td>2013-08-01 12:48:00</td>\n",
       "      <td>38536</td>\n",
       "      <td>AK</td>\n",
       "      <td>Lincoln Dental Connect</td>\n",
       "      <td>AKN001</td>\n",
       "      <td>http://lfg.go2dental.com/member/dental_search/...</td>\n",
       "      <td>13</td>\n",
       "      <td>NaN</td>\n",
       "      <td>NaN</td>\n",
       "    </tr>\n",
       "    <tr>\n",
       "      <th>3</th>\n",
       "      <td>2014</td>\n",
       "      <td>AK</td>\n",
       "      <td>42507</td>\n",
       "      <td>HIOS</td>\n",
       "      <td>3</td>\n",
       "      <td>2013-09-02 11:39:25</td>\n",
       "      <td>42507</td>\n",
       "      <td>AK</td>\n",
       "      <td>DentalGuard Preferred</td>\n",
       "      <td>AKN001</td>\n",
       "      <td>https://www.guardiananytime.com/fpapp/FPWeb/de...</td>\n",
       "      <td>13</td>\n",
       "      <td>NaN</td>\n",
       "      <td>NaN</td>\n",
       "    </tr>\n",
       "    <tr>\n",
       "      <th>4</th>\n",
       "      <td>2014</td>\n",
       "      <td>AK</td>\n",
       "      <td>73836</td>\n",
       "      <td>HIOS</td>\n",
       "      <td>6</td>\n",
       "      <td>2014-04-18 11:49:29</td>\n",
       "      <td>73836</td>\n",
       "      <td>AK</td>\n",
       "      <td>Moda Plus AK Regional</td>\n",
       "      <td>AKN001</td>\n",
       "      <td>https://www.modahealth.com/ProviderSearch/face...</td>\n",
       "      <td>13</td>\n",
       "      <td>NaN</td>\n",
       "      <td>NaN</td>\n",
       "    </tr>\n",
       "  </tbody>\n",
       "</table>\n",
       "</div>"
      ],
      "text/plain": [
       "   BusinessYear StateCode  IssuerId SourceName  VersionNum  \\\n",
       "0          2014        AK     21989       HIOS           6   \n",
       "1          2014        AK     38344       HIOS           6   \n",
       "2          2014        AK     38536       HIOS           2   \n",
       "3          2014        AK     42507       HIOS           3   \n",
       "4          2014        AK     73836       HIOS           6   \n",
       "\n",
       "            ImportDate  IssuerId2 StateCode2             NetworkName  \\\n",
       "0  2014-03-19 07:06:49      21989         AK             ODS Premier   \n",
       "1  2013-08-28 08:15:53      38344         AK            HeritagePlus   \n",
       "2  2013-08-01 12:48:00      38536         AK  Lincoln Dental Connect   \n",
       "3  2013-09-02 11:39:25      42507         AK   DentalGuard Preferred   \n",
       "4  2014-04-18 11:49:29      73836         AK   Moda Plus AK Regional   \n",
       "\n",
       "  NetworkId                                         NetworkURL  RowNumber  \\\n",
       "0    AKN001  https://www.modahealth.com/ProviderSearch/face...         13   \n",
       "1    AKN001                https://www.premera.com/wa/visitor/         13   \n",
       "2    AKN001  http://lfg.go2dental.com/member/dental_search/...         13   \n",
       "3    AKN001  https://www.guardiananytime.com/fpapp/FPWeb/de...         13   \n",
       "4    AKN001  https://www.modahealth.com/ProviderSearch/face...         13   \n",
       "\n",
       "  MarketCoverage DentalOnlyPlan  \n",
       "0            NaN            NaN  \n",
       "1            NaN            NaN  \n",
       "2            NaN            NaN  \n",
       "3            NaN            NaN  \n",
       "4            NaN            NaN  "
      ]
     },
     "execution_count": 17,
     "metadata": {},
     "output_type": "execute_result"
    }
   ],
   "source": [
    "df.head()"
   ]
  },
  {
   "cell_type": "code",
   "execution_count": 18,
   "id": "63645943",
   "metadata": {},
   "outputs": [
    {
     "data": {
      "text/plain": [
       "BusinessYear         0\n",
       "StateCode            0\n",
       "IssuerId             0\n",
       "SourceName           0\n",
       "VersionNum           0\n",
       "ImportDate           0\n",
       "IssuerId2            0\n",
       "StateCode2           0\n",
       "NetworkName          0\n",
       "NetworkId            0\n",
       "NetworkURL           0\n",
       "RowNumber            0\n",
       "MarketCoverage    1955\n",
       "DentalOnlyPlan    1955\n",
       "dtype: int64"
      ]
     },
     "execution_count": 18,
     "metadata": {},
     "output_type": "execute_result"
    }
   ],
   "source": [
    "df.isnull().sum()"
   ]
  },
  {
   "cell_type": "code",
   "execution_count": 19,
   "id": "8b6fe1ca",
   "metadata": {},
   "outputs": [],
   "source": [
    "df = df.fillna(np.nan)"
   ]
  },
  {
   "cell_type": "code",
   "execution_count": 40,
   "id": "d88a8310",
   "metadata": {},
   "outputs": [
    {
     "data": {
      "text/html": [
       "<div>\n",
       "<style scoped>\n",
       "    .dataframe tbody tr th:only-of-type {\n",
       "        vertical-align: middle;\n",
       "    }\n",
       "\n",
       "    .dataframe tbody tr th {\n",
       "        vertical-align: top;\n",
       "    }\n",
       "\n",
       "    .dataframe thead th {\n",
       "        text-align: right;\n",
       "    }\n",
       "</style>\n",
       "<table border=\"1\" class=\"dataframe\">\n",
       "  <thead>\n",
       "    <tr style=\"text-align: right;\">\n",
       "      <th></th>\n",
       "      <th>BusinessYear</th>\n",
       "      <th>StateCode</th>\n",
       "      <th>IssuerId</th>\n",
       "      <th>SourceName</th>\n",
       "      <th>VersionNum</th>\n",
       "      <th>ImportDate</th>\n",
       "      <th>IssuerId2</th>\n",
       "      <th>StateCode2</th>\n",
       "      <th>NetworkName</th>\n",
       "      <th>NetworkId</th>\n",
       "      <th>NetworkURL</th>\n",
       "      <th>RowNumber</th>\n",
       "      <th>MarketCoverage</th>\n",
       "      <th>DentalOnlyPlan</th>\n",
       "    </tr>\n",
       "  </thead>\n",
       "  <tbody>\n",
       "    <tr>\n",
       "      <th>259</th>\n",
       "      <td>2014</td>\n",
       "      <td>IL</td>\n",
       "      <td>36096</td>\n",
       "      <td>SERFF</td>\n",
       "      <td>10</td>\n",
       "      <td>2014-01-22 11:51:12</td>\n",
       "      <td>36096</td>\n",
       "      <td>IL</td>\n",
       "      <td>PPO</td>\n",
       "      <td>ILN001</td>\n",
       "      <td>https://public.hcsc.net/providerfinder/search....</td>\n",
       "      <td>13</td>\n",
       "      <td>Individual</td>\n",
       "      <td>False</td>\n",
       "    </tr>\n",
       "    <tr>\n",
       "      <th>260</th>\n",
       "      <td>2014</td>\n",
       "      <td>IL</td>\n",
       "      <td>36096</td>\n",
       "      <td>SERFF</td>\n",
       "      <td>10</td>\n",
       "      <td>2014-01-22 11:51:12</td>\n",
       "      <td>36096</td>\n",
       "      <td>IL</td>\n",
       "      <td>Blue Choice PPO</td>\n",
       "      <td>ILN002</td>\n",
       "      <td>https://public.hcsc.net/providerfinder/search....</td>\n",
       "      <td>14</td>\n",
       "      <td>SHOP (Small Group)</td>\n",
       "      <td>False</td>\n",
       "    </tr>\n",
       "    <tr>\n",
       "      <th>261</th>\n",
       "      <td>2014</td>\n",
       "      <td>IL</td>\n",
       "      <td>36096</td>\n",
       "      <td>SERFF</td>\n",
       "      <td>10</td>\n",
       "      <td>2014-01-22 11:51:12</td>\n",
       "      <td>36096</td>\n",
       "      <td>IL</td>\n",
       "      <td>Blue Choice PPO</td>\n",
       "      <td>ILN002</td>\n",
       "      <td>https://public.hcsc.net/providerfinder/search....</td>\n",
       "      <td>14</td>\n",
       "      <td>Individual</td>\n",
       "      <td>False</td>\n",
       "    </tr>\n",
       "    <tr>\n",
       "      <th>262</th>\n",
       "      <td>2014</td>\n",
       "      <td>IL</td>\n",
       "      <td>36096</td>\n",
       "      <td>SERFF</td>\n",
       "      <td>10</td>\n",
       "      <td>2014-01-22 11:51:12</td>\n",
       "      <td>36096</td>\n",
       "      <td>IL</td>\n",
       "      <td>Blue Precision HMO</td>\n",
       "      <td>ILN003</td>\n",
       "      <td>https://public.hcsc.net/providerfinder/search....</td>\n",
       "      <td>15</td>\n",
       "      <td>SHOP (Small Group)</td>\n",
       "      <td>False</td>\n",
       "    </tr>\n",
       "    <tr>\n",
       "      <th>263</th>\n",
       "      <td>2014</td>\n",
       "      <td>IL</td>\n",
       "      <td>36096</td>\n",
       "      <td>SERFF</td>\n",
       "      <td>10</td>\n",
       "      <td>2014-01-22 11:51:12</td>\n",
       "      <td>36096</td>\n",
       "      <td>IL</td>\n",
       "      <td>Blue Precision HMO</td>\n",
       "      <td>ILN003</td>\n",
       "      <td>https://public.hcsc.net/providerfinder/search....</td>\n",
       "      <td>15</td>\n",
       "      <td>Individual</td>\n",
       "      <td>False</td>\n",
       "    </tr>\n",
       "  </tbody>\n",
       "</table>\n",
       "</div>"
      ],
      "text/plain": [
       "     BusinessYear StateCode  IssuerId SourceName  VersionNum  \\\n",
       "259          2014        IL     36096      SERFF          10   \n",
       "260          2014        IL     36096      SERFF          10   \n",
       "261          2014        IL     36096      SERFF          10   \n",
       "262          2014        IL     36096      SERFF          10   \n",
       "263          2014        IL     36096      SERFF          10   \n",
       "\n",
       "              ImportDate  IssuerId2 StateCode2         NetworkName NetworkId  \\\n",
       "259  2014-01-22 11:51:12      36096         IL                 PPO    ILN001   \n",
       "260  2014-01-22 11:51:12      36096         IL     Blue Choice PPO    ILN002   \n",
       "261  2014-01-22 11:51:12      36096         IL     Blue Choice PPO    ILN002   \n",
       "262  2014-01-22 11:51:12      36096         IL  Blue Precision HMO    ILN003   \n",
       "263  2014-01-22 11:51:12      36096         IL  Blue Precision HMO    ILN003   \n",
       "\n",
       "                                            NetworkURL  RowNumber  \\\n",
       "259  https://public.hcsc.net/providerfinder/search....         13   \n",
       "260  https://public.hcsc.net/providerfinder/search....         14   \n",
       "261  https://public.hcsc.net/providerfinder/search....         14   \n",
       "262  https://public.hcsc.net/providerfinder/search....         15   \n",
       "263  https://public.hcsc.net/providerfinder/search....         15   \n",
       "\n",
       "         MarketCoverage DentalOnlyPlan  \n",
       "259          Individual          False  \n",
       "260  SHOP (Small Group)          False  \n",
       "261          Individual          False  \n",
       "262  SHOP (Small Group)          False  \n",
       "263          Individual          False  "
      ]
     },
     "execution_count": 40,
     "metadata": {},
     "output_type": "execute_result"
    }
   ],
   "source": [
    "df.head()"
   ]
  },
  {
   "cell_type": "code",
   "execution_count": 41,
   "id": "e9e62663",
   "metadata": {},
   "outputs": [
    {
     "data": {
      "text/plain": [
       "BusinessYear      0\n",
       "StateCode         0\n",
       "IssuerId          0\n",
       "SourceName        0\n",
       "VersionNum        0\n",
       "ImportDate        0\n",
       "IssuerId2         0\n",
       "StateCode2        0\n",
       "NetworkName       0\n",
       "NetworkId         0\n",
       "NetworkURL        0\n",
       "RowNumber         0\n",
       "MarketCoverage    0\n",
       "DentalOnlyPlan    0\n",
       "dtype: int64"
      ]
     },
     "execution_count": 41,
     "metadata": {},
     "output_type": "execute_result"
    }
   ],
   "source": [
    "df.isnull().sum()"
   ]
  },
  {
   "cell_type": "code",
   "execution_count": 42,
   "id": "26bbc5d0",
   "metadata": {
    "ExecuteTime": {
     "end_time": "2024-03-26T18:05:24.700406Z",
     "start_time": "2024-03-26T18:05:24.642227Z"
    }
   },
   "outputs": [
    {
     "data": {
      "text/plain": [
       "0"
      ]
     },
     "execution_count": 42,
     "metadata": {},
     "output_type": "execute_result"
    }
   ],
   "source": [
    "df.describe().T\n",
    "df.isnull().values.any()\n",
    "df.duplicated().sum()"
   ]
  },
  {
   "cell_type": "code",
   "execution_count": 43,
   "id": "b484e720",
   "metadata": {
    "ExecuteTime": {
     "end_time": "2024-03-26T18:05:26.183347Z",
     "start_time": "2024-03-26T18:05:26.154684Z"
    }
   },
   "outputs": [
    {
     "data": {
      "text/plain": [
       "BusinessYear\n",
       "2015    713\n",
       "2016    711\n",
       "2014    443\n",
       "Name: count, dtype: int64"
      ]
     },
     "execution_count": 43,
     "metadata": {},
     "output_type": "execute_result"
    }
   ],
   "source": [
    "df['BusinessYear'].value_counts()"
   ]
  },
  {
   "cell_type": "code",
   "execution_count": 44,
   "id": "79073428",
   "metadata": {
    "ExecuteTime": {
     "end_time": "2024-03-26T18:06:49.098152Z",
     "start_time": "2024-03-26T18:06:49.064223Z"
    }
   },
   "outputs": [
    {
     "data": {
      "text/html": [
       "<div>\n",
       "<style scoped>\n",
       "    .dataframe tbody tr th:only-of-type {\n",
       "        vertical-align: middle;\n",
       "    }\n",
       "\n",
       "    .dataframe tbody tr th {\n",
       "        vertical-align: top;\n",
       "    }\n",
       "\n",
       "    .dataframe thead th {\n",
       "        text-align: right;\n",
       "    }\n",
       "</style>\n",
       "<table border=\"1\" class=\"dataframe\">\n",
       "  <thead>\n",
       "    <tr style=\"text-align: right;\">\n",
       "      <th></th>\n",
       "      <th>BusinessYear</th>\n",
       "      <th>IssuerId</th>\n",
       "      <th>VersionNum</th>\n",
       "      <th>IssuerId2</th>\n",
       "      <th>RowNumber</th>\n",
       "    </tr>\n",
       "  </thead>\n",
       "  <tbody>\n",
       "    <tr>\n",
       "      <th>BusinessYear</th>\n",
       "      <td>1.000000</td>\n",
       "      <td>-0.013209</td>\n",
       "      <td>0.084989</td>\n",
       "      <td>-0.013209</td>\n",
       "      <td>0.032285</td>\n",
       "    </tr>\n",
       "    <tr>\n",
       "      <th>IssuerId</th>\n",
       "      <td>-0.013209</td>\n",
       "      <td>1.000000</td>\n",
       "      <td>-0.038749</td>\n",
       "      <td>1.000000</td>\n",
       "      <td>-0.007074</td>\n",
       "    </tr>\n",
       "    <tr>\n",
       "      <th>VersionNum</th>\n",
       "      <td>0.084989</td>\n",
       "      <td>-0.038749</td>\n",
       "      <td>1.000000</td>\n",
       "      <td>-0.038749</td>\n",
       "      <td>0.191272</td>\n",
       "    </tr>\n",
       "    <tr>\n",
       "      <th>IssuerId2</th>\n",
       "      <td>-0.013209</td>\n",
       "      <td>1.000000</td>\n",
       "      <td>-0.038749</td>\n",
       "      <td>1.000000</td>\n",
       "      <td>-0.007074</td>\n",
       "    </tr>\n",
       "    <tr>\n",
       "      <th>RowNumber</th>\n",
       "      <td>0.032285</td>\n",
       "      <td>-0.007074</td>\n",
       "      <td>0.191272</td>\n",
       "      <td>-0.007074</td>\n",
       "      <td>1.000000</td>\n",
       "    </tr>\n",
       "  </tbody>\n",
       "</table>\n",
       "</div>"
      ],
      "text/plain": [
       "              BusinessYear  IssuerId  VersionNum  IssuerId2  RowNumber\n",
       "BusinessYear      1.000000 -0.013209    0.084989  -0.013209   0.032285\n",
       "IssuerId         -0.013209  1.000000   -0.038749   1.000000  -0.007074\n",
       "VersionNum        0.084989 -0.038749    1.000000  -0.038749   0.191272\n",
       "IssuerId2        -0.013209  1.000000   -0.038749   1.000000  -0.007074\n",
       "RowNumber         0.032285 -0.007074    0.191272  -0.007074   1.000000"
      ]
     },
     "execution_count": 44,
     "metadata": {},
     "output_type": "execute_result"
    }
   ],
   "source": [
    "numeric_df = df.select_dtypes(include=[np.number])\n",
    "numeric_df.corr()"
   ]
  },
  {
   "cell_type": "code",
   "execution_count": 45,
   "id": "91154228",
   "metadata": {
    "ExecuteTime": {
     "end_time": "2024-03-26T18:06:51.600139Z",
     "start_time": "2024-03-26T18:06:51.552494Z"
    }
   },
   "outputs": [
    {
     "data": {
      "text/html": [
       "<div>\n",
       "<style scoped>\n",
       "    .dataframe tbody tr th:only-of-type {\n",
       "        vertical-align: middle;\n",
       "    }\n",
       "\n",
       "    .dataframe tbody tr th {\n",
       "        vertical-align: top;\n",
       "    }\n",
       "\n",
       "    .dataframe thead th {\n",
       "        text-align: right;\n",
       "    }\n",
       "</style>\n",
       "<table border=\"1\" class=\"dataframe\">\n",
       "  <thead>\n",
       "    <tr style=\"text-align: right;\">\n",
       "      <th></th>\n",
       "      <th>count</th>\n",
       "      <th>mean</th>\n",
       "      <th>std</th>\n",
       "      <th>min</th>\n",
       "      <th>25%</th>\n",
       "      <th>50%</th>\n",
       "      <th>75%</th>\n",
       "      <th>max</th>\n",
       "    </tr>\n",
       "  </thead>\n",
       "  <tbody>\n",
       "    <tr>\n",
       "      <th>BusinessYear</th>\n",
       "      <td>1867.0</td>\n",
       "      <td>2015.143546</td>\n",
       "      <td>0.773187</td>\n",
       "      <td>2014.0</td>\n",
       "      <td>2015.0</td>\n",
       "      <td>2015.0</td>\n",
       "      <td>2016.0</td>\n",
       "      <td>2016.0</td>\n",
       "    </tr>\n",
       "    <tr>\n",
       "      <th>IssuerId</th>\n",
       "      <td>1867.0</td>\n",
       "      <td>53133.627209</td>\n",
       "      <td>26806.129335</td>\n",
       "      <td>10046.0</td>\n",
       "      <td>29678.0</td>\n",
       "      <td>52664.0</td>\n",
       "      <td>75605.0</td>\n",
       "      <td>99969.0</td>\n",
       "    </tr>\n",
       "    <tr>\n",
       "      <th>VersionNum</th>\n",
       "      <td>1867.0</td>\n",
       "      <td>5.863417</td>\n",
       "      <td>3.617731</td>\n",
       "      <td>1.0</td>\n",
       "      <td>3.0</td>\n",
       "      <td>5.0</td>\n",
       "      <td>8.0</td>\n",
       "      <td>24.0</td>\n",
       "    </tr>\n",
       "    <tr>\n",
       "      <th>IssuerId2</th>\n",
       "      <td>1867.0</td>\n",
       "      <td>53133.627209</td>\n",
       "      <td>26806.129335</td>\n",
       "      <td>10046.0</td>\n",
       "      <td>29678.0</td>\n",
       "      <td>52664.0</td>\n",
       "      <td>75605.0</td>\n",
       "      <td>99969.0</td>\n",
       "    </tr>\n",
       "    <tr>\n",
       "      <th>RowNumber</th>\n",
       "      <td>1867.0</td>\n",
       "      <td>13.715051</td>\n",
       "      <td>1.532150</td>\n",
       "      <td>13.0</td>\n",
       "      <td>13.0</td>\n",
       "      <td>13.0</td>\n",
       "      <td>14.0</td>\n",
       "      <td>26.0</td>\n",
       "    </tr>\n",
       "  </tbody>\n",
       "</table>\n",
       "</div>"
      ],
      "text/plain": [
       "               count          mean           std      min      25%      50%  \\\n",
       "BusinessYear  1867.0   2015.143546      0.773187   2014.0   2015.0   2015.0   \n",
       "IssuerId      1867.0  53133.627209  26806.129335  10046.0  29678.0  52664.0   \n",
       "VersionNum    1867.0      5.863417      3.617731      1.0      3.0      5.0   \n",
       "IssuerId2     1867.0  53133.627209  26806.129335  10046.0  29678.0  52664.0   \n",
       "RowNumber     1867.0     13.715051      1.532150     13.0     13.0     13.0   \n",
       "\n",
       "                  75%      max  \n",
       "BusinessYear   2016.0   2016.0  \n",
       "IssuerId      75605.0  99969.0  \n",
       "VersionNum        8.0     24.0  \n",
       "IssuerId2     75605.0  99969.0  \n",
       "RowNumber        14.0     26.0  "
      ]
     },
     "execution_count": 45,
     "metadata": {},
     "output_type": "execute_result"
    }
   ],
   "source": [
    "df.describe().T"
   ]
  },
  {
   "cell_type": "code",
   "execution_count": 46,
   "id": "5fc2bb92",
   "metadata": {
    "ExecuteTime": {
     "end_time": "2024-03-26T18:06:53.853033Z",
     "start_time": "2024-03-26T18:06:53.830429Z"
    }
   },
   "outputs": [
    {
     "data": {
      "text/plain": [
       "StateCode\n",
       "IL    206\n",
       "OH    202\n",
       "MI    195\n",
       "VA    178\n",
       "IA    105\n",
       "KS    102\n",
       "OR     86\n",
       "NE     83\n",
       "MT     79\n",
       "ME     75\n",
       "NH     74\n",
       "UT     62\n",
       "NV     60\n",
       "SD     59\n",
       "AR     58\n",
       "DE     58\n",
       "WV     54\n",
       "NM     37\n",
       "ID     25\n",
       "PA     18\n",
       "HI     11\n",
       "AK      6\n",
       "SC      4\n",
       "GA      4\n",
       "IN      4\n",
       "WI      4\n",
       "LA      3\n",
       "MO      3\n",
       "OK      3\n",
       "TX      3\n",
       "TN      3\n",
       "NC      2\n",
       "AL      1\n",
       "Name: count, dtype: int64"
      ]
     },
     "execution_count": 46,
     "metadata": {},
     "output_type": "execute_result"
    }
   ],
   "source": [
    "df['StateCode'].value_counts()"
   ]
  },
  {
   "cell_type": "code",
   "execution_count": 47,
   "id": "ff53c724",
   "metadata": {
    "ExecuteTime": {
     "end_time": "2024-03-26T18:06:56.255254Z",
     "start_time": "2024-03-26T18:06:56.235208Z"
    }
   },
   "outputs": [
    {
     "data": {
      "text/plain": [
       "MarketCoverage\n",
       "Individual            1030\n",
       "SHOP (Small Group)     837\n",
       "Name: count, dtype: int64"
      ]
     },
     "execution_count": 47,
     "metadata": {},
     "output_type": "execute_result"
    }
   ],
   "source": [
    "df['MarketCoverage'].value_counts()"
   ]
  },
  {
   "cell_type": "code",
   "execution_count": 48,
   "id": "355dcd07",
   "metadata": {
    "ExecuteTime": {
     "end_time": "2024-03-26T18:06:57.931226Z",
     "start_time": "2024-03-26T18:06:57.918394Z"
    }
   },
   "outputs": [],
   "source": [
    "df = df.dropna(subset=['MarketCoverage'])"
   ]
  },
  {
   "cell_type": "code",
   "execution_count": 49,
   "id": "0bff6cb0",
   "metadata": {
    "ExecuteTime": {
     "end_time": "2024-03-26T18:06:59.563192Z",
     "start_time": "2024-03-26T18:06:59.539668Z"
    }
   },
   "outputs": [
    {
     "name": "stdout",
     "output_type": "stream",
     "text": [
      "count      1867\n",
      "unique        2\n",
      "top       False\n",
      "freq        961\n",
      "Name: DentalOnlyPlan, dtype: object\n"
     ]
    }
   ],
   "source": [
    "print(df[\"DentalOnlyPlan\"].describe())"
   ]
  },
  {
   "cell_type": "code",
   "execution_count": 37,
   "id": "479b9419",
   "metadata": {},
   "outputs": [],
   "source": [
    "# df = df.dropna(subset=['DentalOnlyPlan'])"
   ]
  },
  {
   "cell_type": "code",
   "execution_count": 50,
   "id": "09e884b9",
   "metadata": {
    "ExecuteTime": {
     "end_time": "2024-03-26T18:07:02.211367Z",
     "start_time": "2024-03-26T18:07:02.196474Z"
    }
   },
   "outputs": [
    {
     "name": "stdout",
     "output_type": "stream",
     "text": [
      "Null count in DentalOnlyPlan column: 0\n"
     ]
    }
   ],
   "source": [
    "# df['DentalOnlyPlan'].isnull().sum()\n",
    "null_count = df['DentalOnlyPlan'].isnull().sum()\n",
    "print(\"Null count in DentalOnlyPlan column:\", null_count)"
   ]
  },
  {
   "cell_type": "code",
   "execution_count": 51,
   "id": "c21b3ff9",
   "metadata": {
    "ExecuteTime": {
     "end_time": "2024-03-26T18:07:58.853204Z",
     "start_time": "2024-03-26T18:07:58.839999Z"
    }
   },
   "outputs": [],
   "source": [
    "# df['DentalOnlyPlan'] = df['DentalOnlyPlan'].replace({'Yes': True, 'No': False})\n",
    "df.loc[:, 'DentalOnlyPlan'] = df['DentalOnlyPlan'].replace({'Yes': True, 'No': False})\n"
   ]
  },
  {
   "cell_type": "code",
   "execution_count": null,
   "id": "53aa9cbf",
   "metadata": {
    "ExecuteTime": {
     "end_time": "2024-03-26T18:09:37.912946Z",
     "start_time": "2024-03-26T18:09:37.896031Z"
    }
   },
   "outputs": [],
   "source": [
    "# median_value = df['DentalOnlyPlan'].median()\n",
    "# df['DentalOnlyPlan'].fillna(median_value, inplace=True)\n",
    "# median_value = df['DentalOnlyPlan'].median()\n",
    "# df.loc[:, 'DentalOnlyPlan'] = df['DentalOnlyPlan'].fillna(median_value)\n"
   ]
  },
  {
   "cell_type": "code",
   "execution_count": 52,
   "id": "5636c0de",
   "metadata": {
    "ExecuteTime": {
     "end_time": "2024-03-26T18:09:40.157457Z",
     "start_time": "2024-03-26T18:09:40.097155Z"
    }
   },
   "outputs": [
    {
     "name": "stdout",
     "output_type": "stream",
     "text": [
      "   BusinessYear StateCode  IssuerId SourceName  VersionNum  \\\n",
      "0          2014        IL     36096      SERFF          10   \n",
      "1          2014        IL     36096      SERFF          10   \n",
      "2          2014        IL     36096      SERFF          10   \n",
      "3          2014        IL     36096      SERFF          10   \n",
      "4          2014        IL     36096      SERFF          10   \n",
      "\n",
      "            ImportDate  IssuerId2 StateCode2         NetworkName NetworkId  \\\n",
      "0  2014-01-22 11:51:12      36096         IL                 PPO    ILN001   \n",
      "1  2014-01-22 11:51:12      36096         IL     Blue Choice PPO    ILN002   \n",
      "2  2014-01-22 11:51:12      36096         IL     Blue Choice PPO    ILN002   \n",
      "3  2014-01-22 11:51:12      36096         IL  Blue Precision HMO    ILN003   \n",
      "4  2014-01-22 11:51:12      36096         IL  Blue Precision HMO    ILN003   \n",
      "\n",
      "                                          NetworkURL  RowNumber  \\\n",
      "0  https://public.hcsc.net/providerfinder/search....         13   \n",
      "1  https://public.hcsc.net/providerfinder/search....         14   \n",
      "2  https://public.hcsc.net/providerfinder/search....         14   \n",
      "3  https://public.hcsc.net/providerfinder/search....         15   \n",
      "4  https://public.hcsc.net/providerfinder/search....         15   \n",
      "\n",
      "       MarketCoverage  DentalOnlyPlan  \n",
      "0          Individual           False  \n",
      "1  SHOP (Small Group)           False  \n",
      "2          Individual           False  \n",
      "3  SHOP (Small Group)           False  \n",
      "4          Individual           False  \n"
     ]
    }
   ],
   "source": [
    "cleaned_file_path = 'Network_cleaned.csv'\n",
    "df.to_csv(cleaned_file_path, index=False)\n",
    "\n",
    "# Load the cleaned data from the new CSV file to verify\n",
    "df_cleaned = pd.read_csv(cleaned_file_path)\n",
    "print(df_cleaned.head())"
   ]
  }
 ],
 "metadata": {
  "kernelspec": {
   "display_name": "Python 3 (ipykernel)",
   "language": "python",
   "name": "python3"
  },
  "language_info": {
   "codemirror_mode": {
    "name": "ipython",
    "version": 3
   },
   "file_extension": ".py",
   "mimetype": "text/x-python",
   "name": "python",
   "nbconvert_exporter": "python",
   "pygments_lexer": "ipython3",
   "version": "3.11.3"
  }
 },
 "nbformat": 4,
 "nbformat_minor": 5
}
