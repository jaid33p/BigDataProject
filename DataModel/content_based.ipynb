{
  "nbformat": 4,
  "nbformat_minor": 0,
  "metadata": {
    "colab": {
      "provenance": []
    },
    "kernelspec": {
      "name": "python3",
      "display_name": "Python 3"
    },
    "language_info": {
      "name": "python"
    },
    "accelerator": "GPU",
    "gpuClass": "standard"
  },
  "cells": [
    {
      "cell_type": "code",
      "source": [
        "!pip install pyspark "
      ],
      "metadata": {
        "colab": {
          "base_uri": "https://localhost:8080/"
        },
        "id": "akzAtVssXFP-",
        "outputId": "9787aef3-f452-4610-8906-81bf2a494d33"
      },
      "execution_count": null,
      "outputs": [
        {
          "output_type": "stream",
          "name": "stdout",
          "text": [
            "Looking in indexes: https://pypi.org/simple, https://us-python.pkg.dev/colab-wheels/public/simple/\n",
            "Collecting pyspark\n",
            "  Downloading pyspark-3.3.2.tar.gz (281.4 MB)\n",
            "\u001b[2K     \u001b[90m━━━━━━━━━━━━━━━━━━━━━━━━━━━━━━━━━━━━━━━\u001b[0m \u001b[32m281.4/281.4 MB\u001b[0m \u001b[31m4.4 MB/s\u001b[0m eta \u001b[36m0:00:00\u001b[0m\n",
            "\u001b[?25h  Preparing metadata (setup.py) ... \u001b[?25l\u001b[?25hdone\n",
            "Collecting py4j==0.10.9.5\n",
            "  Downloading py4j-0.10.9.5-py2.py3-none-any.whl (199 kB)\n",
            "\u001b[2K     \u001b[90m━━━━━━━━━━━━━━━━━━━━━━━━━━━━━━━━━━━━━━\u001b[0m \u001b[32m199.7/199.7 KB\u001b[0m \u001b[31m20.2 MB/s\u001b[0m eta \u001b[36m0:00:00\u001b[0m\n",
            "\u001b[?25hBuilding wheels for collected packages: pyspark\n",
            "  Building wheel for pyspark (setup.py) ... \u001b[?25l\u001b[?25hdone\n",
            "  Created wheel for pyspark: filename=pyspark-3.3.2-py2.py3-none-any.whl size=281824028 sha256=274c88c46d7255f005e185403c403b6107074cffe2fa8f32830a98a1300cbf82\n",
            "  Stored in directory: /root/.cache/pip/wheels/6c/e3/9b/0525ce8a69478916513509d43693511463c6468db0de237c86\n",
            "Successfully built pyspark\n",
            "Installing collected packages: py4j, pyspark\n",
            "  Attempting uninstall: py4j\n",
            "    Found existing installation: py4j 0.10.9.7\n",
            "    Uninstalling py4j-0.10.9.7:\n",
            "      Successfully uninstalled py4j-0.10.9.7\n",
            "Successfully installed py4j-0.10.9.5 pyspark-3.3.2\n"
          ]
        }
      ]
    },
    {
      "cell_type": "code",
      "source": [
        "import pandas as pd\n",
        "from sklearn.tree import DecisionTreeRegressor\n",
        "from sklearn.model_selection import train_test_split\n",
        "from sklearn.metrics import f1_score\n",
        "from sklearn.metrics.pairwise import cosine_similarity"
      ],
      "metadata": {
        "id": "IC77mjh8sccJ"
      },
      "execution_count": 1,
      "outputs": []
    },
    {
      "cell_type": "code",
      "source": [
        "df = pd.read_csv(\"clean_2.csv\",index_col=0)\n",
        "\n",
        "df1 = df"
      ],
      "metadata": {
        "id": "xOkMJuWkshHY"
      },
      "execution_count": 12,
      "outputs": []
    },
    {
      "cell_type": "code",
      "source": [
        "import numpy as np\n",
        "num_rows = df.shape[0]\n",
        "random_rows = np.random.choice(num_rows, size=int(num_rows*0.01), replace=False)\n",
        "subset_df = df.iloc[random_rows, :]"
      ],
      "metadata": {
        "id": "FNLytAIssjvM"
      },
      "execution_count": 13,
      "outputs": []
    },
    {
      "cell_type": "code",
      "source": [
        "features = ['BusinessYear', 'StateCode', 'SourceName', 'RatingAreaId', 'Tobacco', 'Age', 'PrimarySubscriberAndThreeOrMoreDependents','tobacco_rate']\n",
        "target = 'PlanId'\n",
        "df.head()"
      ],
      "metadata": {
        "id": "ly_4uKvtsnlV"
      },
      "execution_count": null,
      "outputs": []
    },
    {
      "cell_type": "code",
      "source": [
        "df = df.dropna()"
      ],
      "metadata": {
        "id": "MjhfAxzmo3AR"
      },
      "execution_count": 15,
      "outputs": []
    },
    {
      "cell_type": "code",
      "source": [
        "df.shape"
      ],
      "metadata": {
        "colab": {
          "base_uri": "https://localhost:8080/"
        },
        "id": "WzKnTAyupVJf",
        "outputId": "daf83bcb-7a10-4e8c-c954-2766969f8aae"
      },
      "execution_count": 16,
      "outputs": [
        {
          "output_type": "execute_result",
          "data": {
            "text/plain": [
              "(5000, 10)"
            ]
          },
          "metadata": {},
          "execution_count": 16
        }
      ]
    },
    {
      "cell_type": "code",
      "source": [
        "from sklearn.preprocessing import LabelEncoder,MinMaxScaler\n",
        "cols_to_encode = ['SourceName','StateCode','Tobacco','PlanId','RatingAreaId']\n",
        "\n",
        "les = [LabelEncoder() for _ in range(len(cols_to_encode))]\n",
        "for i,col in enumerate(cols_to_encode):\n",
        "    df[col] = les[i].fit_transform(df[col])\n"
      ],
      "metadata": {
        "id": "U5-yd2ojso2n"
      },
      "execution_count": 17,
      "outputs": []
    },
    {
      "cell_type": "code",
      "source": [
        "#min max scaller"
      ],
      "metadata": {
        "id": "c6ru3OYuTvCB"
      },
      "execution_count": null,
      "outputs": []
    },
    {
      "cell_type": "code",
      "source": [
        "#scaler = MinMaxScaler()\n",
        "#cols_to_scale = ['BusinessYear','Age','IndividualRate','PrimarySubscriberAndThreeOrMoreDependents','tobacco_rate']\n",
        "#df[cols_to_scale] = scaler.fit_transform(df[cols_to_scale])"
      ],
      "metadata": {
        "id": "q3VBMH-6emYP"
      },
      "execution_count": null,
      "outputs": []
    },
    {
      "cell_type": "code",
      "source": [
        "df.head(2)"
      ],
      "metadata": {
        "id": "HlpFMjaPsrmA",
        "outputId": "94fcded3-e873-48e8-9e01-598cfe263541",
        "colab": {
          "base_uri": "https://localhost:8080/",
          "height": 176
        }
      },
      "execution_count": 18,
      "outputs": [
        {
          "output_type": "execute_result",
          "data": {
            "text/plain": [
              "   BusinessYear  StateCode  SourceName  PlanId  RatingAreaId  Tobacco  Age  \\\n",
              "0          2014          0           0       0             0        0   10   \n",
              "1          2014          0           0       1             0        0   -5   \n",
              "\n",
              "   IndividualRate  PrimarySubscriberAndThreeOrMoreDependents  tobacco_rate  \n",
              "0           29.00                                        0.0         29.00  \n",
              "1           36.95                                        1.0        107.61  "
            ],
            "text/html": [
              "\n",
              "  <div id=\"df-f3f2c56d-703d-4611-b359-25fe82c5c09d\">\n",
              "    <div class=\"colab-df-container\">\n",
              "      <div>\n",
              "<style scoped>\n",
              "    .dataframe tbody tr th:only-of-type {\n",
              "        vertical-align: middle;\n",
              "    }\n",
              "\n",
              "    .dataframe tbody tr th {\n",
              "        vertical-align: top;\n",
              "    }\n",
              "\n",
              "    .dataframe thead th {\n",
              "        text-align: right;\n",
              "    }\n",
              "</style>\n",
              "<table border=\"1\" class=\"dataframe\">\n",
              "  <thead>\n",
              "    <tr style=\"text-align: right;\">\n",
              "      <th></th>\n",
              "      <th>BusinessYear</th>\n",
              "      <th>StateCode</th>\n",
              "      <th>SourceName</th>\n",
              "      <th>PlanId</th>\n",
              "      <th>RatingAreaId</th>\n",
              "      <th>Tobacco</th>\n",
              "      <th>Age</th>\n",
              "      <th>IndividualRate</th>\n",
              "      <th>PrimarySubscriberAndThreeOrMoreDependents</th>\n",
              "      <th>tobacco_rate</th>\n",
              "    </tr>\n",
              "  </thead>\n",
              "  <tbody>\n",
              "    <tr>\n",
              "      <th>0</th>\n",
              "      <td>2014</td>\n",
              "      <td>0</td>\n",
              "      <td>0</td>\n",
              "      <td>0</td>\n",
              "      <td>0</td>\n",
              "      <td>0</td>\n",
              "      <td>10</td>\n",
              "      <td>29.00</td>\n",
              "      <td>0.0</td>\n",
              "      <td>29.00</td>\n",
              "    </tr>\n",
              "    <tr>\n",
              "      <th>1</th>\n",
              "      <td>2014</td>\n",
              "      <td>0</td>\n",
              "      <td>0</td>\n",
              "      <td>1</td>\n",
              "      <td>0</td>\n",
              "      <td>0</td>\n",
              "      <td>-5</td>\n",
              "      <td>36.95</td>\n",
              "      <td>1.0</td>\n",
              "      <td>107.61</td>\n",
              "    </tr>\n",
              "  </tbody>\n",
              "</table>\n",
              "</div>\n",
              "      <button class=\"colab-df-convert\" onclick=\"convertToInteractive('df-f3f2c56d-703d-4611-b359-25fe82c5c09d')\"\n",
              "              title=\"Convert this dataframe to an interactive table.\"\n",
              "              style=\"display:none;\">\n",
              "        \n",
              "  <svg xmlns=\"http://www.w3.org/2000/svg\" height=\"24px\"viewBox=\"0 0 24 24\"\n",
              "       width=\"24px\">\n",
              "    <path d=\"M0 0h24v24H0V0z\" fill=\"none\"/>\n",
              "    <path d=\"M18.56 5.44l.94 2.06.94-2.06 2.06-.94-2.06-.94-.94-2.06-.94 2.06-2.06.94zm-11 1L8.5 8.5l.94-2.06 2.06-.94-2.06-.94L8.5 2.5l-.94 2.06-2.06.94zm10 10l.94 2.06.94-2.06 2.06-.94-2.06-.94-.94-2.06-.94 2.06-2.06.94z\"/><path d=\"M17.41 7.96l-1.37-1.37c-.4-.4-.92-.59-1.43-.59-.52 0-1.04.2-1.43.59L10.3 9.45l-7.72 7.72c-.78.78-.78 2.05 0 2.83L4 21.41c.39.39.9.59 1.41.59.51 0 1.02-.2 1.41-.59l7.78-7.78 2.81-2.81c.8-.78.8-2.07 0-2.86zM5.41 20L4 18.59l7.72-7.72 1.47 1.35L5.41 20z\"/>\n",
              "  </svg>\n",
              "      </button>\n",
              "      \n",
              "  <style>\n",
              "    .colab-df-container {\n",
              "      display:flex;\n",
              "      flex-wrap:wrap;\n",
              "      gap: 12px;\n",
              "    }\n",
              "\n",
              "    .colab-df-convert {\n",
              "      background-color: #E8F0FE;\n",
              "      border: none;\n",
              "      border-radius: 50%;\n",
              "      cursor: pointer;\n",
              "      display: none;\n",
              "      fill: #1967D2;\n",
              "      height: 32px;\n",
              "      padding: 0 0 0 0;\n",
              "      width: 32px;\n",
              "    }\n",
              "\n",
              "    .colab-df-convert:hover {\n",
              "      background-color: #E2EBFA;\n",
              "      box-shadow: 0px 1px 2px rgba(60, 64, 67, 0.3), 0px 1px 3px 1px rgba(60, 64, 67, 0.15);\n",
              "      fill: #174EA6;\n",
              "    }\n",
              "\n",
              "    [theme=dark] .colab-df-convert {\n",
              "      background-color: #3B4455;\n",
              "      fill: #D2E3FC;\n",
              "    }\n",
              "\n",
              "    [theme=dark] .colab-df-convert:hover {\n",
              "      background-color: #434B5C;\n",
              "      box-shadow: 0px 1px 3px 1px rgba(0, 0, 0, 0.15);\n",
              "      filter: drop-shadow(0px 1px 2px rgba(0, 0, 0, 0.3));\n",
              "      fill: #FFFFFF;\n",
              "    }\n",
              "  </style>\n",
              "\n",
              "      <script>\n",
              "        const buttonEl =\n",
              "          document.querySelector('#df-f3f2c56d-703d-4611-b359-25fe82c5c09d button.colab-df-convert');\n",
              "        buttonEl.style.display =\n",
              "          google.colab.kernel.accessAllowed ? 'block' : 'none';\n",
              "\n",
              "        async function convertToInteractive(key) {\n",
              "          const element = document.querySelector('#df-f3f2c56d-703d-4611-b359-25fe82c5c09d');\n",
              "          const dataTable =\n",
              "            await google.colab.kernel.invokeFunction('convertToInteractive',\n",
              "                                                     [key], {});\n",
              "          if (!dataTable) return;\n",
              "\n",
              "          const docLinkHtml = 'Like what you see? Visit the ' +\n",
              "            '<a target=\"_blank\" href=https://colab.research.google.com/notebooks/data_table.ipynb>data table notebook</a>'\n",
              "            + ' to learn more about interactive tables.';\n",
              "          element.innerHTML = '';\n",
              "          dataTable['output_type'] = 'display_data';\n",
              "          await google.colab.output.renderOutput(dataTable, element);\n",
              "          const docLink = document.createElement('div');\n",
              "          docLink.innerHTML = docLinkHtml;\n",
              "          element.appendChild(docLink);\n",
              "        }\n",
              "      </script>\n",
              "    </div>\n",
              "  </div>\n",
              "  "
            ]
          },
          "metadata": {},
          "execution_count": 18
        }
      ]
    },
    {
      "cell_type": "code",
      "source": [
        "X_train, X_test, y_train, y_test= train_test_split(df[features], df[[target]], test_size=0.2, random_state=42)"
      ],
      "metadata": {
        "id": "QFI_-hLmysqU"
      },
      "execution_count": 19,
      "outputs": []
    },
    {
      "cell_type": "code",
      "source": [
        "X_train"
      ],
      "metadata": {
        "id": "WypvzJaWzN-V"
      },
      "execution_count": null,
      "outputs": []
    },
    {
      "cell_type": "code",
      "source": [
        "user_recs = []\n",
        "for i,user_features in enumerate(X_test.iterrows()):\n",
        "    similarity_scores = np.array([cosine_similarity(user_features[1].values.reshape(1, -1), item[1].values.reshape(1, -1))[0] for t,item in enumerate(X_train.iterrows())])\n",
        "    top_indices = np.argsort(similarity_scores.flatten())[-10:]\n",
        "    user_recs.append({'user': i, 'recommendations': top_indices})\n"
      ],
      "metadata": {
        "id": "1y93AgZgzcvP"
      },
      "execution_count": 21,
      "outputs": []
    },
    {
      "cell_type": "code",
      "source": [
        "user_id = 0\n",
        "recommendations = user_recs[user_id]['recommendations']\n",
        "print(f\"Recommendations for user {user_id}:\")\n",
        "for i, plan_idx in enumerate(recommendations):\n",
        "  print(les[3].inverse_transform(y_train.iloc[plan_idx]))\n",
        "  print(les[3].inverse_transform(y_test.iloc[user_id]))\n",
        "\n"
      ],
      "metadata": {
        "id": "vZE0-jYmICwY"
      },
      "execution_count": null,
      "outputs": []
    },
    {
      "cell_type": "code",
      "source": [
        "y_pred = []\n",
        "for user_id in range(len(X_test)):\n",
        "  recommendations = user_recs[user_id]['recommendations']\n",
        "  y_pred.append(les[3].inverse_transform(y_train.iloc[recommendations[-1]]))"
      ],
      "metadata": {
        "id": "pm84UxpBSgkA"
      },
      "execution_count": 23,
      "outputs": []
    },
    {
      "cell_type": "code",
      "source": [
        "print(f1_score(les[3].inverse_transform(y_test),y_pred,average='weighted'))"
      ],
      "metadata": {
        "id": "1X690gbSONyp",
        "colab": {
          "base_uri": "https://localhost:8080/"
        },
        "outputId": "6631ec16-0f2d-4089-889d-5fd81e7229be"
      },
      "execution_count": 24,
      "outputs": [
        {
          "output_type": "stream",
          "name": "stdout",
          "text": [
            "0.7815498011097902\n"
          ]
        },
        {
          "output_type": "stream",
          "name": "stderr",
          "text": [
            "/usr/local/lib/python3.9/dist-packages/sklearn/preprocessing/_label.py:155: DataConversionWarning: A column-vector y was passed when a 1d array was expected. Please change the shape of y to (n_samples, ), for example using ravel().\n",
            "  y = column_or_1d(y, warn=True)\n"
          ]
        }
      ]
    },
    {
      "cell_type": "code",
      "source": [
        "from sklearn.metrics import  classification_report"
      ],
      "metadata": {
        "id": "clfa_UuwTefv"
      },
      "execution_count": 25,
      "outputs": []
    },
    {
      "cell_type": "code",
      "source": [
        "y_pred"
      ],
      "metadata": {
        "id": "U9Hn1kxq_aoO"
      },
      "execution_count": null,
      "outputs": []
    },
    {
      "cell_type": "code",
      "source": [
        "y_test"
      ],
      "metadata": {
        "id": "D6oafS9n_fXU"
      },
      "execution_count": null,
      "outputs": []
    },
    {
      "cell_type": "code",
      "source": [
        "print(classification_report(les[3].inverse_transform(y_test), y_pred))"
      ],
      "metadata": {
        "id": "ZDf1sN8M8CX2",
        "outputId": "051f4ee8-bfe4-41e0-bac8-8ad12a74cedc",
        "colab": {
          "base_uri": "https://localhost:8080/"
        }
      },
      "execution_count": 29,
      "outputs": [
        {
          "output_type": "stream",
          "name": "stdout",
          "text": [
            "                precision    recall  f1-score   support\n",
            "\n",
            "21989AK0010001       0.94      0.97      0.96        34\n",
            "38536AK0010001       1.00      0.97      0.98        33\n",
            "38536AK0010002       0.96      0.93      0.94        27\n",
            "38536AK0010003       0.97      1.00      0.98        30\n",
            "42507AK0010001       0.09      0.10      0.09        31\n",
            "42507AK0020001       0.15      0.15      0.15        34\n",
            "42507AK0030001       1.00      1.00      1.00         1\n",
            "42507AK0040001       1.00      1.00      1.00         1\n",
            "42507AK0060001       1.00      1.00      1.00         1\n",
            "45858AK0030001       0.00      0.00      0.00        21\n",
            "45858AK0030002       0.00      0.00      0.00        33\n",
            "45858AK0040001       0.03      0.04      0.04        26\n",
            "45858AK0040002       0.00      0.00      0.00        27\n",
            "73836AK0620001       0.95      1.00      0.98        21\n",
            "73836AK0630001       0.90      0.93      0.91        28\n",
            "73836AK0630002       0.81      0.84      0.82        25\n",
            "73836AK0640001       0.90      0.90      0.90        29\n",
            "73836AK0650001       0.82      1.00      0.90        18\n",
            "73836AK0650002       1.00      0.44      0.62         9\n",
            "73836AK0680004       0.97      0.98      0.97        98\n",
            "73836AK0680007       0.97      0.96      0.97       110\n",
            "73836AK0680011       0.92      0.97      0.94       112\n",
            "73836AK0680015       0.98      0.92      0.95       115\n",
            "73836AK0680017       0.93      1.00      0.97       112\n",
            "73836AK0680019       0.57      0.33      0.42        24\n",
            "\n",
            "      accuracy                           0.79      1000\n",
            "     macro avg       0.71      0.70      0.70      1000\n",
            "  weighted avg       0.78      0.79      0.78      1000\n",
            "\n"
          ]
        },
        {
          "output_type": "stream",
          "name": "stderr",
          "text": [
            "/usr/local/lib/python3.9/dist-packages/sklearn/preprocessing/_label.py:155: DataConversionWarning: A column-vector y was passed when a 1d array was expected. Please change the shape of y to (n_samples, ), for example using ravel().\n",
            "  y = column_or_1d(y, warn=True)\n"
          ]
        }
      ]
    },
    {
      "cell_type": "code",
      "source": [],
      "metadata": {
        "id": "rA9Tdb4f_tlW"
      },
      "execution_count": null,
      "outputs": []
    }
  ]
}