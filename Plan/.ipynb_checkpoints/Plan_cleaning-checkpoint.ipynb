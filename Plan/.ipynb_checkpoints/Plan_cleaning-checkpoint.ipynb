{
 "cells": [
  {
   "cell_type": "code",
   "execution_count": 1,
   "metadata": {
    "ExecuteTime": {
     "end_time": "2024-03-26T18:12:13.932210Z",
     "start_time": "2024-03-26T18:12:12.938197Z"
    },
    "id": "nSNROaUajIhE"
   },
   "outputs": [],
   "source": [
    "import pandas as pd\n",
    "import numpy as np"
   ]
  },
  {
   "cell_type": "code",
   "execution_count": 2,
   "metadata": {
    "ExecuteTime": {
     "end_time": "2024-03-26T18:12:54.648131Z",
     "start_time": "2024-03-26T18:12:50.980451Z"
    },
    "id": "kaaT11mjo0Q6"
   },
   "outputs": [
    {
     "name": "stderr",
     "output_type": "stream",
     "text": [
      "C:\\Users\\tylri\\AppData\\Local\\Temp\\ipykernel_20792\\2278427082.py:2: DtypeWarning: Columns (0,7,8,9,10,11,12,13,14,15,18,19,20,22,23,24,25,26,27,28,29,31,32,33,34,39,40,41,42,66,67,68,70,71,72,75,76,77,79,80,81,82,84,85,86,88,89,90,92,93,94,96,97,98,136,137,138,140,141,142,145,146,147,150,151,152,154,155,156,158,159,160,162,163,164,166,167,168) have mixed types. Specify dtype option on import or set low_memory=False.\n",
      "  df = pd.read_csv(r'C:\\Users\\tylri\\OneDrive\\Desktop\\big_data_project\\plan\\PlanAttributes.csv')\n"
     ]
    }
   ],
   "source": [
    "# df =  pd.read_csv('C:\\Users\\tylri\\OneDrive\\Desktop\\big_data_project\\plan\\PlanAttributes.csv')\n",
    "df = pd.read_csv(r'C:\\Users\\tylri\\OneDrive\\Desktop\\big_data_project\\plan\\PlanAttributes.csv')\n"
   ]
  },
  {
   "cell_type": "code",
   "execution_count": 3,
   "metadata": {
    "id": "IgbSH3KBeLMA"
   },
   "outputs": [
    {
     "data": {
      "text/html": [
       "<div>\n",
       "<style scoped>\n",
       "    .dataframe tbody tr th:only-of-type {\n",
       "        vertical-align: middle;\n",
       "    }\n",
       "\n",
       "    .dataframe tbody tr th {\n",
       "        vertical-align: top;\n",
       "    }\n",
       "\n",
       "    .dataframe thead th {\n",
       "        text-align: right;\n",
       "    }\n",
       "</style>\n",
       "<table border=\"1\" class=\"dataframe\">\n",
       "  <thead>\n",
       "    <tr style=\"text-align: right;\">\n",
       "      <th></th>\n",
       "      <th>AVCalculatorOutputNumber</th>\n",
       "      <th>BeginPrimaryCareCostSharingAfterNumberOfVisits</th>\n",
       "      <th>BeginPrimaryCareDeductibleCoinsuranceAfterNumberOfCopays</th>\n",
       "      <th>BenefitPackageId</th>\n",
       "      <th>BusinessYear</th>\n",
       "      <th>CSRVariationType</th>\n",
       "      <th>ChildOnlyOffering</th>\n",
       "      <th>ChildOnlyPlanId</th>\n",
       "      <th>CompositeRatingOffered</th>\n",
       "      <th>DEHBCombInnOonFamilyMOOP</th>\n",
       "      <th>...</th>\n",
       "      <th>TEHBOutOfNetFamilyMOOP</th>\n",
       "      <th>TEHBOutOfNetFamilyPerGroupMOOP</th>\n",
       "      <th>TEHBOutOfNetFamilyPerPersonMOOP</th>\n",
       "      <th>TEHBOutOfNetIndividualMOOP</th>\n",
       "      <th>TIN</th>\n",
       "      <th>URLForEnrollmentPayment</th>\n",
       "      <th>URLForSummaryofBenefitsCoverage</th>\n",
       "      <th>UniquePlanDesign</th>\n",
       "      <th>VersionNum</th>\n",
       "      <th>WellnessProgramOffered</th>\n",
       "    </tr>\n",
       "  </thead>\n",
       "  <tbody>\n",
       "    <tr>\n",
       "      <th>0</th>\n",
       "      <td>NaN</td>\n",
       "      <td>0</td>\n",
       "      <td>0</td>\n",
       "      <td>1</td>\n",
       "      <td>2014</td>\n",
       "      <td>Standard Low Off Exchange Plan</td>\n",
       "      <td>Allows Adult and Child-Only</td>\n",
       "      <td>NaN</td>\n",
       "      <td>NaN</td>\n",
       "      <td>NaN</td>\n",
       "      <td>...</td>\n",
       "      <td>NaN</td>\n",
       "      <td>NaN</td>\n",
       "      <td>NaN</td>\n",
       "      <td>NaN</td>\n",
       "      <td>93-0438772</td>\n",
       "      <td>https://www.modahealth.com/employers/enroll.shtml</td>\n",
       "      <td>https://www.modahealth.com/producers/grp/den.s...</td>\n",
       "      <td>NaN</td>\n",
       "      <td>6</td>\n",
       "      <td>NaN</td>\n",
       "    </tr>\n",
       "    <tr>\n",
       "      <th>1</th>\n",
       "      <td>NaN</td>\n",
       "      <td>0</td>\n",
       "      <td>0</td>\n",
       "      <td>1</td>\n",
       "      <td>2014</td>\n",
       "      <td>Standard Low On Exchange Plan</td>\n",
       "      <td>Allows Adult and Child-Only</td>\n",
       "      <td>NaN</td>\n",
       "      <td>NaN</td>\n",
       "      <td>NaN</td>\n",
       "      <td>...</td>\n",
       "      <td>NaN</td>\n",
       "      <td>NaN</td>\n",
       "      <td>NaN</td>\n",
       "      <td>NaN</td>\n",
       "      <td>93-0438772</td>\n",
       "      <td>https://www.modahealth.com/employers/enroll.shtml</td>\n",
       "      <td>https://www.modahealth.com/producers/grp/den.s...</td>\n",
       "      <td>NaN</td>\n",
       "      <td>6</td>\n",
       "      <td>NaN</td>\n",
       "    </tr>\n",
       "    <tr>\n",
       "      <th>2</th>\n",
       "      <td>NaN</td>\n",
       "      <td>0</td>\n",
       "      <td>0</td>\n",
       "      <td>1</td>\n",
       "      <td>2014</td>\n",
       "      <td>Standard High Off Exchange Plan</td>\n",
       "      <td>Allows Adult and Child-Only</td>\n",
       "      <td>NaN</td>\n",
       "      <td>NaN</td>\n",
       "      <td>NaN</td>\n",
       "      <td>...</td>\n",
       "      <td>NaN</td>\n",
       "      <td>NaN</td>\n",
       "      <td>NaN</td>\n",
       "      <td>NaN</td>\n",
       "      <td>93-0438772</td>\n",
       "      <td>https://www.modahealth.com/employers/enroll.shtml</td>\n",
       "      <td>https://www.modahealth.com/producers/grp/den.s...</td>\n",
       "      <td>NaN</td>\n",
       "      <td>6</td>\n",
       "      <td>NaN</td>\n",
       "    </tr>\n",
       "    <tr>\n",
       "      <th>3</th>\n",
       "      <td>NaN</td>\n",
       "      <td>0</td>\n",
       "      <td>0</td>\n",
       "      <td>1</td>\n",
       "      <td>2014</td>\n",
       "      <td>Standard Low Off Exchange Plan</td>\n",
       "      <td>Allows Adult and Child-Only</td>\n",
       "      <td>NaN</td>\n",
       "      <td>NaN</td>\n",
       "      <td>NaN</td>\n",
       "      <td>...</td>\n",
       "      <td>NaN</td>\n",
       "      <td>NaN</td>\n",
       "      <td>NaN</td>\n",
       "      <td>NaN</td>\n",
       "      <td>93-0438772</td>\n",
       "      <td>https://www.modahealth.com/mymoda/</td>\n",
       "      <td>https://www.modahealth.com/pdfs/plans/individu...</td>\n",
       "      <td>NaN</td>\n",
       "      <td>6</td>\n",
       "      <td>NaN</td>\n",
       "    </tr>\n",
       "    <tr>\n",
       "      <th>4</th>\n",
       "      <td>NaN</td>\n",
       "      <td>0</td>\n",
       "      <td>0</td>\n",
       "      <td>1</td>\n",
       "      <td>2014</td>\n",
       "      <td>Standard Low On Exchange Plan</td>\n",
       "      <td>Allows Adult and Child-Only</td>\n",
       "      <td>NaN</td>\n",
       "      <td>NaN</td>\n",
       "      <td>NaN</td>\n",
       "      <td>...</td>\n",
       "      <td>NaN</td>\n",
       "      <td>NaN</td>\n",
       "      <td>NaN</td>\n",
       "      <td>NaN</td>\n",
       "      <td>93-0438772</td>\n",
       "      <td>https://www.modahealth.com/mymoda/</td>\n",
       "      <td>https://www.modahealth.com/pdfs/plans/individu...</td>\n",
       "      <td>NaN</td>\n",
       "      <td>6</td>\n",
       "      <td>NaN</td>\n",
       "    </tr>\n",
       "  </tbody>\n",
       "</table>\n",
       "<p>5 rows × 176 columns</p>\n",
       "</div>"
      ],
      "text/plain": [
       "  AVCalculatorOutputNumber  BeginPrimaryCareCostSharingAfterNumberOfVisits  \\\n",
       "0                      NaN                                               0   \n",
       "1                      NaN                                               0   \n",
       "2                      NaN                                               0   \n",
       "3                      NaN                                               0   \n",
       "4                      NaN                                               0   \n",
       "\n",
       "   BeginPrimaryCareDeductibleCoinsuranceAfterNumberOfCopays  BenefitPackageId  \\\n",
       "0                                                  0                        1   \n",
       "1                                                  0                        1   \n",
       "2                                                  0                        1   \n",
       "3                                                  0                        1   \n",
       "4                                                  0                        1   \n",
       "\n",
       "   BusinessYear                 CSRVariationType            ChildOnlyOffering  \\\n",
       "0          2014   Standard Low Off Exchange Plan  Allows Adult and Child-Only   \n",
       "1          2014    Standard Low On Exchange Plan  Allows Adult and Child-Only   \n",
       "2          2014  Standard High Off Exchange Plan  Allows Adult and Child-Only   \n",
       "3          2014   Standard Low Off Exchange Plan  Allows Adult and Child-Only   \n",
       "4          2014    Standard Low On Exchange Plan  Allows Adult and Child-Only   \n",
       "\n",
       "  ChildOnlyPlanId CompositeRatingOffered DEHBCombInnOonFamilyMOOP  ...  \\\n",
       "0             NaN                    NaN                      NaN  ...   \n",
       "1             NaN                    NaN                      NaN  ...   \n",
       "2             NaN                    NaN                      NaN  ...   \n",
       "3             NaN                    NaN                      NaN  ...   \n",
       "4             NaN                    NaN                      NaN  ...   \n",
       "\n",
       "  TEHBOutOfNetFamilyMOOP TEHBOutOfNetFamilyPerGroupMOOP  \\\n",
       "0                    NaN                            NaN   \n",
       "1                    NaN                            NaN   \n",
       "2                    NaN                            NaN   \n",
       "3                    NaN                            NaN   \n",
       "4                    NaN                            NaN   \n",
       "\n",
       "  TEHBOutOfNetFamilyPerPersonMOOP TEHBOutOfNetIndividualMOOP         TIN  \\\n",
       "0                             NaN                        NaN  93-0438772   \n",
       "1                             NaN                        NaN  93-0438772   \n",
       "2                             NaN                        NaN  93-0438772   \n",
       "3                             NaN                        NaN  93-0438772   \n",
       "4                             NaN                        NaN  93-0438772   \n",
       "\n",
       "                             URLForEnrollmentPayment  \\\n",
       "0  https://www.modahealth.com/employers/enroll.shtml   \n",
       "1  https://www.modahealth.com/employers/enroll.shtml   \n",
       "2  https://www.modahealth.com/employers/enroll.shtml   \n",
       "3                 https://www.modahealth.com/mymoda/   \n",
       "4                 https://www.modahealth.com/mymoda/   \n",
       "\n",
       "                     URLForSummaryofBenefitsCoverage UniquePlanDesign  \\\n",
       "0  https://www.modahealth.com/producers/grp/den.s...              NaN   \n",
       "1  https://www.modahealth.com/producers/grp/den.s...              NaN   \n",
       "2  https://www.modahealth.com/producers/grp/den.s...              NaN   \n",
       "3  https://www.modahealth.com/pdfs/plans/individu...              NaN   \n",
       "4  https://www.modahealth.com/pdfs/plans/individu...              NaN   \n",
       "\n",
       "  VersionNum WellnessProgramOffered  \n",
       "0          6                    NaN  \n",
       "1          6                    NaN  \n",
       "2          6                    NaN  \n",
       "3          6                    NaN  \n",
       "4          6                    NaN  \n",
       "\n",
       "[5 rows x 176 columns]"
      ]
     },
     "execution_count": 3,
     "metadata": {},
     "output_type": "execute_result"
    }
   ],
   "source": [
    "df.head()\n"
   ]
  },
  {
   "cell_type": "code",
   "execution_count": 4,
   "metadata": {
    "id": "uOLJrEh0iw5G"
   },
   "outputs": [
    {
     "data": {
      "text/plain": [
       "AVCalculatorOutputNumber                                    22825\n",
       "BeginPrimaryCareCostSharingAfterNumberOfVisits                  0\n",
       "BeginPrimaryCareDeductibleCoinsuranceAfterNumberOfCopays        0\n",
       "BenefitPackageId                                                0\n",
       "BusinessYear                                                    0\n",
       "                                                            ...  \n",
       "URLForEnrollmentPayment                                     15853\n",
       "URLForSummaryofBenefitsCoverage                              7124\n",
       "UniquePlanDesign                                            11649\n",
       "VersionNum                                                      0\n",
       "WellnessProgramOffered                                      11637\n",
       "Length: 176, dtype: int64"
      ]
     },
     "execution_count": 4,
     "metadata": {},
     "output_type": "execute_result"
    }
   ],
   "source": [
    "df.isnull().sum()"
   ]
  },
  {
   "cell_type": "code",
   "execution_count": 5,
   "metadata": {
    "id": "9Q3uqSlRjpJw"
   },
   "outputs": [],
   "source": [
    "df = df.fillna(np.nan)"
   ]
  },
  {
   "cell_type": "code",
   "execution_count": 6,
   "metadata": {
    "id": "9x8kxOCZHu8N"
   },
   "outputs": [
    {
     "data": {
      "text/plain": [
       "AVCalculatorOutputNumber                                    22825\n",
       "BeginPrimaryCareCostSharingAfterNumberOfVisits                  0\n",
       "BeginPrimaryCareDeductibleCoinsuranceAfterNumberOfCopays        0\n",
       "BenefitPackageId                                                0\n",
       "BusinessYear                                                    0\n",
       "                                                            ...  \n",
       "URLForEnrollmentPayment                                     15853\n",
       "URLForSummaryofBenefitsCoverage                              7124\n",
       "UniquePlanDesign                                            11649\n",
       "VersionNum                                                      0\n",
       "WellnessProgramOffered                                      11637\n",
       "Length: 176, dtype: int64"
      ]
     },
     "execution_count": 6,
     "metadata": {},
     "output_type": "execute_result"
    }
   ],
   "source": [
    "df.isnull().sum()"
   ]
  },
  {
   "cell_type": "code",
   "execution_count": 7,
   "metadata": {
    "id": "W1ThkQtOHycU"
   },
   "outputs": [
    {
     "data": {
      "text/html": [
       "<div>\n",
       "<style scoped>\n",
       "    .dataframe tbody tr th:only-of-type {\n",
       "        vertical-align: middle;\n",
       "    }\n",
       "\n",
       "    .dataframe tbody tr th {\n",
       "        vertical-align: top;\n",
       "    }\n",
       "\n",
       "    .dataframe thead th {\n",
       "        text-align: right;\n",
       "    }\n",
       "</style>\n",
       "<table border=\"1\" class=\"dataframe\">\n",
       "  <thead>\n",
       "    <tr style=\"text-align: right;\">\n",
       "      <th></th>\n",
       "      <th>count</th>\n",
       "      <th>mean</th>\n",
       "      <th>std</th>\n",
       "      <th>min</th>\n",
       "      <th>25%</th>\n",
       "      <th>50%</th>\n",
       "      <th>75%</th>\n",
       "      <th>max</th>\n",
       "    </tr>\n",
       "  </thead>\n",
       "  <tbody>\n",
       "    <tr>\n",
       "      <th>BeginPrimaryCareCostSharingAfterNumberOfVisits</th>\n",
       "      <td>77353.0</td>\n",
       "      <td>1.542022e-01</td>\n",
       "      <td>6.666280e-01</td>\n",
       "      <td>0.000000e+00</td>\n",
       "      <td>0.000000e+00</td>\n",
       "      <td>0.000000e+00</td>\n",
       "      <td>0.000000e+00</td>\n",
       "      <td>6.000000e+00</td>\n",
       "    </tr>\n",
       "    <tr>\n",
       "      <th>BeginPrimaryCareDeductibleCoinsuranceAfterNumberOfCopays</th>\n",
       "      <td>77353.0</td>\n",
       "      <td>2.988766e-01</td>\n",
       "      <td>1.204669e+00</td>\n",
       "      <td>0.000000e+00</td>\n",
       "      <td>0.000000e+00</td>\n",
       "      <td>0.000000e+00</td>\n",
       "      <td>0.000000e+00</td>\n",
       "      <td>1.000000e+01</td>\n",
       "    </tr>\n",
       "    <tr>\n",
       "      <th>BenefitPackageId</th>\n",
       "      <td>77353.0</td>\n",
       "      <td>4.905860e+00</td>\n",
       "      <td>6.504540e+00</td>\n",
       "      <td>1.000000e+00</td>\n",
       "      <td>1.000000e+00</td>\n",
       "      <td>3.000000e+00</td>\n",
       "      <td>6.000000e+00</td>\n",
       "      <td>8.400000e+01</td>\n",
       "    </tr>\n",
       "    <tr>\n",
       "      <th>BusinessYear</th>\n",
       "      <td>77353.0</td>\n",
       "      <td>2.015112e+03</td>\n",
       "      <td>7.638306e-01</td>\n",
       "      <td>2.014000e+03</td>\n",
       "      <td>2.015000e+03</td>\n",
       "      <td>2.015000e+03</td>\n",
       "      <td>2.016000e+03</td>\n",
       "      <td>2.016000e+03</td>\n",
       "    </tr>\n",
       "    <tr>\n",
       "      <th>DEHBInnTier2FamilyMOOP</th>\n",
       "      <td>0.0</td>\n",
       "      <td>NaN</td>\n",
       "      <td>NaN</td>\n",
       "      <td>NaN</td>\n",
       "      <td>NaN</td>\n",
       "      <td>NaN</td>\n",
       "      <td>NaN</td>\n",
       "      <td>NaN</td>\n",
       "    </tr>\n",
       "    <tr>\n",
       "      <th>DEHBInnTier2FamilyPerGroupMOOP</th>\n",
       "      <td>0.0</td>\n",
       "      <td>NaN</td>\n",
       "      <td>NaN</td>\n",
       "      <td>NaN</td>\n",
       "      <td>NaN</td>\n",
       "      <td>NaN</td>\n",
       "      <td>NaN</td>\n",
       "      <td>NaN</td>\n",
       "    </tr>\n",
       "    <tr>\n",
       "      <th>DEHBInnTier2FamilyPerPersonMOOP</th>\n",
       "      <td>0.0</td>\n",
       "      <td>NaN</td>\n",
       "      <td>NaN</td>\n",
       "      <td>NaN</td>\n",
       "      <td>NaN</td>\n",
       "      <td>NaN</td>\n",
       "      <td>NaN</td>\n",
       "      <td>NaN</td>\n",
       "    </tr>\n",
       "    <tr>\n",
       "      <th>DEHBInnTier2IndividualMOOP</th>\n",
       "      <td>0.0</td>\n",
       "      <td>NaN</td>\n",
       "      <td>NaN</td>\n",
       "      <td>NaN</td>\n",
       "      <td>NaN</td>\n",
       "      <td>NaN</td>\n",
       "      <td>NaN</td>\n",
       "      <td>NaN</td>\n",
       "    </tr>\n",
       "    <tr>\n",
       "      <th>EHBPercentPremiumS4</th>\n",
       "      <td>41877.0</td>\n",
       "      <td>9.944790e-01</td>\n",
       "      <td>3.521881e-02</td>\n",
       "      <td>0.000000e+00</td>\n",
       "      <td>9.982770e-01</td>\n",
       "      <td>1.000000e+00</td>\n",
       "      <td>1.000000e+00</td>\n",
       "      <td>1.000000e+00</td>\n",
       "    </tr>\n",
       "    <tr>\n",
       "      <th>EHBPercentTotalPremium</th>\n",
       "      <td>23110.0</td>\n",
       "      <td>9.947878e-01</td>\n",
       "      <td>1.408025e-02</td>\n",
       "      <td>8.835497e-01</td>\n",
       "      <td>9.970000e-01</td>\n",
       "      <td>1.000000e+00</td>\n",
       "      <td>1.000000e+00</td>\n",
       "      <td>1.000000e+00</td>\n",
       "    </tr>\n",
       "    <tr>\n",
       "      <th>HPID</th>\n",
       "      <td>11850.0</td>\n",
       "      <td>7.433721e+09</td>\n",
       "      <td>2.677375e+08</td>\n",
       "      <td>7.003819e+09</td>\n",
       "      <td>7.205839e+09</td>\n",
       "      <td>7.376547e+09</td>\n",
       "      <td>7.720082e+09</td>\n",
       "      <td>7.992708e+09</td>\n",
       "    </tr>\n",
       "    <tr>\n",
       "      <th>InpatientCopaymentMaximumDays</th>\n",
       "      <td>77353.0</td>\n",
       "      <td>1.512159e-01</td>\n",
       "      <td>7.827074e-01</td>\n",
       "      <td>0.000000e+00</td>\n",
       "      <td>0.000000e+00</td>\n",
       "      <td>0.000000e+00</td>\n",
       "      <td>0.000000e+00</td>\n",
       "      <td>1.000000e+01</td>\n",
       "    </tr>\n",
       "    <tr>\n",
       "      <th>IssuerId</th>\n",
       "      <td>77353.0</td>\n",
       "      <td>5.270879e+04</td>\n",
       "      <td>2.599901e+04</td>\n",
       "      <td>1.004600e+04</td>\n",
       "      <td>3.253600e+04</td>\n",
       "      <td>4.904600e+04</td>\n",
       "      <td>7.560500e+04</td>\n",
       "      <td>9.996900e+04</td>\n",
       "    </tr>\n",
       "    <tr>\n",
       "      <th>IssuerId2</th>\n",
       "      <td>77353.0</td>\n",
       "      <td>5.270879e+04</td>\n",
       "      <td>2.599901e+04</td>\n",
       "      <td>1.004600e+04</td>\n",
       "      <td>3.253600e+04</td>\n",
       "      <td>4.904600e+04</td>\n",
       "      <td>7.560500e+04</td>\n",
       "      <td>9.996900e+04</td>\n",
       "    </tr>\n",
       "    <tr>\n",
       "      <th>RowNumber</th>\n",
       "      <td>77353.0</td>\n",
       "      <td>1.861830e+01</td>\n",
       "      <td>2.416579e+01</td>\n",
       "      <td>4.000000e+00</td>\n",
       "      <td>5.000000e+00</td>\n",
       "      <td>9.000000e+00</td>\n",
       "      <td>2.100000e+01</td>\n",
       "      <td>2.450000e+02</td>\n",
       "    </tr>\n",
       "    <tr>\n",
       "      <th>VersionNum</th>\n",
       "      <td>77353.0</td>\n",
       "      <td>7.267785e+00</td>\n",
       "      <td>3.785002e+00</td>\n",
       "      <td>1.000000e+00</td>\n",
       "      <td>5.000000e+00</td>\n",
       "      <td>7.000000e+00</td>\n",
       "      <td>9.000000e+00</td>\n",
       "      <td>2.400000e+01</td>\n",
       "    </tr>\n",
       "  </tbody>\n",
       "</table>\n",
       "</div>"
      ],
      "text/plain": [
       "                                                      count          mean  \\\n",
       "BeginPrimaryCareCostSharingAfterNumberOfVisits      77353.0  1.542022e-01   \n",
       "BeginPrimaryCareDeductibleCoinsuranceAfterNumbe...  77353.0  2.988766e-01   \n",
       "BenefitPackageId                                    77353.0  4.905860e+00   \n",
       "BusinessYear                                        77353.0  2.015112e+03   \n",
       "DEHBInnTier2FamilyMOOP                                  0.0           NaN   \n",
       "DEHBInnTier2FamilyPerGroupMOOP                          0.0           NaN   \n",
       "DEHBInnTier2FamilyPerPersonMOOP                         0.0           NaN   \n",
       "DEHBInnTier2IndividualMOOP                              0.0           NaN   \n",
       "EHBPercentPremiumS4                                 41877.0  9.944790e-01   \n",
       "EHBPercentTotalPremium                              23110.0  9.947878e-01   \n",
       "HPID                                                11850.0  7.433721e+09   \n",
       "InpatientCopaymentMaximumDays                       77353.0  1.512159e-01   \n",
       "IssuerId                                            77353.0  5.270879e+04   \n",
       "IssuerId2                                           77353.0  5.270879e+04   \n",
       "RowNumber                                           77353.0  1.861830e+01   \n",
       "VersionNum                                          77353.0  7.267785e+00   \n",
       "\n",
       "                                                             std  \\\n",
       "BeginPrimaryCareCostSharingAfterNumberOfVisits      6.666280e-01   \n",
       "BeginPrimaryCareDeductibleCoinsuranceAfterNumbe...  1.204669e+00   \n",
       "BenefitPackageId                                    6.504540e+00   \n",
       "BusinessYear                                        7.638306e-01   \n",
       "DEHBInnTier2FamilyMOOP                                       NaN   \n",
       "DEHBInnTier2FamilyPerGroupMOOP                               NaN   \n",
       "DEHBInnTier2FamilyPerPersonMOOP                              NaN   \n",
       "DEHBInnTier2IndividualMOOP                                   NaN   \n",
       "EHBPercentPremiumS4                                 3.521881e-02   \n",
       "EHBPercentTotalPremium                              1.408025e-02   \n",
       "HPID                                                2.677375e+08   \n",
       "InpatientCopaymentMaximumDays                       7.827074e-01   \n",
       "IssuerId                                            2.599901e+04   \n",
       "IssuerId2                                           2.599901e+04   \n",
       "RowNumber                                           2.416579e+01   \n",
       "VersionNum                                          3.785002e+00   \n",
       "\n",
       "                                                             min  \\\n",
       "BeginPrimaryCareCostSharingAfterNumberOfVisits      0.000000e+00   \n",
       "BeginPrimaryCareDeductibleCoinsuranceAfterNumbe...  0.000000e+00   \n",
       "BenefitPackageId                                    1.000000e+00   \n",
       "BusinessYear                                        2.014000e+03   \n",
       "DEHBInnTier2FamilyMOOP                                       NaN   \n",
       "DEHBInnTier2FamilyPerGroupMOOP                               NaN   \n",
       "DEHBInnTier2FamilyPerPersonMOOP                              NaN   \n",
       "DEHBInnTier2IndividualMOOP                                   NaN   \n",
       "EHBPercentPremiumS4                                 0.000000e+00   \n",
       "EHBPercentTotalPremium                              8.835497e-01   \n",
       "HPID                                                7.003819e+09   \n",
       "InpatientCopaymentMaximumDays                       0.000000e+00   \n",
       "IssuerId                                            1.004600e+04   \n",
       "IssuerId2                                           1.004600e+04   \n",
       "RowNumber                                           4.000000e+00   \n",
       "VersionNum                                          1.000000e+00   \n",
       "\n",
       "                                                             25%  \\\n",
       "BeginPrimaryCareCostSharingAfterNumberOfVisits      0.000000e+00   \n",
       "BeginPrimaryCareDeductibleCoinsuranceAfterNumbe...  0.000000e+00   \n",
       "BenefitPackageId                                    1.000000e+00   \n",
       "BusinessYear                                        2.015000e+03   \n",
       "DEHBInnTier2FamilyMOOP                                       NaN   \n",
       "DEHBInnTier2FamilyPerGroupMOOP                               NaN   \n",
       "DEHBInnTier2FamilyPerPersonMOOP                              NaN   \n",
       "DEHBInnTier2IndividualMOOP                                   NaN   \n",
       "EHBPercentPremiumS4                                 9.982770e-01   \n",
       "EHBPercentTotalPremium                              9.970000e-01   \n",
       "HPID                                                7.205839e+09   \n",
       "InpatientCopaymentMaximumDays                       0.000000e+00   \n",
       "IssuerId                                            3.253600e+04   \n",
       "IssuerId2                                           3.253600e+04   \n",
       "RowNumber                                           5.000000e+00   \n",
       "VersionNum                                          5.000000e+00   \n",
       "\n",
       "                                                             50%  \\\n",
       "BeginPrimaryCareCostSharingAfterNumberOfVisits      0.000000e+00   \n",
       "BeginPrimaryCareDeductibleCoinsuranceAfterNumbe...  0.000000e+00   \n",
       "BenefitPackageId                                    3.000000e+00   \n",
       "BusinessYear                                        2.015000e+03   \n",
       "DEHBInnTier2FamilyMOOP                                       NaN   \n",
       "DEHBInnTier2FamilyPerGroupMOOP                               NaN   \n",
       "DEHBInnTier2FamilyPerPersonMOOP                              NaN   \n",
       "DEHBInnTier2IndividualMOOP                                   NaN   \n",
       "EHBPercentPremiumS4                                 1.000000e+00   \n",
       "EHBPercentTotalPremium                              1.000000e+00   \n",
       "HPID                                                7.376547e+09   \n",
       "InpatientCopaymentMaximumDays                       0.000000e+00   \n",
       "IssuerId                                            4.904600e+04   \n",
       "IssuerId2                                           4.904600e+04   \n",
       "RowNumber                                           9.000000e+00   \n",
       "VersionNum                                          7.000000e+00   \n",
       "\n",
       "                                                             75%           max  \n",
       "BeginPrimaryCareCostSharingAfterNumberOfVisits      0.000000e+00  6.000000e+00  \n",
       "BeginPrimaryCareDeductibleCoinsuranceAfterNumbe...  0.000000e+00  1.000000e+01  \n",
       "BenefitPackageId                                    6.000000e+00  8.400000e+01  \n",
       "BusinessYear                                        2.016000e+03  2.016000e+03  \n",
       "DEHBInnTier2FamilyMOOP                                       NaN           NaN  \n",
       "DEHBInnTier2FamilyPerGroupMOOP                               NaN           NaN  \n",
       "DEHBInnTier2FamilyPerPersonMOOP                              NaN           NaN  \n",
       "DEHBInnTier2IndividualMOOP                                   NaN           NaN  \n",
       "EHBPercentPremiumS4                                 1.000000e+00  1.000000e+00  \n",
       "EHBPercentTotalPremium                              1.000000e+00  1.000000e+00  \n",
       "HPID                                                7.720082e+09  7.992708e+09  \n",
       "InpatientCopaymentMaximumDays                       0.000000e+00  1.000000e+01  \n",
       "IssuerId                                            7.560500e+04  9.996900e+04  \n",
       "IssuerId2                                           7.560500e+04  9.996900e+04  \n",
       "RowNumber                                           2.100000e+01  2.450000e+02  \n",
       "VersionNum                                          9.000000e+00  2.400000e+01  "
      ]
     },
     "execution_count": 7,
     "metadata": {},
     "output_type": "execute_result"
    }
   ],
   "source": [
    "df.describe().T"
   ]
  },
  {
   "cell_type": "code",
   "execution_count": 8,
   "metadata": {
    "id": "M58pPRghJ2QU"
   },
   "outputs": [
    {
     "data": {
      "text/plain": [
       "True"
      ]
     },
     "execution_count": 8,
     "metadata": {},
     "output_type": "execute_result"
    }
   ],
   "source": [
    "df.isnull().values.any()"
   ]
  },
  {
   "cell_type": "code",
   "execution_count": 9,
   "metadata": {
    "id": "f2M6OWXgMri8"
   },
   "outputs": [
    {
     "data": {
      "text/plain": [
       "0"
      ]
     },
     "execution_count": 9,
     "metadata": {},
     "output_type": "execute_result"
    }
   ],
   "source": [
    "df.duplicated().sum()"
   ]
  },
  {
   "cell_type": "code",
   "execution_count": 10,
   "metadata": {
    "id": "6J7aPYYqMycI"
   },
   "outputs": [
    {
     "data": {
      "text/plain": [
       "ChildOnlyPlanId\n",
       "29698MI0540006    21\n",
       "29241MI0270066    21\n",
       "29698MI0540005    21\n",
       "29241MI0270065    14\n",
       "99969OH0040017    14\n",
       "                  ..\n",
       "37833WI0540010     2\n",
       "37833WI0520003     2\n",
       "37833WI0540003     2\n",
       "37833WI0540007     2\n",
       "70525AR0070042     2\n",
       "Name: count, Length: 66, dtype: int64"
      ]
     },
     "execution_count": 10,
     "metadata": {},
     "output_type": "execute_result"
    }
   ],
   "source": [
    "df['ChildOnlyPlanId'].value_counts()"
   ]
  },
  {
   "cell_type": "code",
   "execution_count": 12,
   "metadata": {
    "id": "urAJM-LBOMP-"
   },
   "outputs": [
    {
     "data": {
      "text/html": [
       "<div>\n",
       "<style scoped>\n",
       "    .dataframe tbody tr th:only-of-type {\n",
       "        vertical-align: middle;\n",
       "    }\n",
       "\n",
       "    .dataframe tbody tr th {\n",
       "        vertical-align: top;\n",
       "    }\n",
       "\n",
       "    .dataframe thead th {\n",
       "        text-align: right;\n",
       "    }\n",
       "</style>\n",
       "<table border=\"1\" class=\"dataframe\">\n",
       "  <thead>\n",
       "    <tr style=\"text-align: right;\">\n",
       "      <th></th>\n",
       "      <th>BeginPrimaryCareCostSharingAfterNumberOfVisits</th>\n",
       "      <th>BeginPrimaryCareDeductibleCoinsuranceAfterNumberOfCopays</th>\n",
       "      <th>BenefitPackageId</th>\n",
       "      <th>BusinessYear</th>\n",
       "      <th>DEHBInnTier2FamilyMOOP</th>\n",
       "      <th>DEHBInnTier2FamilyPerGroupMOOP</th>\n",
       "      <th>DEHBInnTier2FamilyPerPersonMOOP</th>\n",
       "      <th>DEHBInnTier2IndividualMOOP</th>\n",
       "      <th>EHBPercentPremiumS4</th>\n",
       "      <th>EHBPercentTotalPremium</th>\n",
       "      <th>HPID</th>\n",
       "      <th>InpatientCopaymentMaximumDays</th>\n",
       "      <th>IssuerId</th>\n",
       "      <th>IssuerId2</th>\n",
       "      <th>RowNumber</th>\n",
       "      <th>VersionNum</th>\n",
       "    </tr>\n",
       "  </thead>\n",
       "  <tbody>\n",
       "    <tr>\n",
       "      <th>BeginPrimaryCareCostSharingAfterNumberOfVisits</th>\n",
       "      <td>1.000000</td>\n",
       "      <td>-0.054782</td>\n",
       "      <td>0.022027</td>\n",
       "      <td>-0.004283</td>\n",
       "      <td>NaN</td>\n",
       "      <td>NaN</td>\n",
       "      <td>NaN</td>\n",
       "      <td>NaN</td>\n",
       "      <td>-0.010087</td>\n",
       "      <td>0.051175</td>\n",
       "      <td>-0.000448</td>\n",
       "      <td>0.058035</td>\n",
       "      <td>0.067422</td>\n",
       "      <td>0.067422</td>\n",
       "      <td>0.134452</td>\n",
       "      <td>-0.003526</td>\n",
       "    </tr>\n",
       "    <tr>\n",
       "      <th>BeginPrimaryCareDeductibleCoinsuranceAfterNumberOfCopays</th>\n",
       "      <td>-0.054782</td>\n",
       "      <td>1.000000</td>\n",
       "      <td>0.019342</td>\n",
       "      <td>-0.001993</td>\n",
       "      <td>NaN</td>\n",
       "      <td>NaN</td>\n",
       "      <td>NaN</td>\n",
       "      <td>NaN</td>\n",
       "      <td>0.014044</td>\n",
       "      <td>0.041127</td>\n",
       "      <td>-0.123808</td>\n",
       "      <td>-0.040556</td>\n",
       "      <td>-0.071659</td>\n",
       "      <td>-0.071659</td>\n",
       "      <td>0.013612</td>\n",
       "      <td>0.052351</td>\n",
       "    </tr>\n",
       "    <tr>\n",
       "      <th>BenefitPackageId</th>\n",
       "      <td>0.022027</td>\n",
       "      <td>0.019342</td>\n",
       "      <td>1.000000</td>\n",
       "      <td>0.098088</td>\n",
       "      <td>NaN</td>\n",
       "      <td>NaN</td>\n",
       "      <td>NaN</td>\n",
       "      <td>NaN</td>\n",
       "      <td>-0.032101</td>\n",
       "      <td>-0.053231</td>\n",
       "      <td>-0.161436</td>\n",
       "      <td>0.018479</td>\n",
       "      <td>-0.133126</td>\n",
       "      <td>-0.133126</td>\n",
       "      <td>-0.103305</td>\n",
       "      <td>0.021211</td>\n",
       "    </tr>\n",
       "    <tr>\n",
       "      <th>BusinessYear</th>\n",
       "      <td>-0.004283</td>\n",
       "      <td>-0.001993</td>\n",
       "      <td>0.098088</td>\n",
       "      <td>1.000000</td>\n",
       "      <td>NaN</td>\n",
       "      <td>NaN</td>\n",
       "      <td>NaN</td>\n",
       "      <td>NaN</td>\n",
       "      <td>0.035667</td>\n",
       "      <td>NaN</td>\n",
       "      <td>-0.123802</td>\n",
       "      <td>-0.031891</td>\n",
       "      <td>-0.071833</td>\n",
       "      <td>-0.071833</td>\n",
       "      <td>-0.013734</td>\n",
       "      <td>0.075680</td>\n",
       "    </tr>\n",
       "    <tr>\n",
       "      <th>DEHBInnTier2FamilyMOOP</th>\n",
       "      <td>NaN</td>\n",
       "      <td>NaN</td>\n",
       "      <td>NaN</td>\n",
       "      <td>NaN</td>\n",
       "      <td>NaN</td>\n",
       "      <td>NaN</td>\n",
       "      <td>NaN</td>\n",
       "      <td>NaN</td>\n",
       "      <td>NaN</td>\n",
       "      <td>NaN</td>\n",
       "      <td>NaN</td>\n",
       "      <td>NaN</td>\n",
       "      <td>NaN</td>\n",
       "      <td>NaN</td>\n",
       "      <td>NaN</td>\n",
       "      <td>NaN</td>\n",
       "    </tr>\n",
       "    <tr>\n",
       "      <th>DEHBInnTier2FamilyPerGroupMOOP</th>\n",
       "      <td>NaN</td>\n",
       "      <td>NaN</td>\n",
       "      <td>NaN</td>\n",
       "      <td>NaN</td>\n",
       "      <td>NaN</td>\n",
       "      <td>NaN</td>\n",
       "      <td>NaN</td>\n",
       "      <td>NaN</td>\n",
       "      <td>NaN</td>\n",
       "      <td>NaN</td>\n",
       "      <td>NaN</td>\n",
       "      <td>NaN</td>\n",
       "      <td>NaN</td>\n",
       "      <td>NaN</td>\n",
       "      <td>NaN</td>\n",
       "      <td>NaN</td>\n",
       "    </tr>\n",
       "    <tr>\n",
       "      <th>DEHBInnTier2FamilyPerPersonMOOP</th>\n",
       "      <td>NaN</td>\n",
       "      <td>NaN</td>\n",
       "      <td>NaN</td>\n",
       "      <td>NaN</td>\n",
       "      <td>NaN</td>\n",
       "      <td>NaN</td>\n",
       "      <td>NaN</td>\n",
       "      <td>NaN</td>\n",
       "      <td>NaN</td>\n",
       "      <td>NaN</td>\n",
       "      <td>NaN</td>\n",
       "      <td>NaN</td>\n",
       "      <td>NaN</td>\n",
       "      <td>NaN</td>\n",
       "      <td>NaN</td>\n",
       "      <td>NaN</td>\n",
       "    </tr>\n",
       "    <tr>\n",
       "      <th>DEHBInnTier2IndividualMOOP</th>\n",
       "      <td>NaN</td>\n",
       "      <td>NaN</td>\n",
       "      <td>NaN</td>\n",
       "      <td>NaN</td>\n",
       "      <td>NaN</td>\n",
       "      <td>NaN</td>\n",
       "      <td>NaN</td>\n",
       "      <td>NaN</td>\n",
       "      <td>NaN</td>\n",
       "      <td>NaN</td>\n",
       "      <td>NaN</td>\n",
       "      <td>NaN</td>\n",
       "      <td>NaN</td>\n",
       "      <td>NaN</td>\n",
       "      <td>NaN</td>\n",
       "      <td>NaN</td>\n",
       "    </tr>\n",
       "    <tr>\n",
       "      <th>EHBPercentPremiumS4</th>\n",
       "      <td>-0.010087</td>\n",
       "      <td>0.014044</td>\n",
       "      <td>-0.032101</td>\n",
       "      <td>0.035667</td>\n",
       "      <td>NaN</td>\n",
       "      <td>NaN</td>\n",
       "      <td>NaN</td>\n",
       "      <td>NaN</td>\n",
       "      <td>1.000000</td>\n",
       "      <td>NaN</td>\n",
       "      <td>0.020517</td>\n",
       "      <td>0.005705</td>\n",
       "      <td>-0.027215</td>\n",
       "      <td>-0.027215</td>\n",
       "      <td>0.018412</td>\n",
       "      <td>0.037083</td>\n",
       "    </tr>\n",
       "    <tr>\n",
       "      <th>EHBPercentTotalPremium</th>\n",
       "      <td>0.051175</td>\n",
       "      <td>0.041127</td>\n",
       "      <td>-0.053231</td>\n",
       "      <td>NaN</td>\n",
       "      <td>NaN</td>\n",
       "      <td>NaN</td>\n",
       "      <td>NaN</td>\n",
       "      <td>NaN</td>\n",
       "      <td>NaN</td>\n",
       "      <td>1.000000</td>\n",
       "      <td>0.139050</td>\n",
       "      <td>0.001326</td>\n",
       "      <td>0.002926</td>\n",
       "      <td>0.002926</td>\n",
       "      <td>-0.018098</td>\n",
       "      <td>0.152869</td>\n",
       "    </tr>\n",
       "    <tr>\n",
       "      <th>HPID</th>\n",
       "      <td>-0.000448</td>\n",
       "      <td>-0.123808</td>\n",
       "      <td>-0.161436</td>\n",
       "      <td>-0.123802</td>\n",
       "      <td>NaN</td>\n",
       "      <td>NaN</td>\n",
       "      <td>NaN</td>\n",
       "      <td>NaN</td>\n",
       "      <td>0.020517</td>\n",
       "      <td>0.139050</td>\n",
       "      <td>1.000000</td>\n",
       "      <td>-0.057472</td>\n",
       "      <td>0.074970</td>\n",
       "      <td>0.074970</td>\n",
       "      <td>-0.136830</td>\n",
       "      <td>0.237290</td>\n",
       "    </tr>\n",
       "    <tr>\n",
       "      <th>InpatientCopaymentMaximumDays</th>\n",
       "      <td>0.058035</td>\n",
       "      <td>-0.040556</td>\n",
       "      <td>0.018479</td>\n",
       "      <td>-0.031891</td>\n",
       "      <td>NaN</td>\n",
       "      <td>NaN</td>\n",
       "      <td>NaN</td>\n",
       "      <td>NaN</td>\n",
       "      <td>0.005705</td>\n",
       "      <td>0.001326</td>\n",
       "      <td>-0.057472</td>\n",
       "      <td>1.000000</td>\n",
       "      <td>0.040513</td>\n",
       "      <td>0.040513</td>\n",
       "      <td>0.027989</td>\n",
       "      <td>-0.017976</td>\n",
       "    </tr>\n",
       "    <tr>\n",
       "      <th>IssuerId</th>\n",
       "      <td>0.067422</td>\n",
       "      <td>-0.071659</td>\n",
       "      <td>-0.133126</td>\n",
       "      <td>-0.071833</td>\n",
       "      <td>NaN</td>\n",
       "      <td>NaN</td>\n",
       "      <td>NaN</td>\n",
       "      <td>NaN</td>\n",
       "      <td>-0.027215</td>\n",
       "      <td>0.002926</td>\n",
       "      <td>0.074970</td>\n",
       "      <td>0.040513</td>\n",
       "      <td>1.000000</td>\n",
       "      <td>1.000000</td>\n",
       "      <td>0.041374</td>\n",
       "      <td>-0.015214</td>\n",
       "    </tr>\n",
       "    <tr>\n",
       "      <th>IssuerId2</th>\n",
       "      <td>0.067422</td>\n",
       "      <td>-0.071659</td>\n",
       "      <td>-0.133126</td>\n",
       "      <td>-0.071833</td>\n",
       "      <td>NaN</td>\n",
       "      <td>NaN</td>\n",
       "      <td>NaN</td>\n",
       "      <td>NaN</td>\n",
       "      <td>-0.027215</td>\n",
       "      <td>0.002926</td>\n",
       "      <td>0.074970</td>\n",
       "      <td>0.040513</td>\n",
       "      <td>1.000000</td>\n",
       "      <td>1.000000</td>\n",
       "      <td>0.041374</td>\n",
       "      <td>-0.015214</td>\n",
       "    </tr>\n",
       "    <tr>\n",
       "      <th>RowNumber</th>\n",
       "      <td>0.134452</td>\n",
       "      <td>0.013612</td>\n",
       "      <td>-0.103305</td>\n",
       "      <td>-0.013734</td>\n",
       "      <td>NaN</td>\n",
       "      <td>NaN</td>\n",
       "      <td>NaN</td>\n",
       "      <td>NaN</td>\n",
       "      <td>0.018412</td>\n",
       "      <td>-0.018098</td>\n",
       "      <td>-0.136830</td>\n",
       "      <td>0.027989</td>\n",
       "      <td>0.041374</td>\n",
       "      <td>0.041374</td>\n",
       "      <td>1.000000</td>\n",
       "      <td>0.058934</td>\n",
       "    </tr>\n",
       "    <tr>\n",
       "      <th>VersionNum</th>\n",
       "      <td>-0.003526</td>\n",
       "      <td>0.052351</td>\n",
       "      <td>0.021211</td>\n",
       "      <td>0.075680</td>\n",
       "      <td>NaN</td>\n",
       "      <td>NaN</td>\n",
       "      <td>NaN</td>\n",
       "      <td>NaN</td>\n",
       "      <td>0.037083</td>\n",
       "      <td>0.152869</td>\n",
       "      <td>0.237290</td>\n",
       "      <td>-0.017976</td>\n",
       "      <td>-0.015214</td>\n",
       "      <td>-0.015214</td>\n",
       "      <td>0.058934</td>\n",
       "      <td>1.000000</td>\n",
       "    </tr>\n",
       "  </tbody>\n",
       "</table>\n",
       "</div>"
      ],
      "text/plain": [
       "                                                    BeginPrimaryCareCostSharingAfterNumberOfVisits  \\\n",
       "BeginPrimaryCareCostSharingAfterNumberOfVisits                                            1.000000   \n",
       "BeginPrimaryCareDeductibleCoinsuranceAfterNumbe...                                       -0.054782   \n",
       "BenefitPackageId                                                                          0.022027   \n",
       "BusinessYear                                                                             -0.004283   \n",
       "DEHBInnTier2FamilyMOOP                                                                         NaN   \n",
       "DEHBInnTier2FamilyPerGroupMOOP                                                                 NaN   \n",
       "DEHBInnTier2FamilyPerPersonMOOP                                                                NaN   \n",
       "DEHBInnTier2IndividualMOOP                                                                     NaN   \n",
       "EHBPercentPremiumS4                                                                      -0.010087   \n",
       "EHBPercentTotalPremium                                                                    0.051175   \n",
       "HPID                                                                                     -0.000448   \n",
       "InpatientCopaymentMaximumDays                                                             0.058035   \n",
       "IssuerId                                                                                  0.067422   \n",
       "IssuerId2                                                                                 0.067422   \n",
       "RowNumber                                                                                 0.134452   \n",
       "VersionNum                                                                               -0.003526   \n",
       "\n",
       "                                                    BeginPrimaryCareDeductibleCoinsuranceAfterNumberOfCopays  \\\n",
       "BeginPrimaryCareCostSharingAfterNumberOfVisits                                              -0.054782          \n",
       "BeginPrimaryCareDeductibleCoinsuranceAfterNumbe...                                           1.000000          \n",
       "BenefitPackageId                                                                             0.019342          \n",
       "BusinessYear                                                                                -0.001993          \n",
       "DEHBInnTier2FamilyMOOP                                                                            NaN          \n",
       "DEHBInnTier2FamilyPerGroupMOOP                                                                    NaN          \n",
       "DEHBInnTier2FamilyPerPersonMOOP                                                                   NaN          \n",
       "DEHBInnTier2IndividualMOOP                                                                        NaN          \n",
       "EHBPercentPremiumS4                                                                          0.014044          \n",
       "EHBPercentTotalPremium                                                                       0.041127          \n",
       "HPID                                                                                        -0.123808          \n",
       "InpatientCopaymentMaximumDays                                                               -0.040556          \n",
       "IssuerId                                                                                    -0.071659          \n",
       "IssuerId2                                                                                   -0.071659          \n",
       "RowNumber                                                                                    0.013612          \n",
       "VersionNum                                                                                   0.052351          \n",
       "\n",
       "                                                    BenefitPackageId  \\\n",
       "BeginPrimaryCareCostSharingAfterNumberOfVisits              0.022027   \n",
       "BeginPrimaryCareDeductibleCoinsuranceAfterNumbe...          0.019342   \n",
       "BenefitPackageId                                            1.000000   \n",
       "BusinessYear                                                0.098088   \n",
       "DEHBInnTier2FamilyMOOP                                           NaN   \n",
       "DEHBInnTier2FamilyPerGroupMOOP                                   NaN   \n",
       "DEHBInnTier2FamilyPerPersonMOOP                                  NaN   \n",
       "DEHBInnTier2IndividualMOOP                                       NaN   \n",
       "EHBPercentPremiumS4                                        -0.032101   \n",
       "EHBPercentTotalPremium                                     -0.053231   \n",
       "HPID                                                       -0.161436   \n",
       "InpatientCopaymentMaximumDays                               0.018479   \n",
       "IssuerId                                                   -0.133126   \n",
       "IssuerId2                                                  -0.133126   \n",
       "RowNumber                                                  -0.103305   \n",
       "VersionNum                                                  0.021211   \n",
       "\n",
       "                                                    BusinessYear  \\\n",
       "BeginPrimaryCareCostSharingAfterNumberOfVisits         -0.004283   \n",
       "BeginPrimaryCareDeductibleCoinsuranceAfterNumbe...     -0.001993   \n",
       "BenefitPackageId                                        0.098088   \n",
       "BusinessYear                                            1.000000   \n",
       "DEHBInnTier2FamilyMOOP                                       NaN   \n",
       "DEHBInnTier2FamilyPerGroupMOOP                               NaN   \n",
       "DEHBInnTier2FamilyPerPersonMOOP                              NaN   \n",
       "DEHBInnTier2IndividualMOOP                                   NaN   \n",
       "EHBPercentPremiumS4                                     0.035667   \n",
       "EHBPercentTotalPremium                                       NaN   \n",
       "HPID                                                   -0.123802   \n",
       "InpatientCopaymentMaximumDays                          -0.031891   \n",
       "IssuerId                                               -0.071833   \n",
       "IssuerId2                                              -0.071833   \n",
       "RowNumber                                              -0.013734   \n",
       "VersionNum                                              0.075680   \n",
       "\n",
       "                                                    DEHBInnTier2FamilyMOOP  \\\n",
       "BeginPrimaryCareCostSharingAfterNumberOfVisits                         NaN   \n",
       "BeginPrimaryCareDeductibleCoinsuranceAfterNumbe...                     NaN   \n",
       "BenefitPackageId                                                       NaN   \n",
       "BusinessYear                                                           NaN   \n",
       "DEHBInnTier2FamilyMOOP                                                 NaN   \n",
       "DEHBInnTier2FamilyPerGroupMOOP                                         NaN   \n",
       "DEHBInnTier2FamilyPerPersonMOOP                                        NaN   \n",
       "DEHBInnTier2IndividualMOOP                                             NaN   \n",
       "EHBPercentPremiumS4                                                    NaN   \n",
       "EHBPercentTotalPremium                                                 NaN   \n",
       "HPID                                                                   NaN   \n",
       "InpatientCopaymentMaximumDays                                          NaN   \n",
       "IssuerId                                                               NaN   \n",
       "IssuerId2                                                              NaN   \n",
       "RowNumber                                                              NaN   \n",
       "VersionNum                                                             NaN   \n",
       "\n",
       "                                                    DEHBInnTier2FamilyPerGroupMOOP  \\\n",
       "BeginPrimaryCareCostSharingAfterNumberOfVisits                                 NaN   \n",
       "BeginPrimaryCareDeductibleCoinsuranceAfterNumbe...                             NaN   \n",
       "BenefitPackageId                                                               NaN   \n",
       "BusinessYear                                                                   NaN   \n",
       "DEHBInnTier2FamilyMOOP                                                         NaN   \n",
       "DEHBInnTier2FamilyPerGroupMOOP                                                 NaN   \n",
       "DEHBInnTier2FamilyPerPersonMOOP                                                NaN   \n",
       "DEHBInnTier2IndividualMOOP                                                     NaN   \n",
       "EHBPercentPremiumS4                                                            NaN   \n",
       "EHBPercentTotalPremium                                                         NaN   \n",
       "HPID                                                                           NaN   \n",
       "InpatientCopaymentMaximumDays                                                  NaN   \n",
       "IssuerId                                                                       NaN   \n",
       "IssuerId2                                                                      NaN   \n",
       "RowNumber                                                                      NaN   \n",
       "VersionNum                                                                     NaN   \n",
       "\n",
       "                                                    DEHBInnTier2FamilyPerPersonMOOP  \\\n",
       "BeginPrimaryCareCostSharingAfterNumberOfVisits                                  NaN   \n",
       "BeginPrimaryCareDeductibleCoinsuranceAfterNumbe...                              NaN   \n",
       "BenefitPackageId                                                                NaN   \n",
       "BusinessYear                                                                    NaN   \n",
       "DEHBInnTier2FamilyMOOP                                                          NaN   \n",
       "DEHBInnTier2FamilyPerGroupMOOP                                                  NaN   \n",
       "DEHBInnTier2FamilyPerPersonMOOP                                                 NaN   \n",
       "DEHBInnTier2IndividualMOOP                                                      NaN   \n",
       "EHBPercentPremiumS4                                                             NaN   \n",
       "EHBPercentTotalPremium                                                          NaN   \n",
       "HPID                                                                            NaN   \n",
       "InpatientCopaymentMaximumDays                                                   NaN   \n",
       "IssuerId                                                                        NaN   \n",
       "IssuerId2                                                                       NaN   \n",
       "RowNumber                                                                       NaN   \n",
       "VersionNum                                                                      NaN   \n",
       "\n",
       "                                                    DEHBInnTier2IndividualMOOP  \\\n",
       "BeginPrimaryCareCostSharingAfterNumberOfVisits                             NaN   \n",
       "BeginPrimaryCareDeductibleCoinsuranceAfterNumbe...                         NaN   \n",
       "BenefitPackageId                                                           NaN   \n",
       "BusinessYear                                                               NaN   \n",
       "DEHBInnTier2FamilyMOOP                                                     NaN   \n",
       "DEHBInnTier2FamilyPerGroupMOOP                                             NaN   \n",
       "DEHBInnTier2FamilyPerPersonMOOP                                            NaN   \n",
       "DEHBInnTier2IndividualMOOP                                                 NaN   \n",
       "EHBPercentPremiumS4                                                        NaN   \n",
       "EHBPercentTotalPremium                                                     NaN   \n",
       "HPID                                                                       NaN   \n",
       "InpatientCopaymentMaximumDays                                              NaN   \n",
       "IssuerId                                                                   NaN   \n",
       "IssuerId2                                                                  NaN   \n",
       "RowNumber                                                                  NaN   \n",
       "VersionNum                                                                 NaN   \n",
       "\n",
       "                                                    EHBPercentPremiumS4  \\\n",
       "BeginPrimaryCareCostSharingAfterNumberOfVisits                -0.010087   \n",
       "BeginPrimaryCareDeductibleCoinsuranceAfterNumbe...             0.014044   \n",
       "BenefitPackageId                                              -0.032101   \n",
       "BusinessYear                                                   0.035667   \n",
       "DEHBInnTier2FamilyMOOP                                              NaN   \n",
       "DEHBInnTier2FamilyPerGroupMOOP                                      NaN   \n",
       "DEHBInnTier2FamilyPerPersonMOOP                                     NaN   \n",
       "DEHBInnTier2IndividualMOOP                                          NaN   \n",
       "EHBPercentPremiumS4                                            1.000000   \n",
       "EHBPercentTotalPremium                                              NaN   \n",
       "HPID                                                           0.020517   \n",
       "InpatientCopaymentMaximumDays                                  0.005705   \n",
       "IssuerId                                                      -0.027215   \n",
       "IssuerId2                                                     -0.027215   \n",
       "RowNumber                                                      0.018412   \n",
       "VersionNum                                                     0.037083   \n",
       "\n",
       "                                                    EHBPercentTotalPremium  \\\n",
       "BeginPrimaryCareCostSharingAfterNumberOfVisits                    0.051175   \n",
       "BeginPrimaryCareDeductibleCoinsuranceAfterNumbe...                0.041127   \n",
       "BenefitPackageId                                                 -0.053231   \n",
       "BusinessYear                                                           NaN   \n",
       "DEHBInnTier2FamilyMOOP                                                 NaN   \n",
       "DEHBInnTier2FamilyPerGroupMOOP                                         NaN   \n",
       "DEHBInnTier2FamilyPerPersonMOOP                                        NaN   \n",
       "DEHBInnTier2IndividualMOOP                                             NaN   \n",
       "EHBPercentPremiumS4                                                    NaN   \n",
       "EHBPercentTotalPremium                                            1.000000   \n",
       "HPID                                                              0.139050   \n",
       "InpatientCopaymentMaximumDays                                     0.001326   \n",
       "IssuerId                                                          0.002926   \n",
       "IssuerId2                                                         0.002926   \n",
       "RowNumber                                                        -0.018098   \n",
       "VersionNum                                                        0.152869   \n",
       "\n",
       "                                                        HPID  \\\n",
       "BeginPrimaryCareCostSharingAfterNumberOfVisits     -0.000448   \n",
       "BeginPrimaryCareDeductibleCoinsuranceAfterNumbe... -0.123808   \n",
       "BenefitPackageId                                   -0.161436   \n",
       "BusinessYear                                       -0.123802   \n",
       "DEHBInnTier2FamilyMOOP                                   NaN   \n",
       "DEHBInnTier2FamilyPerGroupMOOP                           NaN   \n",
       "DEHBInnTier2FamilyPerPersonMOOP                          NaN   \n",
       "DEHBInnTier2IndividualMOOP                               NaN   \n",
       "EHBPercentPremiumS4                                 0.020517   \n",
       "EHBPercentTotalPremium                              0.139050   \n",
       "HPID                                                1.000000   \n",
       "InpatientCopaymentMaximumDays                      -0.057472   \n",
       "IssuerId                                            0.074970   \n",
       "IssuerId2                                           0.074970   \n",
       "RowNumber                                          -0.136830   \n",
       "VersionNum                                          0.237290   \n",
       "\n",
       "                                                    InpatientCopaymentMaximumDays  \\\n",
       "BeginPrimaryCareCostSharingAfterNumberOfVisits                           0.058035   \n",
       "BeginPrimaryCareDeductibleCoinsuranceAfterNumbe...                      -0.040556   \n",
       "BenefitPackageId                                                         0.018479   \n",
       "BusinessYear                                                            -0.031891   \n",
       "DEHBInnTier2FamilyMOOP                                                        NaN   \n",
       "DEHBInnTier2FamilyPerGroupMOOP                                                NaN   \n",
       "DEHBInnTier2FamilyPerPersonMOOP                                               NaN   \n",
       "DEHBInnTier2IndividualMOOP                                                    NaN   \n",
       "EHBPercentPremiumS4                                                      0.005705   \n",
       "EHBPercentTotalPremium                                                   0.001326   \n",
       "HPID                                                                    -0.057472   \n",
       "InpatientCopaymentMaximumDays                                            1.000000   \n",
       "IssuerId                                                                 0.040513   \n",
       "IssuerId2                                                                0.040513   \n",
       "RowNumber                                                                0.027989   \n",
       "VersionNum                                                              -0.017976   \n",
       "\n",
       "                                                    IssuerId  IssuerId2  \\\n",
       "BeginPrimaryCareCostSharingAfterNumberOfVisits      0.067422   0.067422   \n",
       "BeginPrimaryCareDeductibleCoinsuranceAfterNumbe... -0.071659  -0.071659   \n",
       "BenefitPackageId                                   -0.133126  -0.133126   \n",
       "BusinessYear                                       -0.071833  -0.071833   \n",
       "DEHBInnTier2FamilyMOOP                                   NaN        NaN   \n",
       "DEHBInnTier2FamilyPerGroupMOOP                           NaN        NaN   \n",
       "DEHBInnTier2FamilyPerPersonMOOP                          NaN        NaN   \n",
       "DEHBInnTier2IndividualMOOP                               NaN        NaN   \n",
       "EHBPercentPremiumS4                                -0.027215  -0.027215   \n",
       "EHBPercentTotalPremium                              0.002926   0.002926   \n",
       "HPID                                                0.074970   0.074970   \n",
       "InpatientCopaymentMaximumDays                       0.040513   0.040513   \n",
       "IssuerId                                            1.000000   1.000000   \n",
       "IssuerId2                                           1.000000   1.000000   \n",
       "RowNumber                                           0.041374   0.041374   \n",
       "VersionNum                                         -0.015214  -0.015214   \n",
       "\n",
       "                                                    RowNumber  VersionNum  \n",
       "BeginPrimaryCareCostSharingAfterNumberOfVisits       0.134452   -0.003526  \n",
       "BeginPrimaryCareDeductibleCoinsuranceAfterNumbe...   0.013612    0.052351  \n",
       "BenefitPackageId                                    -0.103305    0.021211  \n",
       "BusinessYear                                        -0.013734    0.075680  \n",
       "DEHBInnTier2FamilyMOOP                                    NaN         NaN  \n",
       "DEHBInnTier2FamilyPerGroupMOOP                            NaN         NaN  \n",
       "DEHBInnTier2FamilyPerPersonMOOP                           NaN         NaN  \n",
       "DEHBInnTier2IndividualMOOP                                NaN         NaN  \n",
       "EHBPercentPremiumS4                                  0.018412    0.037083  \n",
       "EHBPercentTotalPremium                              -0.018098    0.152869  \n",
       "HPID                                                -0.136830    0.237290  \n",
       "InpatientCopaymentMaximumDays                        0.027989   -0.017976  \n",
       "IssuerId                                             0.041374   -0.015214  \n",
       "IssuerId2                                            0.041374   -0.015214  \n",
       "RowNumber                                            1.000000    0.058934  \n",
       "VersionNum                                           0.058934    1.000000  "
      ]
     },
     "execution_count": 12,
     "metadata": {},
     "output_type": "execute_result"
    }
   ],
   "source": [
    "numeric_df = df.select_dtypes(include=[np.number])\n",
    "numeric_df.corr()"
   ]
  },
  {
   "cell_type": "code",
   "execution_count": 13,
   "metadata": {
    "id": "dgbrcrgwTbWd"
   },
   "outputs": [],
   "source": [
    "df = df.drop(['SourceName'],axis=1)"
   ]
  },
  {
   "cell_type": "code",
   "execution_count": null,
   "metadata": {
    "id": "GqjmMqGrfc6W"
   },
   "outputs": [],
   "source": []
  },
  {
   "cell_type": "code",
   "execution_count": 14,
   "metadata": {
    "id": "qCwip_AXP1Dh"
   },
   "outputs": [],
   "source": [
    "df = df.filter(regex='^(?!URL)')"
   ]
  },
  {
   "cell_type": "code",
   "execution_count": 15,
   "metadata": {
    "id": "DGSNh__1Q2YY"
   },
   "outputs": [
    {
     "data": {
      "text/plain": [
       "(77353, 173)"
      ]
     },
     "execution_count": 15,
     "metadata": {},
     "output_type": "execute_result"
    }
   ],
   "source": [
    "df.shape"
   ]
  },
  {
   "cell_type": "code",
   "execution_count": 16,
   "metadata": {
    "id": "7if0KEY0Q36P"
   },
   "outputs": [
    {
     "data": {
      "text/html": [
       "<div>\n",
       "<style scoped>\n",
       "    .dataframe tbody tr th:only-of-type {\n",
       "        vertical-align: middle;\n",
       "    }\n",
       "\n",
       "    .dataframe tbody tr th {\n",
       "        vertical-align: top;\n",
       "    }\n",
       "\n",
       "    .dataframe thead th {\n",
       "        text-align: right;\n",
       "    }\n",
       "</style>\n",
       "<table border=\"1\" class=\"dataframe\">\n",
       "  <thead>\n",
       "    <tr style=\"text-align: right;\">\n",
       "      <th></th>\n",
       "      <th>AVCalculatorOutputNumber</th>\n",
       "      <th>BeginPrimaryCareCostSharingAfterNumberOfVisits</th>\n",
       "      <th>BeginPrimaryCareDeductibleCoinsuranceAfterNumberOfCopays</th>\n",
       "      <th>BenefitPackageId</th>\n",
       "      <th>BusinessYear</th>\n",
       "      <th>CSRVariationType</th>\n",
       "      <th>ChildOnlyOffering</th>\n",
       "      <th>ChildOnlyPlanId</th>\n",
       "      <th>CompositeRatingOffered</th>\n",
       "      <th>DEHBCombInnOonFamilyMOOP</th>\n",
       "      <th>...</th>\n",
       "      <th>TEHBInnTier2FamilyPerPersonMOOP</th>\n",
       "      <th>TEHBInnTier2IndividualMOOP</th>\n",
       "      <th>TEHBOutOfNetFamilyMOOP</th>\n",
       "      <th>TEHBOutOfNetFamilyPerGroupMOOP</th>\n",
       "      <th>TEHBOutOfNetFamilyPerPersonMOOP</th>\n",
       "      <th>TEHBOutOfNetIndividualMOOP</th>\n",
       "      <th>TIN</th>\n",
       "      <th>UniquePlanDesign</th>\n",
       "      <th>VersionNum</th>\n",
       "      <th>WellnessProgramOffered</th>\n",
       "    </tr>\n",
       "  </thead>\n",
       "  <tbody>\n",
       "    <tr>\n",
       "      <th>0</th>\n",
       "      <td>NaN</td>\n",
       "      <td>0</td>\n",
       "      <td>0</td>\n",
       "      <td>1</td>\n",
       "      <td>2014</td>\n",
       "      <td>Standard Low Off Exchange Plan</td>\n",
       "      <td>Allows Adult and Child-Only</td>\n",
       "      <td>NaN</td>\n",
       "      <td>NaN</td>\n",
       "      <td>NaN</td>\n",
       "      <td>...</td>\n",
       "      <td>NaN</td>\n",
       "      <td>NaN</td>\n",
       "      <td>NaN</td>\n",
       "      <td>NaN</td>\n",
       "      <td>NaN</td>\n",
       "      <td>NaN</td>\n",
       "      <td>93-0438772</td>\n",
       "      <td>NaN</td>\n",
       "      <td>6</td>\n",
       "      <td>NaN</td>\n",
       "    </tr>\n",
       "    <tr>\n",
       "      <th>1</th>\n",
       "      <td>NaN</td>\n",
       "      <td>0</td>\n",
       "      <td>0</td>\n",
       "      <td>1</td>\n",
       "      <td>2014</td>\n",
       "      <td>Standard Low On Exchange Plan</td>\n",
       "      <td>Allows Adult and Child-Only</td>\n",
       "      <td>NaN</td>\n",
       "      <td>NaN</td>\n",
       "      <td>NaN</td>\n",
       "      <td>...</td>\n",
       "      <td>NaN</td>\n",
       "      <td>NaN</td>\n",
       "      <td>NaN</td>\n",
       "      <td>NaN</td>\n",
       "      <td>NaN</td>\n",
       "      <td>NaN</td>\n",
       "      <td>93-0438772</td>\n",
       "      <td>NaN</td>\n",
       "      <td>6</td>\n",
       "      <td>NaN</td>\n",
       "    </tr>\n",
       "    <tr>\n",
       "      <th>2</th>\n",
       "      <td>NaN</td>\n",
       "      <td>0</td>\n",
       "      <td>0</td>\n",
       "      <td>1</td>\n",
       "      <td>2014</td>\n",
       "      <td>Standard High Off Exchange Plan</td>\n",
       "      <td>Allows Adult and Child-Only</td>\n",
       "      <td>NaN</td>\n",
       "      <td>NaN</td>\n",
       "      <td>NaN</td>\n",
       "      <td>...</td>\n",
       "      <td>NaN</td>\n",
       "      <td>NaN</td>\n",
       "      <td>NaN</td>\n",
       "      <td>NaN</td>\n",
       "      <td>NaN</td>\n",
       "      <td>NaN</td>\n",
       "      <td>93-0438772</td>\n",
       "      <td>NaN</td>\n",
       "      <td>6</td>\n",
       "      <td>NaN</td>\n",
       "    </tr>\n",
       "    <tr>\n",
       "      <th>3</th>\n",
       "      <td>NaN</td>\n",
       "      <td>0</td>\n",
       "      <td>0</td>\n",
       "      <td>1</td>\n",
       "      <td>2014</td>\n",
       "      <td>Standard Low Off Exchange Plan</td>\n",
       "      <td>Allows Adult and Child-Only</td>\n",
       "      <td>NaN</td>\n",
       "      <td>NaN</td>\n",
       "      <td>NaN</td>\n",
       "      <td>...</td>\n",
       "      <td>NaN</td>\n",
       "      <td>NaN</td>\n",
       "      <td>NaN</td>\n",
       "      <td>NaN</td>\n",
       "      <td>NaN</td>\n",
       "      <td>NaN</td>\n",
       "      <td>93-0438772</td>\n",
       "      <td>NaN</td>\n",
       "      <td>6</td>\n",
       "      <td>NaN</td>\n",
       "    </tr>\n",
       "    <tr>\n",
       "      <th>4</th>\n",
       "      <td>NaN</td>\n",
       "      <td>0</td>\n",
       "      <td>0</td>\n",
       "      <td>1</td>\n",
       "      <td>2014</td>\n",
       "      <td>Standard Low On Exchange Plan</td>\n",
       "      <td>Allows Adult and Child-Only</td>\n",
       "      <td>NaN</td>\n",
       "      <td>NaN</td>\n",
       "      <td>NaN</td>\n",
       "      <td>...</td>\n",
       "      <td>NaN</td>\n",
       "      <td>NaN</td>\n",
       "      <td>NaN</td>\n",
       "      <td>NaN</td>\n",
       "      <td>NaN</td>\n",
       "      <td>NaN</td>\n",
       "      <td>93-0438772</td>\n",
       "      <td>NaN</td>\n",
       "      <td>6</td>\n",
       "      <td>NaN</td>\n",
       "    </tr>\n",
       "  </tbody>\n",
       "</table>\n",
       "<p>5 rows × 173 columns</p>\n",
       "</div>"
      ],
      "text/plain": [
       "  AVCalculatorOutputNumber  BeginPrimaryCareCostSharingAfterNumberOfVisits  \\\n",
       "0                      NaN                                               0   \n",
       "1                      NaN                                               0   \n",
       "2                      NaN                                               0   \n",
       "3                      NaN                                               0   \n",
       "4                      NaN                                               0   \n",
       "\n",
       "   BeginPrimaryCareDeductibleCoinsuranceAfterNumberOfCopays  BenefitPackageId  \\\n",
       "0                                                  0                        1   \n",
       "1                                                  0                        1   \n",
       "2                                                  0                        1   \n",
       "3                                                  0                        1   \n",
       "4                                                  0                        1   \n",
       "\n",
       "   BusinessYear                 CSRVariationType            ChildOnlyOffering  \\\n",
       "0          2014   Standard Low Off Exchange Plan  Allows Adult and Child-Only   \n",
       "1          2014    Standard Low On Exchange Plan  Allows Adult and Child-Only   \n",
       "2          2014  Standard High Off Exchange Plan  Allows Adult and Child-Only   \n",
       "3          2014   Standard Low Off Exchange Plan  Allows Adult and Child-Only   \n",
       "4          2014    Standard Low On Exchange Plan  Allows Adult and Child-Only   \n",
       "\n",
       "  ChildOnlyPlanId CompositeRatingOffered DEHBCombInnOonFamilyMOOP  ...  \\\n",
       "0             NaN                    NaN                      NaN  ...   \n",
       "1             NaN                    NaN                      NaN  ...   \n",
       "2             NaN                    NaN                      NaN  ...   \n",
       "3             NaN                    NaN                      NaN  ...   \n",
       "4             NaN                    NaN                      NaN  ...   \n",
       "\n",
       "  TEHBInnTier2FamilyPerPersonMOOP TEHBInnTier2IndividualMOOP  \\\n",
       "0                             NaN                        NaN   \n",
       "1                             NaN                        NaN   \n",
       "2                             NaN                        NaN   \n",
       "3                             NaN                        NaN   \n",
       "4                             NaN                        NaN   \n",
       "\n",
       "  TEHBOutOfNetFamilyMOOP TEHBOutOfNetFamilyPerGroupMOOP  \\\n",
       "0                    NaN                            NaN   \n",
       "1                    NaN                            NaN   \n",
       "2                    NaN                            NaN   \n",
       "3                    NaN                            NaN   \n",
       "4                    NaN                            NaN   \n",
       "\n",
       "  TEHBOutOfNetFamilyPerPersonMOOP TEHBOutOfNetIndividualMOOP         TIN  \\\n",
       "0                             NaN                        NaN  93-0438772   \n",
       "1                             NaN                        NaN  93-0438772   \n",
       "2                             NaN                        NaN  93-0438772   \n",
       "3                             NaN                        NaN  93-0438772   \n",
       "4                             NaN                        NaN  93-0438772   \n",
       "\n",
       "  UniquePlanDesign VersionNum WellnessProgramOffered  \n",
       "0              NaN          6                    NaN  \n",
       "1              NaN          6                    NaN  \n",
       "2              NaN          6                    NaN  \n",
       "3              NaN          6                    NaN  \n",
       "4              NaN          6                    NaN  \n",
       "\n",
       "[5 rows x 173 columns]"
      ]
     },
     "execution_count": 16,
     "metadata": {},
     "output_type": "execute_result"
    }
   ],
   "source": [
    "df.head()"
   ]
  },
  {
   "cell_type": "code",
   "execution_count": 17,
   "metadata": {
    "id": "v9Xgt1oEhWXu"
   },
   "outputs": [
    {
     "name": "stdout",
     "output_type": "stream",
     "text": [
      "AVCalculatorOutputNumber column has 22825 null values, which is 29.51% of the total.\n",
      "BeginPrimaryCareCostSharingAfterNumberOfVisits column has 0 null values, which is 0.00% of the total.\n",
      "BeginPrimaryCareDeductibleCoinsuranceAfterNumberOfCopays column has 0 null values, which is 0.00% of the total.\n",
      "BenefitPackageId column has 0 null values, which is 0.00% of the total.\n",
      "BusinessYear column has 0 null values, which is 0.00% of the total.\n",
      "CSRVariationType column has 0 null values, which is 0.00% of the total.\n",
      "ChildOnlyOffering column has 0 null values, which is 0.00% of the total.\n",
      "ChildOnlyPlanId column has 76916 null values, which is 99.44% of the total.\n",
      "CompositeRatingOffered column has 49972 null values, which is 64.60% of the total.\n",
      "DEHBCombInnOonFamilyMOOP column has 76425 null values, which is 98.80% of the total.\n",
      "DEHBCombInnOonFamilyPerGroupMOOP column has 77130 null values, which is 99.71% of the total.\n",
      "DEHBCombInnOonFamilyPerPersonMOOP column has 77130 null values, which is 99.71% of the total.\n",
      "DEHBCombInnOonIndividualMOOP column has 76202 null values, which is 98.51% of the total.\n",
      "DEHBDedCombInnOonFamily column has 58680 null values, which is 75.86% of the total.\n",
      "DEHBDedCombInnOonFamilyPerGroup column has 67927 null values, which is 87.81% of the total.\n",
      "DEHBDedCombInnOonFamilyPerPerson column has 67927 null values, which is 87.81% of the total.\n",
      "DEHBDedCombInnOonIndividual column has 49254 null values, which is 63.67% of the total.\n",
      "DEHBDedInnTier1Coinsurance column has 49254 null values, which is 63.67% of the total.\n",
      "DEHBDedInnTier1Family column has 58680 null values, which is 75.86% of the total.\n",
      "DEHBDedInnTier1FamilyPerGroup column has 67927 null values, which is 87.81% of the total.\n",
      "DEHBDedInnTier1FamilyPerPerson column has 67927 null values, which is 87.81% of the total.\n",
      "DEHBDedInnTier1Individual column has 49254 null values, which is 63.67% of the total.\n",
      "DEHBDedInnTier2Coinsurance column has 74592 null values, which is 96.43% of the total.\n",
      "DEHBDedInnTier2Family column has 76397 null values, which is 98.76% of the total.\n",
      "DEHBDedInnTier2FamilyPerGroup column has 75548 null values, which is 97.67% of the total.\n",
      "DEHBDedInnTier2FamilyPerPerson column has 75548 null values, which is 97.67% of the total.\n",
      "DEHBDedInnTier2Individual column has 74592 null values, which is 96.43% of the total.\n",
      "DEHBDedOutOfNetFamily column has 58680 null values, which is 75.86% of the total.\n",
      "DEHBDedOutOfNetFamilyPerGroup column has 67927 null values, which is 87.81% of the total.\n",
      "DEHBDedOutOfNetFamilyPerPerson column has 67927 null values, which is 87.81% of the total.\n",
      "DEHBDedOutOfNetIndividual column has 49254 null values, which is 63.67% of the total.\n",
      "DEHBInnTier1FamilyMOOP column has 76425 null values, which is 98.80% of the total.\n",
      "DEHBInnTier1FamilyPerGroupMOOP column has 77130 null values, which is 99.71% of the total.\n",
      "DEHBInnTier1FamilyPerPersonMOOP column has 77130 null values, which is 99.71% of the total.\n",
      "DEHBInnTier1IndividualMOOP column has 76202 null values, which is 98.51% of the total.\n",
      "DEHBInnTier2FamilyMOOP column has 77353 null values, which is 100.00% of the total.\n",
      "DEHBInnTier2FamilyPerGroupMOOP column has 77353 null values, which is 100.00% of the total.\n",
      "DEHBInnTier2FamilyPerPersonMOOP column has 77353 null values, which is 100.00% of the total.\n",
      "DEHBInnTier2IndividualMOOP column has 77353 null values, which is 100.00% of the total.\n",
      "DEHBOutOfNetFamilyMOOP column has 76425 null values, which is 98.80% of the total.\n",
      "DEHBOutOfNetFamilyPerGroupMOOP column has 77130 null values, which is 99.71% of the total.\n",
      "DEHBOutOfNetFamilyPerPersonMOOP column has 77130 null values, which is 99.71% of the total.\n",
      "DEHBOutOfNetIndividualMOOP column has 76202 null values, which is 98.51% of the total.\n",
      "DentalOnlyPlan column has 0 null values, which is 0.00% of the total.\n",
      "DiseaseManagementProgramsOffered column has 15387 null values, which is 19.89% of the total.\n",
      "EHBPediatricDentalApportionmentQuantity column has 65704 null values, which is 84.94% of the total.\n",
      "EHBPercentPremiumS4 column has 35476 null values, which is 45.86% of the total.\n",
      "EHBPercentTotalPremium column has 54243 null values, which is 70.12% of the total.\n",
      "FirstTierUtilization column has 0 null values, which is 0.00% of the total.\n",
      "FormularyId column has 11649 null values, which is 15.06% of the total.\n",
      "FormularyURL column has 11807 null values, which is 15.26% of the total.\n",
      "HIOSProductId column has 0 null values, which is 0.00% of the total.\n",
      "HPID column has 65503 null values, which is 84.68% of the total.\n",
      "HSAOrHRAEmployerContribution column has 66641 null values, which is 86.15% of the total.\n",
      "HSAOrHRAEmployerContributionAmount column has 77067 null values, which is 99.63% of the total.\n",
      "ImportDate column has 0 null values, which is 0.00% of the total.\n",
      "IndianPlanVariationEstimatedAdvancedPaymentAmountPerEnrollee column has 22361 null values, which is 28.91% of the total.\n",
      "InpatientCopaymentMaximumDays column has 0 null values, which is 0.00% of the total.\n",
      "IsGuaranteedRate column has 65704 null values, which is 84.94% of the total.\n",
      "IsHSAEligible column has 11649 null values, which is 15.06% of the total.\n",
      "IsNewPlan column has 0 null values, which is 0.00% of the total.\n",
      "IsNoticeRequiredForPregnancy column has 11649 null values, which is 15.06% of the total.\n",
      "IsReferralRequiredForSpecialist column has 11649 null values, which is 15.06% of the total.\n",
      "IssuerActuarialValue column has 34827 null values, which is 45.02% of the total.\n",
      "IssuerId column has 0 null values, which is 0.00% of the total.\n",
      "IssuerId2 column has 0 null values, which is 0.00% of the total.\n",
      "MEHBCombInnOonFamilyMOOP column has 68631 null values, which is 88.72% of the total.\n",
      "MEHBCombInnOonFamilyPerGroupMOOP column has 73275 null values, which is 94.73% of the total.\n",
      "MEHBCombInnOonFamilyPerPersonMOOP column has 73275 null values, which is 94.73% of the total.\n",
      "MEHBCombInnOonIndividualMOOP column has 64553 null values, which is 83.45% of the total.\n",
      "MEHBDedCombInnOonFamily column has 50886 null values, which is 65.78% of the total.\n",
      "MEHBDedCombInnOonFamilyPerGroup column has 64072 null values, which is 82.83% of the total.\n",
      "MEHBDedCombInnOonFamilyPerPerson column has 64072 null values, which is 82.83% of the total.\n",
      "MEHBDedCombInnOonIndividual column has 37605 null values, which is 48.61% of the total.\n",
      "MEHBDedInnTier1Coinsurance column has 49254 null values, which is 63.67% of the total.\n",
      "MEHBDedInnTier1Family column has 50886 null values, which is 65.78% of the total.\n",
      "MEHBDedInnTier1FamilyPerGroup column has 64072 null values, which is 82.83% of the total.\n",
      "MEHBDedInnTier1FamilyPerPerson column has 64072 null values, which is 82.83% of the total.\n",
      "MEHBDedInnTier1Individual column has 37605 null values, which is 48.61% of the total.\n",
      "MEHBDedInnTier2Coinsurance column has 74592 null values, which is 96.43% of the total.\n",
      "MEHBDedInnTier2Family column has 76090 null values, which is 98.37% of the total.\n",
      "MEHBDedInnTier2FamilyPerGroup column has 75338 null values, which is 97.40% of the total.\n",
      "MEHBDedInnTier2FamilyPerPerson column has 75338 null values, which is 97.40% of the total.\n",
      "MEHBDedInnTier2Individual column has 74075 null values, which is 95.76% of the total.\n",
      "MEHBDedOutOfNetFamily column has 50886 null values, which is 65.78% of the total.\n",
      "MEHBDedOutOfNetFamilyPerGroup column has 64072 null values, which is 82.83% of the total.\n",
      "MEHBDedOutOfNetFamilyPerPerson column has 64072 null values, which is 82.83% of the total.\n",
      "MEHBDedOutOfNetIndividual column has 37605 null values, which is 48.61% of the total.\n",
      "MEHBInnTier1FamilyMOOP column has 68631 null values, which is 88.72% of the total.\n",
      "MEHBInnTier1FamilyPerGroupMOOP column has 73275 null values, which is 94.73% of the total.\n",
      "MEHBInnTier1FamilyPerPersonMOOP column has 73275 null values, which is 94.73% of the total.\n",
      "MEHBInnTier1IndividualMOOP column has 64553 null values, which is 83.45% of the total.\n",
      "MEHBInnTier2FamilyMOOP column has 77046 null values, which is 99.60% of the total.\n",
      "MEHBInnTier2FamilyPerGroupMOOP column has 77143 null values, which is 99.73% of the total.\n",
      "MEHBInnTier2FamilyPerPersonMOOP column has 77143 null values, which is 99.73% of the total.\n",
      "MEHBInnTier2IndividualMOOP column has 76836 null values, which is 99.33% of the total.\n",
      "MEHBOutOfNetFamilyMOOP column has 68631 null values, which is 88.72% of the total.\n",
      "MEHBOutOfNetFamilyPerGroupMOOP column has 73275 null values, which is 94.73% of the total.\n",
      "MEHBOutOfNetFamilyPerPersonMOOP column has 73275 null values, which is 94.73% of the total.\n",
      "MEHBOutOfNetIndividualMOOP column has 64553 null values, which is 83.45% of the total.\n",
      "MarketCoverage column has 0 null values, which is 0.00% of the total.\n",
      "MedicalDrugDeductiblesIntegrated column has 11649 null values, which is 15.06% of the total.\n",
      "MedicalDrugMaximumOutofPocketIntegrated column has 11649 null values, which is 15.06% of the total.\n",
      "MetalLevel column has 0 null values, which is 0.00% of the total.\n",
      "MultipleInNetworkTiers column has 0 null values, which is 0.00% of the total.\n",
      "NationalNetwork column has 0 null values, which is 0.00% of the total.\n",
      "NetworkId column has 0 null values, which is 0.00% of the total.\n",
      "OutOfCountryCoverage column has 0 null values, which is 0.00% of the total.\n",
      "OutOfCountryCoverageDescription column has 21631 null values, which is 27.96% of the total.\n",
      "OutOfServiceAreaCoverage column has 0 null values, which is 0.00% of the total.\n",
      "OutOfServiceAreaCoverageDescription column has 8838 null values, which is 11.43% of the total.\n",
      "PlanBrochure column has 9062 null values, which is 11.72% of the total.\n",
      "PlanEffictiveDate column has 0 null values, which is 0.00% of the total.\n",
      "PlanExpirationDate column has 49694 null values, which is 64.24% of the total.\n",
      "PlanId column has 0 null values, which is 0.00% of the total.\n",
      "PlanLevelExclusions column has 67791 null values, which is 87.64% of the total.\n",
      "PlanMarketingName column has 0 null values, which is 0.00% of the total.\n",
      "PlanType column has 0 null values, which is 0.00% of the total.\n",
      "QHPNonQHPTypeId column has 0 null values, which is 0.00% of the total.\n",
      "RowNumber column has 0 null values, which is 0.00% of the total.\n",
      "SBCHavingDiabetesCoinsurance column has 39354 null values, which is 50.88% of the total.\n",
      "SBCHavingDiabetesCopayment column has 39277 null values, which is 50.78% of the total.\n",
      "SBCHavingDiabetesDeductible column has 39271 null values, which is 50.77% of the total.\n",
      "SBCHavingDiabetesLimit column has 39344 null values, which is 50.86% of the total.\n",
      "SBCHavingaBabyCoinsurance column has 39324 null values, which is 50.84% of the total.\n",
      "SBCHavingaBabyCopayment column has 39255 null values, which is 50.75% of the total.\n",
      "SBCHavingaBabyDeductible column has 39259 null values, which is 50.75% of the total.\n",
      "SBCHavingaBabyLimit column has 39332 null values, which is 50.85% of the total.\n",
      "SecondTierUtilization column has 68763 null values, which is 88.90% of the total.\n",
      "ServiceAreaId column has 0 null values, which is 0.00% of the total.\n",
      "SpecialistRequiringReferral column has 59388 null values, which is 76.78% of the total.\n",
      "SpecialtyDrugMaximumCoinsurance column has 69263 null values, which is 89.54% of the total.\n",
      "StandardComponentId column has 0 null values, which is 0.00% of the total.\n",
      "StateCode column has 0 null values, which is 0.00% of the total.\n",
      "StateCode2 column has 0 null values, which is 0.00% of the total.\n",
      "TEHBCombInnOonFamilyMOOP column has 36103 null values, which is 46.67% of the total.\n",
      "TEHBCombInnOonFamilyPerGroupMOOP column has 54050 null values, which is 69.87% of the total.\n",
      "TEHBCombInnOonFamilyPerPersonMOOP column has 54050 null values, which is 69.87% of the total.\n",
      "TEHBCombInnOonIndividualMOOP column has 12800 null values, which is 16.55% of the total.\n",
      "TEHBDedCombInnOonFamily column has 53892 null values, which is 69.67% of the total.\n",
      "TEHBDedCombInnOonFamilyPerGroup column has 63253 null values, which is 81.77% of the total.\n",
      "TEHBDedCombInnOonFamilyPerPerson column has 63253 null values, which is 81.77% of the total.\n",
      "TEHBDedCombInnOonIndividual column has 39756 null values, which is 51.40% of the total.\n",
      "TEHBDedInnTier1Coinsurance column has 39748 null values, which is 51.39% of the total.\n",
      "TEHBDedInnTier1Family column has 53848 null values, which is 69.61% of the total.\n",
      "TEHBDedInnTier1FamilyPerGroup column has 63253 null values, which is 81.77% of the total.\n",
      "TEHBDedInnTier1FamilyPerPerson column has 63253 null values, which is 81.77% of the total.\n",
      "TEHBDedInnTier1Individual column has 39748 null values, which is 51.39% of the total.\n",
      "TEHBDedInnTier2Coinsurance column has 72037 null values, which is 93.13% of the total.\n",
      "TEHBDedInnTier2Family column has 75052 null values, which is 97.03% of the total.\n",
      "TEHBDedInnTier2FamilyPerGroup column has 74338 null values, which is 96.10% of the total.\n",
      "TEHBDedInnTier2FamilyPerPerson column has 74338 null values, which is 96.10% of the total.\n",
      "TEHBDedInnTier2Individual column has 72037 null values, which is 93.13% of the total.\n",
      "TEHBDedOutOfNetFamily column has 53848 null values, which is 69.61% of the total.\n",
      "TEHBDedOutOfNetFamilyPerGroup column has 63253 null values, which is 81.77% of the total.\n",
      "TEHBDedOutOfNetFamilyPerPerson column has 63253 null values, which is 81.77% of the total.\n",
      "TEHBDedOutOfNetIndividual column has 39748 null values, which is 51.39% of the total.\n",
      "TEHBInnTier1FamilyMOOP column has 36103 null values, which is 46.67% of the total.\n",
      "TEHBInnTier1FamilyPerGroupMOOP column has 54050 null values, which is 69.87% of the total.\n",
      "TEHBInnTier1FamilyPerPersonMOOP column has 54050 null values, which is 69.87% of the total.\n",
      "TEHBInnTier1IndividualMOOP column has 12800 null values, which is 16.55% of the total.\n",
      "TEHBInnTier2FamilyMOOP column has 74096 null values, which is 95.79% of the total.\n",
      "TEHBInnTier2FamilyPerGroupMOOP column has 72533 null values, which is 93.77% of the total.\n",
      "TEHBInnTier2FamilyPerPersonMOOP column has 72533 null values, which is 93.77% of the total.\n",
      "TEHBInnTier2IndividualMOOP column has 69276 null values, which is 89.56% of the total.\n",
      "TEHBOutOfNetFamilyMOOP column has 36103 null values, which is 46.67% of the total.\n",
      "TEHBOutOfNetFamilyPerGroupMOOP column has 54050 null values, which is 69.87% of the total.\n",
      "TEHBOutOfNetFamilyPerPersonMOOP column has 54050 null values, which is 69.87% of the total.\n",
      "TEHBOutOfNetIndividualMOOP column has 12800 null values, which is 16.55% of the total.\n",
      "TIN column has 0 null values, which is 0.00% of the total.\n",
      "UniquePlanDesign column has 11649 null values, which is 15.06% of the total.\n",
      "VersionNum column has 0 null values, which is 0.00% of the total.\n",
      "WellnessProgramOffered column has 11637 null values, which is 15.04% of the total.\n"
     ]
    }
   ],
   "source": [
    "# Loop through each column in the DataFrame\n",
    "for column in df.columns:\n",
    "    # Count the number of null values in the current column\n",
    "    null_count = df[column].isnull().sum()\n",
    "    # Calculate the total number of values in the column\n",
    "    total_count = len(df[column])\n",
    "    # Calculate the percentage of null values in the column\n",
    "    percent_null = (null_count / total_count) * 100\n",
    "    # Print the information about null values in the column\n",
    "    print(f\"{column} column has {null_count} null values, which is {percent_null:.2f}% of the total.\")\n"
   ]
  },
  {
   "cell_type": "code",
   "execution_count": 18,
   "metadata": {
    "id": "HFlZxb6risvi"
   },
   "outputs": [
    {
     "name": "stdout",
     "output_type": "stream",
     "text": [
      "AVCalculatorOutputNumber column has 22825 null values, which is 29.51% of the total and is greater than 20%.\n",
      "ChildOnlyPlanId column has 76916 null values, which is 99.44% of the total and is greater than 20%.\n",
      "CompositeRatingOffered column has 49972 null values, which is 64.60% of the total and is greater than 20%.\n",
      "DEHBCombInnOonFamilyMOOP column has 76425 null values, which is 98.80% of the total and is greater than 20%.\n",
      "DEHBCombInnOonFamilyPerGroupMOOP column has 77130 null values, which is 99.71% of the total and is greater than 20%.\n",
      "DEHBCombInnOonFamilyPerPersonMOOP column has 77130 null values, which is 99.71% of the total and is greater than 20%.\n",
      "DEHBCombInnOonIndividualMOOP column has 76202 null values, which is 98.51% of the total and is greater than 20%.\n",
      "DEHBDedCombInnOonFamily column has 58680 null values, which is 75.86% of the total and is greater than 20%.\n",
      "DEHBDedCombInnOonFamilyPerGroup column has 67927 null values, which is 87.81% of the total and is greater than 20%.\n",
      "DEHBDedCombInnOonFamilyPerPerson column has 67927 null values, which is 87.81% of the total and is greater than 20%.\n",
      "DEHBDedCombInnOonIndividual column has 49254 null values, which is 63.67% of the total and is greater than 20%.\n",
      "DEHBDedInnTier1Coinsurance column has 49254 null values, which is 63.67% of the total and is greater than 20%.\n",
      "DEHBDedInnTier1Family column has 58680 null values, which is 75.86% of the total and is greater than 20%.\n",
      "DEHBDedInnTier1FamilyPerGroup column has 67927 null values, which is 87.81% of the total and is greater than 20%.\n",
      "DEHBDedInnTier1FamilyPerPerson column has 67927 null values, which is 87.81% of the total and is greater than 20%.\n",
      "DEHBDedInnTier1Individual column has 49254 null values, which is 63.67% of the total and is greater than 20%.\n",
      "DEHBDedInnTier2Coinsurance column has 74592 null values, which is 96.43% of the total and is greater than 20%.\n",
      "DEHBDedInnTier2Family column has 76397 null values, which is 98.76% of the total and is greater than 20%.\n",
      "DEHBDedInnTier2FamilyPerGroup column has 75548 null values, which is 97.67% of the total and is greater than 20%.\n",
      "DEHBDedInnTier2FamilyPerPerson column has 75548 null values, which is 97.67% of the total and is greater than 20%.\n",
      "DEHBDedInnTier2Individual column has 74592 null values, which is 96.43% of the total and is greater than 20%.\n",
      "DEHBDedOutOfNetFamily column has 58680 null values, which is 75.86% of the total and is greater than 20%.\n",
      "DEHBDedOutOfNetFamilyPerGroup column has 67927 null values, which is 87.81% of the total and is greater than 20%.\n",
      "DEHBDedOutOfNetFamilyPerPerson column has 67927 null values, which is 87.81% of the total and is greater than 20%.\n",
      "DEHBDedOutOfNetIndividual column has 49254 null values, which is 63.67% of the total and is greater than 20%.\n",
      "DEHBInnTier1FamilyMOOP column has 76425 null values, which is 98.80% of the total and is greater than 20%.\n",
      "DEHBInnTier1FamilyPerGroupMOOP column has 77130 null values, which is 99.71% of the total and is greater than 20%.\n",
      "DEHBInnTier1FamilyPerPersonMOOP column has 77130 null values, which is 99.71% of the total and is greater than 20%.\n",
      "DEHBInnTier1IndividualMOOP column has 76202 null values, which is 98.51% of the total and is greater than 20%.\n",
      "DEHBInnTier2FamilyMOOP column has 77353 null values, which is 100.00% of the total and is greater than 20%.\n",
      "DEHBInnTier2FamilyPerGroupMOOP column has 77353 null values, which is 100.00% of the total and is greater than 20%.\n",
      "DEHBInnTier2FamilyPerPersonMOOP column has 77353 null values, which is 100.00% of the total and is greater than 20%.\n",
      "DEHBInnTier2IndividualMOOP column has 77353 null values, which is 100.00% of the total and is greater than 20%.\n",
      "DEHBOutOfNetFamilyMOOP column has 76425 null values, which is 98.80% of the total and is greater than 20%.\n",
      "DEHBOutOfNetFamilyPerGroupMOOP column has 77130 null values, which is 99.71% of the total and is greater than 20%.\n",
      "DEHBOutOfNetFamilyPerPersonMOOP column has 77130 null values, which is 99.71% of the total and is greater than 20%.\n",
      "DEHBOutOfNetIndividualMOOP column has 76202 null values, which is 98.51% of the total and is greater than 20%.\n",
      "EHBPediatricDentalApportionmentQuantity column has 65704 null values, which is 84.94% of the total and is greater than 20%.\n",
      "EHBPercentPremiumS4 column has 35476 null values, which is 45.86% of the total and is greater than 20%.\n",
      "EHBPercentTotalPremium column has 54243 null values, which is 70.12% of the total and is greater than 20%.\n",
      "HPID column has 65503 null values, which is 84.68% of the total and is greater than 20%.\n",
      "HSAOrHRAEmployerContribution column has 66641 null values, which is 86.15% of the total and is greater than 20%.\n",
      "HSAOrHRAEmployerContributionAmount column has 77067 null values, which is 99.63% of the total and is greater than 20%.\n",
      "IndianPlanVariationEstimatedAdvancedPaymentAmountPerEnrollee column has 22361 null values, which is 28.91% of the total and is greater than 20%.\n",
      "IsGuaranteedRate column has 65704 null values, which is 84.94% of the total and is greater than 20%.\n",
      "IssuerActuarialValue column has 34827 null values, which is 45.02% of the total and is greater than 20%.\n",
      "MEHBCombInnOonFamilyMOOP column has 68631 null values, which is 88.72% of the total and is greater than 20%.\n",
      "MEHBCombInnOonFamilyPerGroupMOOP column has 73275 null values, which is 94.73% of the total and is greater than 20%.\n",
      "MEHBCombInnOonFamilyPerPersonMOOP column has 73275 null values, which is 94.73% of the total and is greater than 20%.\n",
      "MEHBCombInnOonIndividualMOOP column has 64553 null values, which is 83.45% of the total and is greater than 20%.\n",
      "MEHBDedCombInnOonFamily column has 50886 null values, which is 65.78% of the total and is greater than 20%.\n",
      "MEHBDedCombInnOonFamilyPerGroup column has 64072 null values, which is 82.83% of the total and is greater than 20%.\n",
      "MEHBDedCombInnOonFamilyPerPerson column has 64072 null values, which is 82.83% of the total and is greater than 20%.\n",
      "MEHBDedCombInnOonIndividual column has 37605 null values, which is 48.61% of the total and is greater than 20%.\n",
      "MEHBDedInnTier1Coinsurance column has 49254 null values, which is 63.67% of the total and is greater than 20%.\n",
      "MEHBDedInnTier1Family column has 50886 null values, which is 65.78% of the total and is greater than 20%.\n",
      "MEHBDedInnTier1FamilyPerGroup column has 64072 null values, which is 82.83% of the total and is greater than 20%.\n",
      "MEHBDedInnTier1FamilyPerPerson column has 64072 null values, which is 82.83% of the total and is greater than 20%.\n",
      "MEHBDedInnTier1Individual column has 37605 null values, which is 48.61% of the total and is greater than 20%.\n",
      "MEHBDedInnTier2Coinsurance column has 74592 null values, which is 96.43% of the total and is greater than 20%.\n",
      "MEHBDedInnTier2Family column has 76090 null values, which is 98.37% of the total and is greater than 20%.\n",
      "MEHBDedInnTier2FamilyPerGroup column has 75338 null values, which is 97.40% of the total and is greater than 20%.\n",
      "MEHBDedInnTier2FamilyPerPerson column has 75338 null values, which is 97.40% of the total and is greater than 20%.\n",
      "MEHBDedInnTier2Individual column has 74075 null values, which is 95.76% of the total and is greater than 20%.\n",
      "MEHBDedOutOfNetFamily column has 50886 null values, which is 65.78% of the total and is greater than 20%.\n",
      "MEHBDedOutOfNetFamilyPerGroup column has 64072 null values, which is 82.83% of the total and is greater than 20%.\n",
      "MEHBDedOutOfNetFamilyPerPerson column has 64072 null values, which is 82.83% of the total and is greater than 20%.\n",
      "MEHBDedOutOfNetIndividual column has 37605 null values, which is 48.61% of the total and is greater than 20%.\n",
      "MEHBInnTier1FamilyMOOP column has 68631 null values, which is 88.72% of the total and is greater than 20%.\n",
      "MEHBInnTier1FamilyPerGroupMOOP column has 73275 null values, which is 94.73% of the total and is greater than 20%.\n",
      "MEHBInnTier1FamilyPerPersonMOOP column has 73275 null values, which is 94.73% of the total and is greater than 20%.\n",
      "MEHBInnTier1IndividualMOOP column has 64553 null values, which is 83.45% of the total and is greater than 20%.\n",
      "MEHBInnTier2FamilyMOOP column has 77046 null values, which is 99.60% of the total and is greater than 20%.\n",
      "MEHBInnTier2FamilyPerGroupMOOP column has 77143 null values, which is 99.73% of the total and is greater than 20%.\n",
      "MEHBInnTier2FamilyPerPersonMOOP column has 77143 null values, which is 99.73% of the total and is greater than 20%.\n",
      "MEHBInnTier2IndividualMOOP column has 76836 null values, which is 99.33% of the total and is greater than 20%.\n",
      "MEHBOutOfNetFamilyMOOP column has 68631 null values, which is 88.72% of the total and is greater than 20%.\n",
      "MEHBOutOfNetFamilyPerGroupMOOP column has 73275 null values, which is 94.73% of the total and is greater than 20%.\n",
      "MEHBOutOfNetFamilyPerPersonMOOP column has 73275 null values, which is 94.73% of the total and is greater than 20%.\n",
      "MEHBOutOfNetIndividualMOOP column has 64553 null values, which is 83.45% of the total and is greater than 20%.\n",
      "OutOfCountryCoverageDescription column has 21631 null values, which is 27.96% of the total and is greater than 20%.\n",
      "PlanExpirationDate column has 49694 null values, which is 64.24% of the total and is greater than 20%.\n",
      "PlanLevelExclusions column has 67791 null values, which is 87.64% of the total and is greater than 20%.\n",
      "SBCHavingDiabetesCoinsurance column has 39354 null values, which is 50.88% of the total and is greater than 20%.\n",
      "SBCHavingDiabetesCopayment column has 39277 null values, which is 50.78% of the total and is greater than 20%.\n",
      "SBCHavingDiabetesDeductible column has 39271 null values, which is 50.77% of the total and is greater than 20%.\n",
      "SBCHavingDiabetesLimit column has 39344 null values, which is 50.86% of the total and is greater than 20%.\n",
      "SBCHavingaBabyCoinsurance column has 39324 null values, which is 50.84% of the total and is greater than 20%.\n",
      "SBCHavingaBabyCopayment column has 39255 null values, which is 50.75% of the total and is greater than 20%.\n",
      "SBCHavingaBabyDeductible column has 39259 null values, which is 50.75% of the total and is greater than 20%.\n",
      "SBCHavingaBabyLimit column has 39332 null values, which is 50.85% of the total and is greater than 20%.\n",
      "SecondTierUtilization column has 68763 null values, which is 88.90% of the total and is greater than 20%.\n",
      "SpecialistRequiringReferral column has 59388 null values, which is 76.78% of the total and is greater than 20%.\n",
      "SpecialtyDrugMaximumCoinsurance column has 69263 null values, which is 89.54% of the total and is greater than 20%.\n",
      "TEHBCombInnOonFamilyMOOP column has 36103 null values, which is 46.67% of the total and is greater than 20%.\n",
      "TEHBCombInnOonFamilyPerGroupMOOP column has 54050 null values, which is 69.87% of the total and is greater than 20%.\n",
      "TEHBCombInnOonFamilyPerPersonMOOP column has 54050 null values, which is 69.87% of the total and is greater than 20%.\n",
      "TEHBDedCombInnOonFamily column has 53892 null values, which is 69.67% of the total and is greater than 20%.\n",
      "TEHBDedCombInnOonFamilyPerGroup column has 63253 null values, which is 81.77% of the total and is greater than 20%.\n",
      "TEHBDedCombInnOonFamilyPerPerson column has 63253 null values, which is 81.77% of the total and is greater than 20%.\n",
      "TEHBDedCombInnOonIndividual column has 39756 null values, which is 51.40% of the total and is greater than 20%.\n",
      "TEHBDedInnTier1Coinsurance column has 39748 null values, which is 51.39% of the total and is greater than 20%.\n",
      "TEHBDedInnTier1Family column has 53848 null values, which is 69.61% of the total and is greater than 20%.\n",
      "TEHBDedInnTier1FamilyPerGroup column has 63253 null values, which is 81.77% of the total and is greater than 20%.\n",
      "TEHBDedInnTier1FamilyPerPerson column has 63253 null values, which is 81.77% of the total and is greater than 20%.\n",
      "TEHBDedInnTier1Individual column has 39748 null values, which is 51.39% of the total and is greater than 20%.\n",
      "TEHBDedInnTier2Coinsurance column has 72037 null values, which is 93.13% of the total and is greater than 20%.\n",
      "TEHBDedInnTier2Family column has 75052 null values, which is 97.03% of the total and is greater than 20%.\n",
      "TEHBDedInnTier2FamilyPerGroup column has 74338 null values, which is 96.10% of the total and is greater than 20%.\n",
      "TEHBDedInnTier2FamilyPerPerson column has 74338 null values, which is 96.10% of the total and is greater than 20%.\n",
      "TEHBDedInnTier2Individual column has 72037 null values, which is 93.13% of the total and is greater than 20%.\n",
      "TEHBDedOutOfNetFamily column has 53848 null values, which is 69.61% of the total and is greater than 20%.\n",
      "TEHBDedOutOfNetFamilyPerGroup column has 63253 null values, which is 81.77% of the total and is greater than 20%.\n",
      "TEHBDedOutOfNetFamilyPerPerson column has 63253 null values, which is 81.77% of the total and is greater than 20%.\n",
      "TEHBDedOutOfNetIndividual column has 39748 null values, which is 51.39% of the total and is greater than 20%.\n",
      "TEHBInnTier1FamilyMOOP column has 36103 null values, which is 46.67% of the total and is greater than 20%.\n",
      "TEHBInnTier1FamilyPerGroupMOOP column has 54050 null values, which is 69.87% of the total and is greater than 20%.\n",
      "TEHBInnTier1FamilyPerPersonMOOP column has 54050 null values, which is 69.87% of the total and is greater than 20%.\n",
      "TEHBInnTier2FamilyMOOP column has 74096 null values, which is 95.79% of the total and is greater than 20%.\n",
      "TEHBInnTier2FamilyPerGroupMOOP column has 72533 null values, which is 93.77% of the total and is greater than 20%.\n",
      "TEHBInnTier2FamilyPerPersonMOOP column has 72533 null values, which is 93.77% of the total and is greater than 20%.\n",
      "TEHBInnTier2IndividualMOOP column has 69276 null values, which is 89.56% of the total and is greater than 20%.\n",
      "TEHBOutOfNetFamilyMOOP column has 36103 null values, which is 46.67% of the total and is greater than 20%.\n",
      "TEHBOutOfNetFamilyPerGroupMOOP column has 54050 null values, which is 69.87% of the total and is greater than 20%.\n",
      "TEHBOutOfNetFamilyPerPersonMOOP column has 54050 null values, which is 69.87% of the total and is greater than 20%.\n"
     ]
    }
   ],
   "source": [
    "for column in df.columns:\n",
    "    null_count = df[column].isnull().sum()\n",
    "    total_count = len(df[column])\n",
    "    percent_null = (null_count / total_count) * 100\n",
    "    if percent_null > 20:\n",
    "        print(f\"{column} column has {null_count} null values, which is {percent_null:.2f}% of the total and is greater than 20%.\")\n",
    "        df.drop(column, axis=1, inplace=True)\n"
   ]
  },
  {
   "cell_type": "code",
   "execution_count": 19,
   "metadata": {
    "id": "keOeh4jhjX5Q"
   },
   "outputs": [
    {
     "data": {
      "text/plain": [
       "(77353, 48)"
      ]
     },
     "execution_count": 19,
     "metadata": {},
     "output_type": "execute_result"
    }
   ],
   "source": [
    "df.shape"
   ]
  },
  {
   "cell_type": "code",
   "execution_count": 20,
   "metadata": {
    "id": "v6TIe7-mjbtZ"
   },
   "outputs": [
    {
     "name": "stdout",
     "output_type": "stream",
     "text": [
      "BeginPrimaryCareCostSharingAfterNumberOfVisits column has 0 null values, which is 0.00% of the total.\n",
      "BeginPrimaryCareDeductibleCoinsuranceAfterNumberOfCopays column has 0 null values, which is 0.00% of the total.\n",
      "BenefitPackageId column has 0 null values, which is 0.00% of the total.\n",
      "BusinessYear column has 0 null values, which is 0.00% of the total.\n",
      "CSRVariationType column has 0 null values, which is 0.00% of the total.\n",
      "ChildOnlyOffering column has 0 null values, which is 0.00% of the total.\n",
      "DentalOnlyPlan column has 0 null values, which is 0.00% of the total.\n",
      "DiseaseManagementProgramsOffered column has 15387 null values, which is 19.89% of the total.\n",
      "FirstTierUtilization column has 0 null values, which is 0.00% of the total.\n",
      "FormularyId column has 11649 null values, which is 15.06% of the total.\n",
      "FormularyURL column has 11807 null values, which is 15.26% of the total.\n",
      "HIOSProductId column has 0 null values, which is 0.00% of the total.\n",
      "ImportDate column has 0 null values, which is 0.00% of the total.\n",
      "InpatientCopaymentMaximumDays column has 0 null values, which is 0.00% of the total.\n",
      "IsHSAEligible column has 11649 null values, which is 15.06% of the total.\n",
      "IsNewPlan column has 0 null values, which is 0.00% of the total.\n",
      "IsNoticeRequiredForPregnancy column has 11649 null values, which is 15.06% of the total.\n",
      "IsReferralRequiredForSpecialist column has 11649 null values, which is 15.06% of the total.\n",
      "IssuerId column has 0 null values, which is 0.00% of the total.\n",
      "IssuerId2 column has 0 null values, which is 0.00% of the total.\n",
      "MarketCoverage column has 0 null values, which is 0.00% of the total.\n",
      "MedicalDrugDeductiblesIntegrated column has 11649 null values, which is 15.06% of the total.\n",
      "MedicalDrugMaximumOutofPocketIntegrated column has 11649 null values, which is 15.06% of the total.\n",
      "MetalLevel column has 0 null values, which is 0.00% of the total.\n",
      "MultipleInNetworkTiers column has 0 null values, which is 0.00% of the total.\n",
      "NationalNetwork column has 0 null values, which is 0.00% of the total.\n",
      "NetworkId column has 0 null values, which is 0.00% of the total.\n",
      "OutOfCountryCoverage column has 0 null values, which is 0.00% of the total.\n",
      "OutOfServiceAreaCoverage column has 0 null values, which is 0.00% of the total.\n",
      "OutOfServiceAreaCoverageDescription column has 8838 null values, which is 11.43% of the total.\n",
      "PlanBrochure column has 9062 null values, which is 11.72% of the total.\n",
      "PlanEffictiveDate column has 0 null values, which is 0.00% of the total.\n",
      "PlanId column has 0 null values, which is 0.00% of the total.\n",
      "PlanMarketingName column has 0 null values, which is 0.00% of the total.\n",
      "PlanType column has 0 null values, which is 0.00% of the total.\n",
      "QHPNonQHPTypeId column has 0 null values, which is 0.00% of the total.\n",
      "RowNumber column has 0 null values, which is 0.00% of the total.\n",
      "ServiceAreaId column has 0 null values, which is 0.00% of the total.\n",
      "StandardComponentId column has 0 null values, which is 0.00% of the total.\n",
      "StateCode column has 0 null values, which is 0.00% of the total.\n",
      "StateCode2 column has 0 null values, which is 0.00% of the total.\n",
      "TEHBCombInnOonIndividualMOOP column has 12800 null values, which is 16.55% of the total.\n",
      "TEHBInnTier1IndividualMOOP column has 12800 null values, which is 16.55% of the total.\n",
      "TEHBOutOfNetIndividualMOOP column has 12800 null values, which is 16.55% of the total.\n",
      "TIN column has 0 null values, which is 0.00% of the total.\n",
      "UniquePlanDesign column has 11649 null values, which is 15.06% of the total.\n",
      "VersionNum column has 0 null values, which is 0.00% of the total.\n",
      "WellnessProgramOffered column has 11637 null values, which is 15.04% of the total.\n"
     ]
    }
   ],
   "source": [
    "for column in df.columns:\n",
    "    null_count = df[column].isnull().sum()\n",
    "    total_count = len(df[column])\n",
    "    percent_null = (null_count / total_count) * 100\n",
    "    print(f\"{column} column has {null_count} null values, which is {percent_null:.2f}% of the total.\")"
   ]
  },
  {
   "cell_type": "code",
   "execution_count": 21,
   "metadata": {
    "id": "x4QeSNBtSml0"
   },
   "outputs": [
    {
     "name": "stdout",
     "output_type": "stream",
     "text": [
      "['CSRVariationType', 'ChildOnlyOffering', 'DentalOnlyPlan', 'DiseaseManagementProgramsOffered', 'FirstTierUtilization', 'FormularyId', 'FormularyURL', 'HIOSProductId', 'ImportDate', 'IsHSAEligible', 'IsNewPlan', 'IsNoticeRequiredForPregnancy', 'IsReferralRequiredForSpecialist', 'MarketCoverage', 'MedicalDrugDeductiblesIntegrated', 'MedicalDrugMaximumOutofPocketIntegrated', 'MetalLevel', 'MultipleInNetworkTiers', 'NationalNetwork', 'NetworkId', 'OutOfCountryCoverage', 'OutOfServiceAreaCoverage', 'OutOfServiceAreaCoverageDescription', 'PlanBrochure', 'PlanEffictiveDate', 'PlanId', 'PlanMarketingName', 'PlanType', 'QHPNonQHPTypeId', 'ServiceAreaId', 'StandardComponentId', 'StateCode', 'StateCode2', 'TEHBCombInnOonIndividualMOOP', 'TEHBInnTier1IndividualMOOP', 'TEHBOutOfNetIndividualMOOP', 'TIN', 'UniquePlanDesign', 'WellnessProgramOffered']\n"
     ]
    }
   ],
   "source": [
    "non_numeric_columns = df.select_dtypes(exclude='number').columns.tolist()\n",
    "\n",
    "print(non_numeric_columns)"
   ]
  },
  {
   "cell_type": "code",
   "execution_count": 22,
   "metadata": {
    "id": "tSGBV4nGun9g"
   },
   "outputs": [
    {
     "data": {
      "text/plain": [
       "<bound method NDFrame.describe of 0        93-0438772\n",
       "1        93-0438772\n",
       "2        93-0438772\n",
       "3        93-0438772\n",
       "4        93-0438772\n",
       "            ...    \n",
       "77348    13-5123390\n",
       "77349    13-5123390\n",
       "77350    13-5123390\n",
       "77351    13-5123390\n",
       "77352    13-5123390\n",
       "Name: TIN, Length: 77353, dtype: object>"
      ]
     },
     "execution_count": 22,
     "metadata": {},
     "output_type": "execute_result"
    }
   ],
   "source": [
    "df['TIN'].describe"
   ]
  },
  {
   "cell_type": "code",
   "execution_count": 23,
   "metadata": {
    "id": "XcpKzdNfbPBa"
   },
   "outputs": [
    {
     "name": "stdout",
     "output_type": "stream",
     "text": [
      "AK\n",
      "AL\n",
      "AZ\n",
      "FL\n",
      "GA\n",
      "IN\n",
      "LA\n",
      "MO\n",
      "MS\n",
      "NC\n",
      "ND\n",
      "NJ\n",
      "OK\n",
      "PA\n",
      "SC\n",
      "TN\n",
      "TX\n",
      "WI\n",
      "WY\n",
      "NM\n",
      "IL\n",
      "DE\n",
      "MI\n",
      "ME\n",
      "KS\n",
      "MT\n",
      "AR\n",
      "NH\n",
      "VA\n",
      "WV\n",
      "IA\n",
      "ID\n",
      "NE\n",
      "OH\n",
      "SD\n",
      "UT\n",
      "NV\n",
      "OR\n",
      "HI\n"
     ]
    }
   ],
   "source": [
    "for i in df['StateCode'].unique():\n",
    "  print(i)"
   ]
  },
  {
   "cell_type": "code",
   "execution_count": 24,
   "metadata": {
    "id": "gWAF_73RuEB1"
   },
   "outputs": [],
   "source": [
    "state_codes = {\n",
    "    'AK': 1, 'AL': 2, 'AZ': 3, 'FL': 4, 'GA': 5, 'IN': 6, 'LA': 7, 'MO': 8, 'MS': 9, 'NC': 10,\n",
    "    'ND': 11, 'NJ': 12, 'OK': 13, 'PA': 14, 'SC': 15, 'TN': 16, 'TX': 17, 'WI': 18, 'WY': 19, \n",
    "    'NM': 20, 'IL': 21, 'DE': 22, 'MI': 23, 'ME': 24, 'KS': 25, 'MT': 26, 'AR': 27, 'NH': 28, \n",
    "    'VA': 29, 'WV': 30, 'IA': 31, 'ID': 32, 'NE': 33, 'OH': 34, 'SD': 35, 'UT': 36, 'NV': 37,\n",
    "    'OR': 38, 'HI': 39\n",
    "}\n",
    "\n",
    "df['StateCode'] = df['StateCode'].map(state_codes)\n"
   ]
  },
  {
   "cell_type": "code",
   "execution_count": 25,
   "metadata": {
    "id": "UMz_OqUXuYuI"
   },
   "outputs": [],
   "source": [
    "for col in df.columns:\n",
    "    df[col] = df[col].apply(lambda x: str(x))\n",
    "    for state in state_codes:\n",
    "        df[col] = df[col].str.replace(state, str(state_codes[state]) + '000', regex=False)\n",
    "\n"
   ]
  },
  {
   "cell_type": "code",
   "execution_count": 26,
   "metadata": {
    "id": "Bf0Lb0PuzYsc"
   },
   "outputs": [],
   "source": [
    "for i in df['ServiceAreaId'].unique():\n",
    "  df['ServiceAreaId'] = df['ServiceAreaId'].str.replace( i, i[:4] + i[7:])"
   ]
  },
  {
   "cell_type": "code",
   "execution_count": 28,
   "metadata": {
    "id": "1Us23OY-5EJD"
   },
   "outputs": [],
   "source": [
    "# df['ServiceAreaId'].unique()\n",
    "# df['ServiceAreaId'] = df['ServiceAreaId'].astype(int)\n",
    "# df['StateCode'] = df['StateCode'].astype(int)\n",
    "df['ServiceAreaId'] = pd.to_numeric(df['ServiceAreaId'], errors='coerce')\n",
    "df = df.dropna(subset=['ServiceAreaId'])\n",
    "df['ServiceAreaId'] = df['ServiceAreaId'].astype(int)\n",
    "df['ServiceAreaId'] = df['ServiceAreaId'].fillna(-1).astype(int)"
   ]
  },
  {
   "cell_type": "code",
   "execution_count": 29,
   "metadata": {
    "id": "pokGq-mq6xS4"
   },
   "outputs": [
    {
     "data": {
      "text/plain": [
       "0.9999999930600886"
      ]
     },
     "execution_count": 29,
     "metadata": {},
     "output_type": "execute_result"
    }
   ],
   "source": [
    "#df['StateCode'].describe()\n",
    "df['ServiceAreaId'].corr(df['StateCode'])"
   ]
  },
  {
   "cell_type": "code",
   "execution_count": 30,
   "metadata": {
    "id": "T7IJkkKi50WT"
   },
   "outputs": [],
   "source": [
    "df = df[df['ServiceAreaId'] != 'N9001']"
   ]
  },
  {
   "cell_type": "code",
   "execution_count": 31,
   "metadata": {
    "id": "HUG9s0auDisx"
   },
   "outputs": [
    {
     "data": {
      "text/plain": [
       "PlanType\n",
       "PPO          32865\n",
       "H8000        30132\n",
       "POS           8061\n",
       "EPO           5086\n",
       "Indemnity      381\n",
       "Name: count, dtype: int64"
      ]
     },
     "execution_count": 31,
     "metadata": {},
     "output_type": "execute_result"
    }
   ],
   "source": [
    "df['PlanType'].value_counts()"
   ]
  },
  {
   "cell_type": "code",
   "execution_count": 32,
   "metadata": {
    "id": "G3biXzBbDi0T"
   },
   "outputs": [],
   "source": [
    "df['PlanType'] = df['PlanType'].replace({'PPO': 1, 'H8000': 0, 'POS': 2, 'EPO': 3, 'Indemnity': 4})"
   ]
  },
  {
   "cell_type": "code",
   "execution_count": null,
   "metadata": {
    "id": "Cu0vpi7IDi25"
   },
   "outputs": [],
   "source": []
  },
  {
   "cell_type": "code",
   "execution_count": 33,
   "metadata": {
    "id": "-chsV0_MqRPd"
   },
   "outputs": [],
   "source": [
    "df['DentalOnlyPlan'] = df['DentalOnlyPlan'].replace({'Yes': 1, 'No': 0})\n"
   ]
  },
  {
   "cell_type": "code",
   "execution_count": 34,
   "metadata": {
    "id": "lJ1cKJ7kuUJW"
   },
   "outputs": [
    {
     "data": {
      "text/html": [
       "<div>\n",
       "<style scoped>\n",
       "    .dataframe tbody tr th:only-of-type {\n",
       "        vertical-align: middle;\n",
       "    }\n",
       "\n",
       "    .dataframe tbody tr th {\n",
       "        vertical-align: top;\n",
       "    }\n",
       "\n",
       "    .dataframe thead th {\n",
       "        text-align: right;\n",
       "    }\n",
       "</style>\n",
       "<table border=\"1\" class=\"dataframe\">\n",
       "  <thead>\n",
       "    <tr style=\"text-align: right;\">\n",
       "      <th></th>\n",
       "      <th>BeginPrimaryCareCostSharingAfterNumberOfVisits</th>\n",
       "      <th>BeginPrimaryCareDeductibleCoinsuranceAfterNumberOfCopays</th>\n",
       "      <th>BenefitPackageId</th>\n",
       "      <th>BusinessYear</th>\n",
       "      <th>CSRVariationType</th>\n",
       "      <th>ChildOnlyOffering</th>\n",
       "      <th>DentalOnlyPlan</th>\n",
       "      <th>DiseaseManagementProgramsOffered</th>\n",
       "      <th>FirstTierUtilization</th>\n",
       "      <th>FormularyId</th>\n",
       "      <th>...</th>\n",
       "      <th>StandardComponentId</th>\n",
       "      <th>StateCode</th>\n",
       "      <th>StateCode2</th>\n",
       "      <th>TEHBCombInnOonIndividualMOOP</th>\n",
       "      <th>TEHBInnTier1IndividualMOOP</th>\n",
       "      <th>TEHBOutOfNetIndividualMOOP</th>\n",
       "      <th>TIN</th>\n",
       "      <th>UniquePlanDesign</th>\n",
       "      <th>VersionNum</th>\n",
       "      <th>WellnessProgramOffered</th>\n",
       "    </tr>\n",
       "  </thead>\n",
       "  <tbody>\n",
       "    <tr>\n",
       "      <th>0</th>\n",
       "      <td>0</td>\n",
       "      <td>0</td>\n",
       "      <td>1</td>\n",
       "      <td>2014</td>\n",
       "      <td>Standard Low Off Exchange Plan</td>\n",
       "      <td>Allows Adult and Child-Only</td>\n",
       "      <td>1</td>\n",
       "      <td>nan</td>\n",
       "      <td>100%</td>\n",
       "      <td>nan</td>\n",
       "      <td>...</td>\n",
       "      <td>2198910000020002</td>\n",
       "      <td>1</td>\n",
       "      <td>1000</td>\n",
       "      <td>nan</td>\n",
       "      <td>nan</td>\n",
       "      <td>nan</td>\n",
       "      <td>93-0438772</td>\n",
       "      <td>nan</td>\n",
       "      <td>6</td>\n",
       "      <td>nan</td>\n",
       "    </tr>\n",
       "    <tr>\n",
       "      <th>1</th>\n",
       "      <td>0</td>\n",
       "      <td>0</td>\n",
       "      <td>1</td>\n",
       "      <td>2014</td>\n",
       "      <td>Standard Low On Exchange Plan</td>\n",
       "      <td>Allows Adult and Child-Only</td>\n",
       "      <td>1</td>\n",
       "      <td>nan</td>\n",
       "      <td>100%</td>\n",
       "      <td>nan</td>\n",
       "      <td>...</td>\n",
       "      <td>2198910000020002</td>\n",
       "      <td>1</td>\n",
       "      <td>1000</td>\n",
       "      <td>nan</td>\n",
       "      <td>nan</td>\n",
       "      <td>nan</td>\n",
       "      <td>93-0438772</td>\n",
       "      <td>nan</td>\n",
       "      <td>6</td>\n",
       "      <td>nan</td>\n",
       "    </tr>\n",
       "    <tr>\n",
       "      <th>2</th>\n",
       "      <td>0</td>\n",
       "      <td>0</td>\n",
       "      <td>1</td>\n",
       "      <td>2014</td>\n",
       "      <td>Standard High Off Exchange Plan</td>\n",
       "      <td>Allows Adult and Child-Only</td>\n",
       "      <td>1</td>\n",
       "      <td>nan</td>\n",
       "      <td>100%</td>\n",
       "      <td>nan</td>\n",
       "      <td>...</td>\n",
       "      <td>2198910000020001</td>\n",
       "      <td>1</td>\n",
       "      <td>1000</td>\n",
       "      <td>nan</td>\n",
       "      <td>nan</td>\n",
       "      <td>nan</td>\n",
       "      <td>93-0438772</td>\n",
       "      <td>nan</td>\n",
       "      <td>6</td>\n",
       "      <td>nan</td>\n",
       "    </tr>\n",
       "    <tr>\n",
       "      <th>3</th>\n",
       "      <td>0</td>\n",
       "      <td>0</td>\n",
       "      <td>1</td>\n",
       "      <td>2014</td>\n",
       "      <td>Standard Low Off Exchange Plan</td>\n",
       "      <td>Allows Adult and Child-Only</td>\n",
       "      <td>1</td>\n",
       "      <td>nan</td>\n",
       "      <td>100%</td>\n",
       "      <td>nan</td>\n",
       "      <td>...</td>\n",
       "      <td>2198910000010001</td>\n",
       "      <td>1</td>\n",
       "      <td>1000</td>\n",
       "      <td>nan</td>\n",
       "      <td>nan</td>\n",
       "      <td>nan</td>\n",
       "      <td>93-0438772</td>\n",
       "      <td>nan</td>\n",
       "      <td>6</td>\n",
       "      <td>nan</td>\n",
       "    </tr>\n",
       "    <tr>\n",
       "      <th>4</th>\n",
       "      <td>0</td>\n",
       "      <td>0</td>\n",
       "      <td>1</td>\n",
       "      <td>2014</td>\n",
       "      <td>Standard Low On Exchange Plan</td>\n",
       "      <td>Allows Adult and Child-Only</td>\n",
       "      <td>1</td>\n",
       "      <td>nan</td>\n",
       "      <td>100%</td>\n",
       "      <td>nan</td>\n",
       "      <td>...</td>\n",
       "      <td>2198910000010001</td>\n",
       "      <td>1</td>\n",
       "      <td>1000</td>\n",
       "      <td>nan</td>\n",
       "      <td>nan</td>\n",
       "      <td>nan</td>\n",
       "      <td>93-0438772</td>\n",
       "      <td>nan</td>\n",
       "      <td>6</td>\n",
       "      <td>nan</td>\n",
       "    </tr>\n",
       "  </tbody>\n",
       "</table>\n",
       "<p>5 rows × 48 columns</p>\n",
       "</div>"
      ],
      "text/plain": [
       "  BeginPrimaryCareCostSharingAfterNumberOfVisits  \\\n",
       "0                                              0   \n",
       "1                                              0   \n",
       "2                                              0   \n",
       "3                                              0   \n",
       "4                                              0   \n",
       "\n",
       "  BeginPrimaryCareDeductibleCoinsuranceAfterNumberOfCopays BenefitPackageId  \\\n",
       "0                                                  0                      1   \n",
       "1                                                  0                      1   \n",
       "2                                                  0                      1   \n",
       "3                                                  0                      1   \n",
       "4                                                  0                      1   \n",
       "\n",
       "  BusinessYear                 CSRVariationType            ChildOnlyOffering  \\\n",
       "0         2014   Standard Low Off Exchange Plan  Allows Adult and Child-Only   \n",
       "1         2014    Standard Low On Exchange Plan  Allows Adult and Child-Only   \n",
       "2         2014  Standard High Off Exchange Plan  Allows Adult and Child-Only   \n",
       "3         2014   Standard Low Off Exchange Plan  Allows Adult and Child-Only   \n",
       "4         2014    Standard Low On Exchange Plan  Allows Adult and Child-Only   \n",
       "\n",
       "   DentalOnlyPlan DiseaseManagementProgramsOffered FirstTierUtilization  \\\n",
       "0               1                              nan                 100%   \n",
       "1               1                              nan                 100%   \n",
       "2               1                              nan                 100%   \n",
       "3               1                              nan                 100%   \n",
       "4               1                              nan                 100%   \n",
       "\n",
       "  FormularyId  ... StandardComponentId StateCode StateCode2  \\\n",
       "0         nan  ...    2198910000020002         1       1000   \n",
       "1         nan  ...    2198910000020002         1       1000   \n",
       "2         nan  ...    2198910000020001         1       1000   \n",
       "3         nan  ...    2198910000010001         1       1000   \n",
       "4         nan  ...    2198910000010001         1       1000   \n",
       "\n",
       "  TEHBCombInnOonIndividualMOOP TEHBInnTier1IndividualMOOP  \\\n",
       "0                          nan                        nan   \n",
       "1                          nan                        nan   \n",
       "2                          nan                        nan   \n",
       "3                          nan                        nan   \n",
       "4                          nan                        nan   \n",
       "\n",
       "  TEHBOutOfNetIndividualMOOP         TIN UniquePlanDesign VersionNum  \\\n",
       "0                        nan  93-0438772              nan          6   \n",
       "1                        nan  93-0438772              nan          6   \n",
       "2                        nan  93-0438772              nan          6   \n",
       "3                        nan  93-0438772              nan          6   \n",
       "4                        nan  93-0438772              nan          6   \n",
       "\n",
       "  WellnessProgramOffered  \n",
       "0                    nan  \n",
       "1                    nan  \n",
       "2                    nan  \n",
       "3                    nan  \n",
       "4                    nan  \n",
       "\n",
       "[5 rows x 48 columns]"
      ]
     },
     "execution_count": 34,
     "metadata": {},
     "output_type": "execute_result"
    }
   ],
   "source": [
    "df.head()"
   ]
  },
  {
   "cell_type": "code",
   "execution_count": null,
   "metadata": {
    "id": "-fXo0yYouDe0"
   },
   "outputs": [],
   "source": []
  },
  {
   "cell_type": "code",
   "execution_count": 35,
   "metadata": {
    "id": "-jfv7teVqYxJ"
   },
   "outputs": [
    {
     "ename": "ValueError",
     "evalue": "could not convert string to float: 'Standard Low Off Exchange Plan'",
     "output_type": "error",
     "traceback": [
      "\u001b[1;31m---------------------------------------------------------------------------\u001b[0m",
      "\u001b[1;31mValueError\u001b[0m                                Traceback (most recent call last)",
      "Cell \u001b[1;32mIn[35], line 1\u001b[0m\n\u001b[1;32m----> 1\u001b[0m \u001b[43mdf\u001b[49m\u001b[38;5;241;43m.\u001b[39;49m\u001b[43mcorr\u001b[49m\u001b[43m(\u001b[49m\u001b[43m)\u001b[49m\n",
      "File \u001b[1;32mc:\\Users\\tylri\\AppData\\Local\\Programs\\Python\\Python312\\Lib\\site-packages\\pandas\\core\\frame.py:10707\u001b[0m, in \u001b[0;36mDataFrame.corr\u001b[1;34m(self, method, min_periods, numeric_only)\u001b[0m\n\u001b[0;32m  10705\u001b[0m cols \u001b[38;5;241m=\u001b[39m data\u001b[38;5;241m.\u001b[39mcolumns\n\u001b[0;32m  10706\u001b[0m idx \u001b[38;5;241m=\u001b[39m cols\u001b[38;5;241m.\u001b[39mcopy()\n\u001b[1;32m> 10707\u001b[0m mat \u001b[38;5;241m=\u001b[39m \u001b[43mdata\u001b[49m\u001b[38;5;241;43m.\u001b[39;49m\u001b[43mto_numpy\u001b[49m\u001b[43m(\u001b[49m\u001b[43mdtype\u001b[49m\u001b[38;5;241;43m=\u001b[39;49m\u001b[38;5;28;43mfloat\u001b[39;49m\u001b[43m,\u001b[49m\u001b[43m \u001b[49m\u001b[43mna_value\u001b[49m\u001b[38;5;241;43m=\u001b[39;49m\u001b[43mnp\u001b[49m\u001b[38;5;241;43m.\u001b[39;49m\u001b[43mnan\u001b[49m\u001b[43m,\u001b[49m\u001b[43m \u001b[49m\u001b[43mcopy\u001b[49m\u001b[38;5;241;43m=\u001b[39;49m\u001b[38;5;28;43;01mFalse\u001b[39;49;00m\u001b[43m)\u001b[49m\n\u001b[0;32m  10709\u001b[0m \u001b[38;5;28;01mif\u001b[39;00m method \u001b[38;5;241m==\u001b[39m \u001b[38;5;124m\"\u001b[39m\u001b[38;5;124mpearson\u001b[39m\u001b[38;5;124m\"\u001b[39m:\n\u001b[0;32m  10710\u001b[0m     correl \u001b[38;5;241m=\u001b[39m libalgos\u001b[38;5;241m.\u001b[39mnancorr(mat, minp\u001b[38;5;241m=\u001b[39mmin_periods)\n",
      "File \u001b[1;32mc:\\Users\\tylri\\AppData\\Local\\Programs\\Python\\Python312\\Lib\\site-packages\\pandas\\core\\frame.py:1892\u001b[0m, in \u001b[0;36mDataFrame.to_numpy\u001b[1;34m(self, dtype, copy, na_value)\u001b[0m\n\u001b[0;32m   1890\u001b[0m \u001b[38;5;28;01mif\u001b[39;00m dtype \u001b[38;5;129;01mis\u001b[39;00m \u001b[38;5;129;01mnot\u001b[39;00m \u001b[38;5;28;01mNone\u001b[39;00m:\n\u001b[0;32m   1891\u001b[0m     dtype \u001b[38;5;241m=\u001b[39m np\u001b[38;5;241m.\u001b[39mdtype(dtype)\n\u001b[1;32m-> 1892\u001b[0m result \u001b[38;5;241m=\u001b[39m \u001b[38;5;28;43mself\u001b[39;49m\u001b[38;5;241;43m.\u001b[39;49m\u001b[43m_mgr\u001b[49m\u001b[38;5;241;43m.\u001b[39;49m\u001b[43mas_array\u001b[49m\u001b[43m(\u001b[49m\u001b[43mdtype\u001b[49m\u001b[38;5;241;43m=\u001b[39;49m\u001b[43mdtype\u001b[49m\u001b[43m,\u001b[49m\u001b[43m \u001b[49m\u001b[43mcopy\u001b[49m\u001b[38;5;241;43m=\u001b[39;49m\u001b[43mcopy\u001b[49m\u001b[43m,\u001b[49m\u001b[43m \u001b[49m\u001b[43mna_value\u001b[49m\u001b[38;5;241;43m=\u001b[39;49m\u001b[43mna_value\u001b[49m\u001b[43m)\u001b[49m\n\u001b[0;32m   1893\u001b[0m \u001b[38;5;28;01mif\u001b[39;00m result\u001b[38;5;241m.\u001b[39mdtype \u001b[38;5;129;01mis\u001b[39;00m \u001b[38;5;129;01mnot\u001b[39;00m dtype:\n\u001b[0;32m   1894\u001b[0m     result \u001b[38;5;241m=\u001b[39m np\u001b[38;5;241m.\u001b[39marray(result, dtype\u001b[38;5;241m=\u001b[39mdtype, copy\u001b[38;5;241m=\u001b[39m\u001b[38;5;28;01mFalse\u001b[39;00m)\n",
      "File \u001b[1;32mc:\\Users\\tylri\\AppData\\Local\\Programs\\Python\\Python312\\Lib\\site-packages\\pandas\\core\\internals\\managers.py:1656\u001b[0m, in \u001b[0;36mBlockManager.as_array\u001b[1;34m(self, dtype, copy, na_value)\u001b[0m\n\u001b[0;32m   1654\u001b[0m         arr\u001b[38;5;241m.\u001b[39mflags\u001b[38;5;241m.\u001b[39mwriteable \u001b[38;5;241m=\u001b[39m \u001b[38;5;28;01mFalse\u001b[39;00m\n\u001b[0;32m   1655\u001b[0m \u001b[38;5;28;01melse\u001b[39;00m:\n\u001b[1;32m-> 1656\u001b[0m     arr \u001b[38;5;241m=\u001b[39m \u001b[38;5;28;43mself\u001b[39;49m\u001b[38;5;241;43m.\u001b[39;49m\u001b[43m_interleave\u001b[49m\u001b[43m(\u001b[49m\u001b[43mdtype\u001b[49m\u001b[38;5;241;43m=\u001b[39;49m\u001b[43mdtype\u001b[49m\u001b[43m,\u001b[49m\u001b[43m \u001b[49m\u001b[43mna_value\u001b[49m\u001b[38;5;241;43m=\u001b[39;49m\u001b[43mna_value\u001b[49m\u001b[43m)\u001b[49m\n\u001b[0;32m   1657\u001b[0m     \u001b[38;5;66;03m# The underlying data was copied within _interleave, so no need\u001b[39;00m\n\u001b[0;32m   1658\u001b[0m     \u001b[38;5;66;03m# to further copy if copy=True or setting na_value\u001b[39;00m\n\u001b[0;32m   1660\u001b[0m \u001b[38;5;28;01mif\u001b[39;00m na_value \u001b[38;5;129;01mis\u001b[39;00m lib\u001b[38;5;241m.\u001b[39mno_default:\n",
      "File \u001b[1;32mc:\\Users\\tylri\\AppData\\Local\\Programs\\Python\\Python312\\Lib\\site-packages\\pandas\\core\\internals\\managers.py:1715\u001b[0m, in \u001b[0;36mBlockManager._interleave\u001b[1;34m(self, dtype, na_value)\u001b[0m\n\u001b[0;32m   1713\u001b[0m     \u001b[38;5;28;01melse\u001b[39;00m:\n\u001b[0;32m   1714\u001b[0m         arr \u001b[38;5;241m=\u001b[39m blk\u001b[38;5;241m.\u001b[39mget_values(dtype)\n\u001b[1;32m-> 1715\u001b[0m     \u001b[43mresult\u001b[49m\u001b[43m[\u001b[49m\u001b[43mrl\u001b[49m\u001b[38;5;241;43m.\u001b[39;49m\u001b[43mindexer\u001b[49m\u001b[43m]\u001b[49m \u001b[38;5;241m=\u001b[39m arr\n\u001b[0;32m   1716\u001b[0m     itemmask[rl\u001b[38;5;241m.\u001b[39mindexer] \u001b[38;5;241m=\u001b[39m \u001b[38;5;241m1\u001b[39m\n\u001b[0;32m   1718\u001b[0m \u001b[38;5;28;01mif\u001b[39;00m \u001b[38;5;129;01mnot\u001b[39;00m itemmask\u001b[38;5;241m.\u001b[39mall():\n",
      "\u001b[1;31mValueError\u001b[0m: could not convert string to float: 'Standard Low Off Exchange Plan'"
     ]
    }
   ],
   "source": [
    "numeric_df = df.select_dtypes(include=[np.number])\n",
    "numeric_df.corr()"
   ]
  },
  {
   "cell_type": "code",
   "execution_count": null,
   "metadata": {
    "id": "y4MaiY4usfMY"
   },
   "outputs": [],
   "source": []
  },
  {
   "cell_type": "code",
   "execution_count": null,
   "metadata": {
    "id": "nWpUvYqtsfO9"
   },
   "outputs": [],
   "source": []
  },
  {
   "cell_type": "code",
   "execution_count": null,
   "metadata": {
    "id": "ABnC5t14sfRF"
   },
   "outputs": [],
   "source": []
  },
  {
   "cell_type": "code",
   "execution_count": null,
   "metadata": {
    "id": "VK2MkuhLsfUw"
   },
   "outputs": [],
   "source": []
  },
  {
   "cell_type": "code",
   "execution_count": null,
   "metadata": {
    "id": "diHyNSodsfYO"
   },
   "outputs": [],
   "source": []
  },
  {
   "cell_type": "code",
   "execution_count": null,
   "metadata": {
    "id": "p87or8_NpR4G"
   },
   "outputs": [],
   "source": [
    "df_original = df"
   ]
  },
  {
   "cell_type": "code",
   "execution_count": null,
   "metadata": {
    "id": "5ipelnIHxNym"
   },
   "outputs": [],
   "source": [
    "df_original.head()"
   ]
  },
  {
   "cell_type": "code",
   "execution_count": null,
   "metadata": {
    "id": "ZU4cBKs1sfCh"
   },
   "outputs": [],
   "source": [
    "csv = df_original.to_csv(index=False)\n"
   ]
  },
  {
   "cell_type": "code",
   "execution_count": null,
   "metadata": {
    "id": "NZLrH-6CTqVV"
   },
   "outputs": [],
   "source": [
    "from google.colab import files\n",
    "\n",
    "# generate and save the CSV file\n",
    "csv_data = df.to_csv(index=False)\n",
    "with open('data.csv', 'w') as f:\n",
    "    f.write(csv_data)\n",
    "\n",
    "# download the CSV file to your local machine\n",
    "files.download('data.csv')\n"
   ]
  },
  {
   "cell_type": "code",
   "execution_count": null,
   "metadata": {
    "id": "H9IDheLiWkf9"
   },
   "outputs": [],
   "source": [
    "for i in non_numeric_columns:\n",
    "  df[i] = pd.to_numeric(df[i], errors='coerce')\n"
   ]
  },
  {
   "cell_type": "code",
   "execution_count": null,
   "metadata": {
    "id": "JYvWxS-khPmr"
   },
   "outputs": [],
   "source": [
    "import numpy as np\n",
    "import pandas as pd\n",
    "from  matplotlib import pyplot\n",
    "import seaborn as sns"
   ]
  },
  {
   "cell_type": "code",
   "execution_count": null,
   "metadata": {
    "id": "x6hsgqN4jky-"
   },
   "outputs": [],
   "source": [
    "rate_chunks = pd.read_csv(\"data.csv\",iterator=True,chunksize = 1000)\n",
    "rates = pd.concat(chunk for chunk in rate_chunks)"
   ]
  },
  {
   "cell_type": "code",
   "execution_count": null,
   "metadata": {
    "id": "7oDHZKcWjvPV"
   },
   "outputs": [],
   "source": [
    "rates.head(10)"
   ]
  },
  {
   "cell_type": "code",
   "execution_count": null,
   "metadata": {
    "id": "FROk0aGAj1tm"
   },
   "outputs": [],
   "source": [
    "print(rates.describe())"
   ]
  },
  {
   "cell_type": "code",
   "execution_count": null,
   "metadata": {
    "id": "bLbl0Ne4h8cN"
   },
   "outputs": [],
   "source": [
    "!pip install pandas-profiling"
   ]
  },
  {
   "cell_type": "code",
   "execution_count": null,
   "metadata": {
    "id": "f-bp_IENj8eh"
   },
   "outputs": [],
   "source": [
    "from pandas_profiling import ProfileReport "
   ]
  },
  {
   "cell_type": "code",
   "execution_count": null,
   "metadata": {
    "id": "1lfyFEiBu4qm"
   },
   "outputs": [],
   "source": [
    "df = pd.read_csv(\"data.csv\")"
   ]
  },
  {
   "cell_type": "code",
   "execution_count": null,
   "metadata": {
    "id": "EqfGQKsBh30X"
   },
   "outputs": [],
   "source": [
    "df.head()"
   ]
  },
  {
   "cell_type": "code",
   "execution_count": null,
   "metadata": {
    "id": "SOuzKYN3jS9k"
   },
   "outputs": [],
   "source": [
    "df['ChildOnlyOffering'] = df['ChildOnlyOffering'].replace(['Allows Adult and Child-Only', 'Allows Adult and Child-only'], 'Allows Adult and Child-Only')\n",
    "df['ChildOnlyOffering'] = df['ChildOnlyOffering'].replace('Allows Child-Only', 'Child-Only')\n",
    "df['ChildOnlyOffering'] = df['ChildOnlyOffering'].replace('Allows Adult-Only', 'Adult-Only')"
   ]
  },
  {
   "cell_type": "code",
   "execution_count": null,
   "metadata": {
    "id": "JvRt3VcXqIMV"
   },
   "outputs": [],
   "source": [
    "df = pd.get_dummies(df, columns=[\"ChildOnlyOffering\"], prefix=[\"ChildOnlyOffering\"])"
   ]
  },
  {
   "cell_type": "code",
   "execution_count": null,
   "metadata": {
    "id": "TwCFBbt5rZJv"
   },
   "outputs": [],
   "source": [
    "df.columns"
   ]
  },
  {
   "cell_type": "code",
   "execution_count": null,
   "metadata": {
    "id": "IKgDaUx5k98H"
   },
   "outputs": [],
   "source": [
    "df = df.drop('BeginPrimaryCareCostSharingAfterNumberOfVisits', axis=1)"
   ]
  },
  {
   "cell_type": "code",
   "execution_count": null,
   "metadata": {
    "id": "bzQrbXZxla8d"
   },
   "outputs": [],
   "source": [
    "df = df.drop('BeginPrimaryCareDeductibleCoinsuranceAfterNumberOfCopays', axis=1)"
   ]
  },
  {
   "cell_type": "code",
   "execution_count": null,
   "metadata": {
    "id": "SjFoq_bOrlUW"
   },
   "outputs": [],
   "source": [
    "df = df.drop('BusinessYear', axis=1)"
   ]
  },
  {
   "cell_type": "code",
   "execution_count": null,
   "metadata": {
    "id": "ImzkLhhXroO5"
   },
   "outputs": [],
   "source": [
    "df = df.drop('BenefitPackageId', axis=1)"
   ]
  },
  {
   "cell_type": "code",
   "execution_count": null,
   "metadata": {
    "id": "cMZ_pmTWlbL-"
   },
   "outputs": [],
   "source": [
    "df['CSRVariationType'].value_counts()"
   ]
  },
  {
   "cell_type": "code",
   "execution_count": null,
   "metadata": {
    "id": "Z8ulIr_LrkpY"
   },
   "outputs": [],
   "source": [
    "df['CSRVariationType'].isnull().sum()\n"
   ]
  },
  {
   "cell_type": "code",
   "execution_count": null,
   "metadata": {
    "id": "h2YsfAuml_rC"
   },
   "outputs": [],
   "source": [
    "df.dropna(subset=['CSRVariationType'], inplace=True)\n"
   ]
  },
  {
   "cell_type": "code",
   "execution_count": null,
   "metadata": {
    "id": "OLMdbXnimSTJ"
   },
   "outputs": [],
   "source": [
    "df.dropna(subset=['CSRVariationType'], inplace=True)\n"
   ]
  },
  {
   "cell_type": "code",
   "execution_count": null,
   "metadata": {
    "id": "TO3vTr0isOJ4"
   },
   "outputs": [],
   "source": [
    "df['CSRVariationType'].unique()\n"
   ]
  },
  {
   "cell_type": "code",
   "execution_count": null,
   "metadata": {
    "id": "TZuxtVKcsSZ2"
   },
   "outputs": [],
   "source": [
    "dummies = pd.get_dummies(df['CSRVariationType'], prefix='CSRVariationType')\n",
    "df = pd.concat([df, dummies], axis=1)\n"
   ]
  },
  {
   "cell_type": "code",
   "execution_count": null,
   "metadata": {
    "id": "8-evBgaPsbep"
   },
   "outputs": [],
   "source": [
    "df.drop('DiseaseManagementProgramsOffered', axis=1, inplace=True)\n"
   ]
  },
  {
   "cell_type": "code",
   "execution_count": null,
   "metadata": {
    "id": "vy6f8d1Asi_3"
   },
   "outputs": [],
   "source": [
    "df.columns"
   ]
  },
  {
   "cell_type": "code",
   "execution_count": null,
   "metadata": {
    "id": "6j9F85xAsq0p"
   },
   "outputs": [],
   "source": [
    "df['FirstTierUtilization'].value_counts()"
   ]
  },
  {
   "cell_type": "code",
   "execution_count": null,
   "metadata": {
    "id": "aa0-A1ftvNSF"
   },
   "outputs": [],
   "source": [
    "df['FirstTierUtilization'] = df['FirstTierUtilization'].str.strip()"
   ]
  },
  {
   "cell_type": "code",
   "execution_count": null,
   "metadata": {
    "id": "B_h_x4JGvlGL"
   },
   "outputs": [],
   "source": [
    "def clean_percentage(x):\n",
    "    return float(x.strip(\"%\"))\n",
    "\n",
    "df['FirstTierUtilization'] = df['FirstTierUtilization'].apply(clean_percentage)\n"
   ]
  },
  {
   "cell_type": "code",
   "execution_count": null,
   "metadata": {
    "id": "a98JX0VSvPvP"
   },
   "outputs": [],
   "source": [
    "df['FirstTierUtilization'].value_counts()"
   ]
  },
  {
   "cell_type": "code",
   "execution_count": null,
   "metadata": {
    "id": "EzN_JZZduTCL"
   },
   "outputs": [],
   "source": [
    "from scipy import stats\n",
    "\n",
    "\n",
    "z_scores = stats.zscore(df['FirstTierUtilization'])\n",
    "abs_z_scores = np.abs(z_scores)\n",
    "outlier_threshold = 3\n",
    "outlier_indices = np.where(abs_z_scores > outlier_threshold)[0]\n",
    "df = df.drop(df.index[outlier_indices])\n"
   ]
  },
  {
   "cell_type": "code",
   "execution_count": null,
   "metadata": {
    "id": "dy03RrvAwNi9"
   },
   "outputs": [],
   "source": [
    "# Convert the column to a numeric data type\n",
    "df['FirstTierUtilization'] = pd.to_numeric(df['FirstTierUtilization'], errors='coerce')\n",
    "\n",
    "# Impute missing values with the median value\n",
    "median_value = df['FirstTierUtilization'].median()\n",
    "df['FirstTierUtilization'] = df['FirstTierUtilization'].fillna(median_value)\n"
   ]
  },
  {
   "cell_type": "code",
   "execution_count": null,
   "metadata": {
    "id": "6U40VeGdwU7u"
   },
   "outputs": [],
   "source": [
    "one_hot_df = pd.get_dummies(df['FirstTierUtilization'], prefix='FirstTierUtilization')\n",
    "df = pd.concat([df, one_hot_df], axis=1)\n",
    "df = df.drop(['FirstTierUtilization'], axis=1)\n"
   ]
  },
  {
   "cell_type": "code",
   "execution_count": null,
   "metadata": {
    "id": "oQm5Sj_bw91D"
   },
   "outputs": [],
   "source": [
    "df = df.drop(['FormularyId'], axis=1)"
   ]
  },
  {
   "cell_type": "code",
   "execution_count": null,
   "metadata": {
    "id": "y_Wjlh9hxNWU"
   },
   "outputs": [],
   "source": [
    "cols_to_drop = df.filter(regex='^FirstTierUtilization').columns\n",
    "df = df.drop(cols_to_drop, axis=1)\n"
   ]
  },
  {
   "cell_type": "code",
   "execution_count": null,
   "metadata": {
    "id": "y1Ne2ZvowdQs"
   },
   "outputs": [],
   "source": [
    "df.columns"
   ]
  },
  {
   "cell_type": "code",
   "execution_count": null,
   "metadata": {
    "id": "gjz24lMAxXIs"
   },
   "outputs": [],
   "source": [
    "df['HIOSProductId'].value_counts()"
   ]
  },
  {
   "cell_type": "code",
   "execution_count": null,
   "metadata": {
    "id": "C07MkUX936xV"
   },
   "outputs": [],
   "source": [
    "import re\n",
    "\n",
    "# Remove any non-numeric characters\n",
    "df['HIOSProductId'] = df['HIOSProductId'].apply(lambda x: re.sub('[^0-9]', '', str(x)))\n",
    "\n",
    "# Pad the values with leading zeros to a fixed length of 13\n",
    "df['HIOSProductId'] = df['HIOSProductId'].apply(lambda x: x.zfill(13))\n",
    "\n"
   ]
  },
  {
   "cell_type": "code",
   "execution_count": null,
   "metadata": {
    "id": "6x5B4UjIMjS_"
   },
   "outputs": [],
   "source": [
    "df['HIOSProductId'] = df['HIOSProductId'].fillna(0)"
   ]
  },
  {
   "cell_type": "code",
   "execution_count": null,
   "metadata": {
    "id": "0shHs60y0m4U"
   },
   "outputs": [],
   "source": [
    "import re\n",
    "\n",
    "df['HIOSProductId'] = df['HIOSProductId'].apply(lambda x: re.sub('[^0-9]', '', str(x))).astype(int)\n",
    "\n"
   ]
  },
  {
   "cell_type": "code",
   "execution_count": null,
   "metadata": {
    "id": "3rr4jmxOZ1tk"
   },
   "outputs": [],
   "source": [
    "df.drop_duplicates(subset='HIOSProductId', keep='first', inplace=True)\n"
   ]
  },
  {
   "cell_type": "code",
   "execution_count": null,
   "metadata": {
    "id": "HvEOtaXoZ3mI"
   },
   "outputs": [],
   "source": [
    "# Filter out values that are less than 12 or greater than 14 digits long\n",
    "df = df[df['HIOSProductId'].apply(lambda x: len(str(x))) >= 12]\n",
    "df = df[df['HIOSProductId'].apply(lambda x: len(str(x))) <= 14]\n",
    "\n",
    "# Filter out values that are outside a specific range\n",
    "df = df[(df['HIOSProductId'] >= 1000000000000) & (df['HIOSProductId'] <= 9999999999999)]\n"
   ]
  },
  {
   "cell_type": "code",
   "execution_count": null,
   "metadata": {
    "id": "UkFvCrG2Z8gI"
   },
   "outputs": [],
   "source": [
    "import matplotlib.pyplot as plt\n",
    "\n",
    "# Create a histogram of the 'HIOSProductId' column\n",
    "plt.hist(df['HIOSProductId'], bins=100)\n",
    "plt.show()\n",
    "\n",
    "# Create a box plot of the 'HIOSProductId' column\n",
    "plt.boxplot(df['HIOSProductId'])\n",
    "plt.show()\n"
   ]
  },
  {
   "cell_type": "code",
   "execution_count": null,
   "metadata": {
    "id": "ZZ_6XpMFaiKz"
   },
   "outputs": [],
   "source": [
    "df.columns"
   ]
  },
  {
   "cell_type": "code",
   "execution_count": null,
   "metadata": {
    "id": "7VphDGRdapEd"
   },
   "outputs": [],
   "source": [
    "df['IsNewPlan'].value_counts()"
   ]
  },
  {
   "cell_type": "code",
   "execution_count": null,
   "metadata": {
    "id": "cJwUlGFCiEet"
   },
   "outputs": [],
   "source": [
    "one_hot_df = pd.get_dummies(df['IsNewPlan'], prefix='IsNewPlan')\n",
    "df = pd.concat([df, one_hot_df], axis=1)\n",
    "df = df.drop(['IsNewPlan'], axis=1)"
   ]
  },
  {
   "cell_type": "code",
   "execution_count": null,
   "metadata": {
    "id": "2uzJSKf5fSWw"
   },
   "outputs": [],
   "source": [
    "df.columns"
   ]
  },
  {
   "cell_type": "code",
   "execution_count": null,
   "metadata": {
    "id": "zuYcHZdJyscS"
   },
   "outputs": [],
   "source": [
    "df['IssuerId'].value_counts()"
   ]
  },
  {
   "cell_type": "code",
   "execution_count": null,
   "metadata": {
    "id": "xBrrW-vQr5Y5"
   },
   "outputs": [],
   "source": [
    "issuer_counts = df['IssuerId'].value_counts()\n",
    "print(issuer_counts)\n",
    "issuer_stats = df['IssuerId'].describe()\n",
    "print(issuer_stats)\n"
   ]
  },
  {
   "cell_type": "code",
   "execution_count": null,
   "metadata": {
    "id": "49uGU-ySjReH"
   },
   "outputs": [],
   "source": [
    "#scaling as we need issure id as feature in content based filtering system"
   ]
  },
  {
   "cell_type": "code",
   "execution_count": null,
   "metadata": {
    "id": "KlUhw4P7jpFg"
   },
   "outputs": [],
   "source": [
    "from sklearn.preprocessing import MinMaxScaler\n",
    "scaler = MinMaxScaler()\n",
    "df['IssuerId_scaled'] = scaler.fit_transform(df[['IssuerId']])"
   ]
  },
  {
   "cell_type": "code",
   "execution_count": null,
   "metadata": {
    "id": "nwKnc1bejw7O"
   },
   "outputs": [],
   "source": [
    "# replace IssuerId column with scaled values\n",
    "df = df.replace({'IssuerId': df['IssuerId'].values}, {'IssuerId': df['IssuerId_scaled'].values})\n"
   ]
  },
  {
   "cell_type": "code",
   "execution_count": null,
   "metadata": {
    "id": "R2DyjsTCkK5a"
   },
   "outputs": [],
   "source": [
    "df['IssuerId']"
   ]
  },
  {
   "cell_type": "code",
   "execution_count": null,
   "metadata": {
    "id": "9HvLdVW2l5z0"
   },
   "outputs": [],
   "source": [
    "df['MarketCoverage'].value_counts()"
   ]
  },
  {
   "cell_type": "code",
   "execution_count": null,
   "metadata": {
    "id": "KrYocr5OmE8n"
   },
   "outputs": [],
   "source": [
    "df['MarketCoverage'].isnull().sum()"
   ]
  },
  {
   "cell_type": "code",
   "execution_count": null,
   "metadata": {
    "id": "uszkItzumc2i"
   },
   "outputs": [],
   "source": [
    "df['MarketCoverage'].describe()"
   ]
  },
  {
   "cell_type": "code",
   "execution_count": null,
   "metadata": {
    "id": "CZjxNrQkmfWC"
   },
   "outputs": [],
   "source": [
    "df['MarketCoverage'] = df['MarketCoverage'].replace({'SHOP (Small Group)': 'Small Group'})\n",
    "\n",
    "# Encode categorical data as binary variables\n",
    "df['MarketCoverage'] = df['MarketCoverage'].map({'Individual': 0, 'Small Group': 1})"
   ]
  },
  {
   "cell_type": "code",
   "execution_count": null,
   "metadata": {
    "id": "PKHmnK4PkMOJ"
   },
   "outputs": [],
   "source": [
    "df.columns"
   ]
  },
  {
   "cell_type": "code",
   "execution_count": null,
   "metadata": {
    "id": "yINT5C0QqbKB"
   },
   "outputs": [],
   "source": [
    "df['MetalLevel'].describe()"
   ]
  },
  {
   "cell_type": "code",
   "execution_count": null,
   "metadata": {
    "id": "6Bc9RaU2qrTX"
   },
   "outputs": [],
   "source": [
    "df['MetalLevel'].isnull().sum()"
   ]
  },
  {
   "cell_type": "code",
   "execution_count": null,
   "metadata": {
    "id": "mjoRh1irjsfo"
   },
   "outputs": [],
   "source": [
    "df_copy = df #checkpoint"
   ]
  },
  {
   "cell_type": "code",
   "execution_count": null,
   "metadata": {
    "id": "uhFJ54KQwgEz"
   },
   "outputs": [],
   "source": [
    "df = df_copy"
   ]
  },
  {
   "cell_type": "code",
   "execution_count": null,
   "metadata": {
    "id": "fPpY7QaNqwCg"
   },
   "outputs": [],
   "source": [
    "df['MetalLevel'] = df['MetalLevel'].replace({'Catastrophic': 'Other'})\n",
    "\n",
    "# Normalize the data using one-hot encoding\n",
    "metal_dummies = pd.get_dummies(df['MetalLevel'], prefix='Metal')\n",
    "df = pd.concat([df, metal_dummies], axis=1)\n",
    "\n",
    "# Drop the original \"MetalLevel\" column\n",
    "df = df.drop('MetalLevel', axis=1)"
   ]
  },
  {
   "cell_type": "code",
   "execution_count": null,
   "metadata": {
    "id": "Lb42dQabsbln"
   },
   "outputs": [],
   "source": [
    "df['NetworkId'].describe()"
   ]
  },
  {
   "cell_type": "code",
   "execution_count": null,
   "metadata": {
    "id": "pz0XbfnysdiJ"
   },
   "outputs": [],
   "source": [
    "df[\"NetworkId\"] = df[\"NetworkId\"].str.strip()"
   ]
  },
  {
   "cell_type": "code",
   "execution_count": null,
   "metadata": {
    "id": "KmbKPB3zuHft"
   },
   "outputs": [],
   "source": [
    "df[\"NetworkId\"] = pd.Categorical(df[\"NetworkId\"])"
   ]
  },
  {
   "cell_type": "code",
   "execution_count": null,
   "metadata": {
    "id": "bgD8F-sNuKkz"
   },
   "outputs": [],
   "source": [
    "df.columns"
   ]
  },
  {
   "cell_type": "code",
   "execution_count": null,
   "metadata": {
    "id": "cUbArcEnuMLA"
   },
   "outputs": [],
   "source": [
    "df['WellnessProgramOffered'].value_counts()"
   ]
  },
  {
   "cell_type": "code",
   "execution_count": null,
   "metadata": {
    "id": "M76wQYt3wPRr"
   },
   "outputs": [],
   "source": [
    "df['WellnessProgramOffered'] = df['WellnessProgramOffered'].replace({'Yes': 1, 'No': 0})"
   ]
  },
  {
   "cell_type": "code",
   "execution_count": null,
   "metadata": {
    "id": "EZvVDfIfwBpY"
   },
   "outputs": [],
   "source": [
    "df['ServiceAreaId'].describe()"
   ]
  },
  {
   "cell_type": "code",
   "execution_count": null,
   "metadata": {
    "id": "cxaeepXCxDfg"
   },
   "outputs": [],
   "source": [
    "df_copy = df"
   ]
  },
  {
   "cell_type": "code",
   "execution_count": null,
   "metadata": {
    "id": "ruukryArzc6M"
   },
   "outputs": [],
   "source": [
    "df.shape"
   ]
  },
  {
   "cell_type": "code",
   "execution_count": null,
   "metadata": {
    "id": "TAa9Fom5zr4F"
   },
   "outputs": [],
   "source": [
    "from google.colab import files\n",
    "\n",
    "# generate and save the CSV file\n",
    "csv_data = df.to_csv(index=False)\n",
    "with open('data_cleaned.csv', 'w') as f:\n",
    "    f.write(csv_data)\n",
    "\n",
    "# download the CSV file to your local machine\n",
    "files.download('data_cleaned.csv')"
   ]
  },
  {
   "cell_type": "code",
   "execution_count": null,
   "metadata": {
    "id": "gUE3dQpY0BvZ"
   },
   "outputs": [],
   "source": []
  }
 ],
 "metadata": {
  "colab": {
   "provenance": []
  },
  "kernelspec": {
   "display_name": "Python 3 (ipykernel)",
   "language": "python",
   "name": "python3"
  },
  "language_info": {
   "codemirror_mode": {
    "name": "ipython",
    "version": 3
   },
   "file_extension": ".py",
   "mimetype": "text/x-python",
   "name": "python",
   "nbconvert_exporter": "python",
   "pygments_lexer": "ipython3",
   "version": "3.9.12"
  }
 },
 "nbformat": 4,
 "nbformat_minor": 1
}
